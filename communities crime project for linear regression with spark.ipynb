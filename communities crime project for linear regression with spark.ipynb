{
 "cells": [
  {
   "cell_type": "code",
   "execution_count": 1,
   "metadata": {},
   "outputs": [],
   "source": [
    "import numpy as np\n",
    "from pandas import read_csv\n",
    "import matplotlib.pyplot as plt\n"
   ]
  },
  {
   "cell_type": "code",
   "execution_count": 2,
   "metadata": {},
   "outputs": [],
   "source": [
    "attrib = read_csv('attributes.csv', delim_whitespace = True)"
   ]
  },
  {
   "cell_type": "code",
   "execution_count": 3,
   "metadata": {},
   "outputs": [],
   "source": [
    "data = read_csv('communities_crime.csv',names = attrib['attributes'])"
   ]
  },
  {
   "cell_type": "code",
   "execution_count": 4,
   "metadata": {},
   "outputs": [
    {
     "data": {
      "text/html": [
       "<div>\n",
       "<style scoped>\n",
       "    .dataframe tbody tr th:only-of-type {\n",
       "        vertical-align: middle;\n",
       "    }\n",
       "\n",
       "    .dataframe tbody tr th {\n",
       "        vertical-align: top;\n",
       "    }\n",
       "\n",
       "    .dataframe thead th {\n",
       "        text-align: right;\n",
       "    }\n",
       "</style>\n",
       "<table border=\"1\" class=\"dataframe\">\n",
       "  <thead>\n",
       "    <tr style=\"text-align: right;\">\n",
       "      <th></th>\n",
       "      <th>state</th>\n",
       "      <th>county</th>\n",
       "      <th>community</th>\n",
       "      <th>communityname</th>\n",
       "      <th>fold</th>\n",
       "      <th>population</th>\n",
       "      <th>householdsize</th>\n",
       "      <th>racepctblack</th>\n",
       "      <th>racePctWhite</th>\n",
       "      <th>racePctAsian</th>\n",
       "      <th>...</th>\n",
       "      <th>LandArea</th>\n",
       "      <th>PopDens</th>\n",
       "      <th>PctUsePubTrans</th>\n",
       "      <th>PolicCars</th>\n",
       "      <th>PolicOperBudg</th>\n",
       "      <th>LemasPctPolicOnPatr</th>\n",
       "      <th>LemasGangUnitDeploy</th>\n",
       "      <th>LemasPctOfficDrugUn</th>\n",
       "      <th>PolicBudgPerPop</th>\n",
       "      <th>ViolentCrimesPerPop</th>\n",
       "    </tr>\n",
       "  </thead>\n",
       "  <tbody>\n",
       "    <tr>\n",
       "      <th>0</th>\n",
       "      <td>8</td>\n",
       "      <td>?</td>\n",
       "      <td>?</td>\n",
       "      <td>Lakewoodcity</td>\n",
       "      <td>1</td>\n",
       "      <td>0.19</td>\n",
       "      <td>0.33</td>\n",
       "      <td>0.02</td>\n",
       "      <td>0.90</td>\n",
       "      <td>0.12</td>\n",
       "      <td>...</td>\n",
       "      <td>0.12</td>\n",
       "      <td>0.26</td>\n",
       "      <td>0.20</td>\n",
       "      <td>0.06</td>\n",
       "      <td>0.04</td>\n",
       "      <td>0.9</td>\n",
       "      <td>0.5</td>\n",
       "      <td>0.32</td>\n",
       "      <td>0.14</td>\n",
       "      <td>0.20</td>\n",
       "    </tr>\n",
       "    <tr>\n",
       "      <th>1</th>\n",
       "      <td>53</td>\n",
       "      <td>?</td>\n",
       "      <td>?</td>\n",
       "      <td>Tukwilacity</td>\n",
       "      <td>1</td>\n",
       "      <td>0.00</td>\n",
       "      <td>0.16</td>\n",
       "      <td>0.12</td>\n",
       "      <td>0.74</td>\n",
       "      <td>0.45</td>\n",
       "      <td>...</td>\n",
       "      <td>0.02</td>\n",
       "      <td>0.12</td>\n",
       "      <td>0.45</td>\n",
       "      <td>?</td>\n",
       "      <td>?</td>\n",
       "      <td>?</td>\n",
       "      <td>?</td>\n",
       "      <td>0.00</td>\n",
       "      <td>?</td>\n",
       "      <td>0.67</td>\n",
       "    </tr>\n",
       "    <tr>\n",
       "      <th>2</th>\n",
       "      <td>24</td>\n",
       "      <td>?</td>\n",
       "      <td>?</td>\n",
       "      <td>Aberdeentown</td>\n",
       "      <td>1</td>\n",
       "      <td>0.00</td>\n",
       "      <td>0.42</td>\n",
       "      <td>0.49</td>\n",
       "      <td>0.56</td>\n",
       "      <td>0.17</td>\n",
       "      <td>...</td>\n",
       "      <td>0.01</td>\n",
       "      <td>0.21</td>\n",
       "      <td>0.02</td>\n",
       "      <td>?</td>\n",
       "      <td>?</td>\n",
       "      <td>?</td>\n",
       "      <td>?</td>\n",
       "      <td>0.00</td>\n",
       "      <td>?</td>\n",
       "      <td>0.43</td>\n",
       "    </tr>\n",
       "    <tr>\n",
       "      <th>3</th>\n",
       "      <td>34</td>\n",
       "      <td>5</td>\n",
       "      <td>81440</td>\n",
       "      <td>Willingborotownship</td>\n",
       "      <td>1</td>\n",
       "      <td>0.04</td>\n",
       "      <td>0.77</td>\n",
       "      <td>1.00</td>\n",
       "      <td>0.08</td>\n",
       "      <td>0.12</td>\n",
       "      <td>...</td>\n",
       "      <td>0.02</td>\n",
       "      <td>0.39</td>\n",
       "      <td>0.28</td>\n",
       "      <td>?</td>\n",
       "      <td>?</td>\n",
       "      <td>?</td>\n",
       "      <td>?</td>\n",
       "      <td>0.00</td>\n",
       "      <td>?</td>\n",
       "      <td>0.12</td>\n",
       "    </tr>\n",
       "    <tr>\n",
       "      <th>4</th>\n",
       "      <td>42</td>\n",
       "      <td>95</td>\n",
       "      <td>6096</td>\n",
       "      <td>Bethlehemtownship</td>\n",
       "      <td>1</td>\n",
       "      <td>0.01</td>\n",
       "      <td>0.55</td>\n",
       "      <td>0.02</td>\n",
       "      <td>0.95</td>\n",
       "      <td>0.09</td>\n",
       "      <td>...</td>\n",
       "      <td>0.04</td>\n",
       "      <td>0.09</td>\n",
       "      <td>0.02</td>\n",
       "      <td>?</td>\n",
       "      <td>?</td>\n",
       "      <td>?</td>\n",
       "      <td>?</td>\n",
       "      <td>0.00</td>\n",
       "      <td>?</td>\n",
       "      <td>0.03</td>\n",
       "    </tr>\n",
       "  </tbody>\n",
       "</table>\n",
       "<p>5 rows × 128 columns</p>\n",
       "</div>"
      ],
      "text/plain": [
       "   state county community        communityname  fold  population  \\\n",
       "0      8      ?         ?         Lakewoodcity     1        0.19   \n",
       "1     53      ?         ?          Tukwilacity     1        0.00   \n",
       "2     24      ?         ?         Aberdeentown     1        0.00   \n",
       "3     34      5     81440  Willingborotownship     1        0.04   \n",
       "4     42     95      6096    Bethlehemtownship     1        0.01   \n",
       "\n",
       "   householdsize  racepctblack  racePctWhite  racePctAsian  ...  LandArea  \\\n",
       "0           0.33          0.02          0.90          0.12  ...      0.12   \n",
       "1           0.16          0.12          0.74          0.45  ...      0.02   \n",
       "2           0.42          0.49          0.56          0.17  ...      0.01   \n",
       "3           0.77          1.00          0.08          0.12  ...      0.02   \n",
       "4           0.55          0.02          0.95          0.09  ...      0.04   \n",
       "\n",
       "   PopDens  PctUsePubTrans  PolicCars  PolicOperBudg  LemasPctPolicOnPatr  \\\n",
       "0     0.26            0.20       0.06           0.04                  0.9   \n",
       "1     0.12            0.45          ?              ?                    ?   \n",
       "2     0.21            0.02          ?              ?                    ?   \n",
       "3     0.39            0.28          ?              ?                    ?   \n",
       "4     0.09            0.02          ?              ?                    ?   \n",
       "\n",
       "   LemasGangUnitDeploy  LemasPctOfficDrugUn  PolicBudgPerPop  \\\n",
       "0                  0.5                 0.32             0.14   \n",
       "1                    ?                 0.00                ?   \n",
       "2                    ?                 0.00                ?   \n",
       "3                    ?                 0.00                ?   \n",
       "4                    ?                 0.00                ?   \n",
       "\n",
       "   ViolentCrimesPerPop  \n",
       "0                 0.20  \n",
       "1                 0.67  \n",
       "2                 0.43  \n",
       "3                 0.12  \n",
       "4                 0.03  \n",
       "\n",
       "[5 rows x 128 columns]"
      ]
     },
     "execution_count": 4,
     "metadata": {},
     "output_type": "execute_result"
    }
   ],
   "source": [
    "data.head(5)"
   ]
  },
  {
   "cell_type": "code",
   "execution_count": 5,
   "metadata": {},
   "outputs": [
    {
     "data": {
      "text/plain": [
       "(1994, 128)"
      ]
     },
     "execution_count": 5,
     "metadata": {},
     "output_type": "execute_result"
    }
   ],
   "source": [
    "data.shape"
   ]
  },
  {
   "cell_type": "code",
   "execution_count": 6,
   "metadata": {},
   "outputs": [
    {
     "name": "stdout",
     "output_type": "stream",
     "text": [
      "<class 'pandas.core.frame.DataFrame'>\n",
      "RangeIndex: 1994 entries, 0 to 1993\n",
      "Columns: 128 entries, state to ViolentCrimesPerPop\n",
      "dtypes: float64(100), int64(2), object(26)\n",
      "memory usage: 1.9+ MB\n"
     ]
    }
   ],
   "source": [
    "data.info()"
   ]
  },
  {
   "cell_type": "code",
   "execution_count": 7,
   "metadata": {},
   "outputs": [
    {
     "data": {
      "text/html": [
       "<div>\n",
       "<style scoped>\n",
       "    .dataframe tbody tr th:only-of-type {\n",
       "        vertical-align: middle;\n",
       "    }\n",
       "\n",
       "    .dataframe tbody tr th {\n",
       "        vertical-align: top;\n",
       "    }\n",
       "\n",
       "    .dataframe thead th {\n",
       "        text-align: right;\n",
       "    }\n",
       "</style>\n",
       "<table border=\"1\" class=\"dataframe\">\n",
       "  <thead>\n",
       "    <tr style=\"text-align: right;\">\n",
       "      <th></th>\n",
       "      <th>state</th>\n",
       "      <th>fold</th>\n",
       "      <th>population</th>\n",
       "      <th>householdsize</th>\n",
       "      <th>racepctblack</th>\n",
       "      <th>racePctWhite</th>\n",
       "      <th>racePctAsian</th>\n",
       "      <th>racePctHisp</th>\n",
       "      <th>agePct12t21</th>\n",
       "      <th>agePct12t29</th>\n",
       "      <th>...</th>\n",
       "      <th>PctForeignBorn</th>\n",
       "      <th>PctBornSameState</th>\n",
       "      <th>PctSameHouse85</th>\n",
       "      <th>PctSameCity85</th>\n",
       "      <th>PctSameState85</th>\n",
       "      <th>LandArea</th>\n",
       "      <th>PopDens</th>\n",
       "      <th>PctUsePubTrans</th>\n",
       "      <th>LemasPctOfficDrugUn</th>\n",
       "      <th>ViolentCrimesPerPop</th>\n",
       "    </tr>\n",
       "  </thead>\n",
       "  <tbody>\n",
       "    <tr>\n",
       "      <th>count</th>\n",
       "      <td>1994.000000</td>\n",
       "      <td>1994.000000</td>\n",
       "      <td>1994.000000</td>\n",
       "      <td>1994.000000</td>\n",
       "      <td>1994.000000</td>\n",
       "      <td>1994.000000</td>\n",
       "      <td>1994.000000</td>\n",
       "      <td>1994.000000</td>\n",
       "      <td>1994.000000</td>\n",
       "      <td>1994.000000</td>\n",
       "      <td>...</td>\n",
       "      <td>1994.000000</td>\n",
       "      <td>1994.000000</td>\n",
       "      <td>1994.000000</td>\n",
       "      <td>1994.000000</td>\n",
       "      <td>1994.000000</td>\n",
       "      <td>1994.000000</td>\n",
       "      <td>1994.000000</td>\n",
       "      <td>1994.000000</td>\n",
       "      <td>1994.000000</td>\n",
       "      <td>1994.000000</td>\n",
       "    </tr>\n",
       "    <tr>\n",
       "      <th>mean</th>\n",
       "      <td>28.683551</td>\n",
       "      <td>5.493982</td>\n",
       "      <td>0.057593</td>\n",
       "      <td>0.463395</td>\n",
       "      <td>0.179629</td>\n",
       "      <td>0.753716</td>\n",
       "      <td>0.153681</td>\n",
       "      <td>0.144022</td>\n",
       "      <td>0.424218</td>\n",
       "      <td>0.493867</td>\n",
       "      <td>...</td>\n",
       "      <td>0.215552</td>\n",
       "      <td>0.608892</td>\n",
       "      <td>0.535050</td>\n",
       "      <td>0.626424</td>\n",
       "      <td>0.651530</td>\n",
       "      <td>0.065231</td>\n",
       "      <td>0.232854</td>\n",
       "      <td>0.161685</td>\n",
       "      <td>0.094052</td>\n",
       "      <td>0.237979</td>\n",
       "    </tr>\n",
       "    <tr>\n",
       "      <th>std</th>\n",
       "      <td>16.397553</td>\n",
       "      <td>2.873694</td>\n",
       "      <td>0.126906</td>\n",
       "      <td>0.163717</td>\n",
       "      <td>0.253442</td>\n",
       "      <td>0.244039</td>\n",
       "      <td>0.208877</td>\n",
       "      <td>0.232492</td>\n",
       "      <td>0.155196</td>\n",
       "      <td>0.143564</td>\n",
       "      <td>...</td>\n",
       "      <td>0.231134</td>\n",
       "      <td>0.204329</td>\n",
       "      <td>0.181352</td>\n",
       "      <td>0.200521</td>\n",
       "      <td>0.198221</td>\n",
       "      <td>0.109459</td>\n",
       "      <td>0.203092</td>\n",
       "      <td>0.229055</td>\n",
       "      <td>0.240328</td>\n",
       "      <td>0.232985</td>\n",
       "    </tr>\n",
       "    <tr>\n",
       "      <th>min</th>\n",
       "      <td>1.000000</td>\n",
       "      <td>1.000000</td>\n",
       "      <td>0.000000</td>\n",
       "      <td>0.000000</td>\n",
       "      <td>0.000000</td>\n",
       "      <td>0.000000</td>\n",
       "      <td>0.000000</td>\n",
       "      <td>0.000000</td>\n",
       "      <td>0.000000</td>\n",
       "      <td>0.000000</td>\n",
       "      <td>...</td>\n",
       "      <td>0.000000</td>\n",
       "      <td>0.000000</td>\n",
       "      <td>0.000000</td>\n",
       "      <td>0.000000</td>\n",
       "      <td>0.000000</td>\n",
       "      <td>0.000000</td>\n",
       "      <td>0.000000</td>\n",
       "      <td>0.000000</td>\n",
       "      <td>0.000000</td>\n",
       "      <td>0.000000</td>\n",
       "    </tr>\n",
       "    <tr>\n",
       "      <th>25%</th>\n",
       "      <td>12.000000</td>\n",
       "      <td>3.000000</td>\n",
       "      <td>0.010000</td>\n",
       "      <td>0.350000</td>\n",
       "      <td>0.020000</td>\n",
       "      <td>0.630000</td>\n",
       "      <td>0.040000</td>\n",
       "      <td>0.010000</td>\n",
       "      <td>0.340000</td>\n",
       "      <td>0.410000</td>\n",
       "      <td>...</td>\n",
       "      <td>0.060000</td>\n",
       "      <td>0.470000</td>\n",
       "      <td>0.420000</td>\n",
       "      <td>0.520000</td>\n",
       "      <td>0.560000</td>\n",
       "      <td>0.020000</td>\n",
       "      <td>0.100000</td>\n",
       "      <td>0.020000</td>\n",
       "      <td>0.000000</td>\n",
       "      <td>0.070000</td>\n",
       "    </tr>\n",
       "    <tr>\n",
       "      <th>50%</th>\n",
       "      <td>34.000000</td>\n",
       "      <td>5.000000</td>\n",
       "      <td>0.020000</td>\n",
       "      <td>0.440000</td>\n",
       "      <td>0.060000</td>\n",
       "      <td>0.850000</td>\n",
       "      <td>0.070000</td>\n",
       "      <td>0.040000</td>\n",
       "      <td>0.400000</td>\n",
       "      <td>0.480000</td>\n",
       "      <td>...</td>\n",
       "      <td>0.130000</td>\n",
       "      <td>0.630000</td>\n",
       "      <td>0.540000</td>\n",
       "      <td>0.670000</td>\n",
       "      <td>0.700000</td>\n",
       "      <td>0.040000</td>\n",
       "      <td>0.170000</td>\n",
       "      <td>0.070000</td>\n",
       "      <td>0.000000</td>\n",
       "      <td>0.150000</td>\n",
       "    </tr>\n",
       "    <tr>\n",
       "      <th>75%</th>\n",
       "      <td>42.000000</td>\n",
       "      <td>8.000000</td>\n",
       "      <td>0.050000</td>\n",
       "      <td>0.540000</td>\n",
       "      <td>0.230000</td>\n",
       "      <td>0.940000</td>\n",
       "      <td>0.170000</td>\n",
       "      <td>0.160000</td>\n",
       "      <td>0.470000</td>\n",
       "      <td>0.540000</td>\n",
       "      <td>...</td>\n",
       "      <td>0.280000</td>\n",
       "      <td>0.777500</td>\n",
       "      <td>0.660000</td>\n",
       "      <td>0.770000</td>\n",
       "      <td>0.790000</td>\n",
       "      <td>0.070000</td>\n",
       "      <td>0.280000</td>\n",
       "      <td>0.190000</td>\n",
       "      <td>0.000000</td>\n",
       "      <td>0.330000</td>\n",
       "    </tr>\n",
       "    <tr>\n",
       "      <th>max</th>\n",
       "      <td>56.000000</td>\n",
       "      <td>10.000000</td>\n",
       "      <td>1.000000</td>\n",
       "      <td>1.000000</td>\n",
       "      <td>1.000000</td>\n",
       "      <td>1.000000</td>\n",
       "      <td>1.000000</td>\n",
       "      <td>1.000000</td>\n",
       "      <td>1.000000</td>\n",
       "      <td>1.000000</td>\n",
       "      <td>...</td>\n",
       "      <td>1.000000</td>\n",
       "      <td>1.000000</td>\n",
       "      <td>1.000000</td>\n",
       "      <td>1.000000</td>\n",
       "      <td>1.000000</td>\n",
       "      <td>1.000000</td>\n",
       "      <td>1.000000</td>\n",
       "      <td>1.000000</td>\n",
       "      <td>1.000000</td>\n",
       "      <td>1.000000</td>\n",
       "    </tr>\n",
       "  </tbody>\n",
       "</table>\n",
       "<p>8 rows × 102 columns</p>\n",
       "</div>"
      ],
      "text/plain": [
       "             state         fold   population  householdsize  racepctblack  \\\n",
       "count  1994.000000  1994.000000  1994.000000    1994.000000   1994.000000   \n",
       "mean     28.683551     5.493982     0.057593       0.463395      0.179629   \n",
       "std      16.397553     2.873694     0.126906       0.163717      0.253442   \n",
       "min       1.000000     1.000000     0.000000       0.000000      0.000000   \n",
       "25%      12.000000     3.000000     0.010000       0.350000      0.020000   \n",
       "50%      34.000000     5.000000     0.020000       0.440000      0.060000   \n",
       "75%      42.000000     8.000000     0.050000       0.540000      0.230000   \n",
       "max      56.000000    10.000000     1.000000       1.000000      1.000000   \n",
       "\n",
       "       racePctWhite  racePctAsian  racePctHisp  agePct12t21  agePct12t29  ...  \\\n",
       "count   1994.000000   1994.000000  1994.000000  1994.000000  1994.000000  ...   \n",
       "mean       0.753716      0.153681     0.144022     0.424218     0.493867  ...   \n",
       "std        0.244039      0.208877     0.232492     0.155196     0.143564  ...   \n",
       "min        0.000000      0.000000     0.000000     0.000000     0.000000  ...   \n",
       "25%        0.630000      0.040000     0.010000     0.340000     0.410000  ...   \n",
       "50%        0.850000      0.070000     0.040000     0.400000     0.480000  ...   \n",
       "75%        0.940000      0.170000     0.160000     0.470000     0.540000  ...   \n",
       "max        1.000000      1.000000     1.000000     1.000000     1.000000  ...   \n",
       "\n",
       "       PctForeignBorn  PctBornSameState  PctSameHouse85  PctSameCity85  \\\n",
       "count     1994.000000       1994.000000     1994.000000    1994.000000   \n",
       "mean         0.215552          0.608892        0.535050       0.626424   \n",
       "std          0.231134          0.204329        0.181352       0.200521   \n",
       "min          0.000000          0.000000        0.000000       0.000000   \n",
       "25%          0.060000          0.470000        0.420000       0.520000   \n",
       "50%          0.130000          0.630000        0.540000       0.670000   \n",
       "75%          0.280000          0.777500        0.660000       0.770000   \n",
       "max          1.000000          1.000000        1.000000       1.000000   \n",
       "\n",
       "       PctSameState85     LandArea      PopDens  PctUsePubTrans  \\\n",
       "count     1994.000000  1994.000000  1994.000000     1994.000000   \n",
       "mean         0.651530     0.065231     0.232854        0.161685   \n",
       "std          0.198221     0.109459     0.203092        0.229055   \n",
       "min          0.000000     0.000000     0.000000        0.000000   \n",
       "25%          0.560000     0.020000     0.100000        0.020000   \n",
       "50%          0.700000     0.040000     0.170000        0.070000   \n",
       "75%          0.790000     0.070000     0.280000        0.190000   \n",
       "max          1.000000     1.000000     1.000000        1.000000   \n",
       "\n",
       "       LemasPctOfficDrugUn  ViolentCrimesPerPop  \n",
       "count          1994.000000          1994.000000  \n",
       "mean              0.094052             0.237979  \n",
       "std               0.240328             0.232985  \n",
       "min               0.000000             0.000000  \n",
       "25%               0.000000             0.070000  \n",
       "50%               0.000000             0.150000  \n",
       "75%               0.000000             0.330000  \n",
       "max               1.000000             1.000000  \n",
       "\n",
       "[8 rows x 102 columns]"
      ]
     },
     "execution_count": 7,
     "metadata": {},
     "output_type": "execute_result"
    }
   ],
   "source": [
    "data.describe()"
   ]
  },
  {
   "cell_type": "markdown",
   "metadata": {},
   "source": [
    "# Remove non-predictive features\n",
    "\n",
    "state: US state (by number) - not counted as predictive above, but if considered, should be considered nominal (nominal)\n",
    "county: numeric code for county - not predictive, and many missing values (numeric)\n",
    "community: numeric code for community - not predictive and many missing values (numeric)\n",
    "communityname: community name - not predictive - for information only (string)\n",
    "fold: fold number for non-random 10 fold cross validation, potentially useful for debugging, paired tests - not predictive (numeric)"
   ]
  },
  {
   "cell_type": "code",
   "execution_count": 8,
   "metadata": {},
   "outputs": [
    {
     "data": {
      "text/html": [
       "<div>\n",
       "<style scoped>\n",
       "    .dataframe tbody tr th:only-of-type {\n",
       "        vertical-align: middle;\n",
       "    }\n",
       "\n",
       "    .dataframe tbody tr th {\n",
       "        vertical-align: top;\n",
       "    }\n",
       "\n",
       "    .dataframe thead th {\n",
       "        text-align: right;\n",
       "    }\n",
       "</style>\n",
       "<table border=\"1\" class=\"dataframe\">\n",
       "  <thead>\n",
       "    <tr style=\"text-align: right;\">\n",
       "      <th></th>\n",
       "      <th>population</th>\n",
       "      <th>householdsize</th>\n",
       "      <th>racepctblack</th>\n",
       "      <th>racePctWhite</th>\n",
       "      <th>racePctAsian</th>\n",
       "      <th>racePctHisp</th>\n",
       "      <th>agePct12t21</th>\n",
       "      <th>agePct12t29</th>\n",
       "      <th>agePct16t24</th>\n",
       "      <th>agePct65up</th>\n",
       "      <th>...</th>\n",
       "      <th>LandArea</th>\n",
       "      <th>PopDens</th>\n",
       "      <th>PctUsePubTrans</th>\n",
       "      <th>PolicCars</th>\n",
       "      <th>PolicOperBudg</th>\n",
       "      <th>LemasPctPolicOnPatr</th>\n",
       "      <th>LemasGangUnitDeploy</th>\n",
       "      <th>LemasPctOfficDrugUn</th>\n",
       "      <th>PolicBudgPerPop</th>\n",
       "      <th>ViolentCrimesPerPop</th>\n",
       "    </tr>\n",
       "  </thead>\n",
       "  <tbody>\n",
       "    <tr>\n",
       "      <th>0</th>\n",
       "      <td>0.19</td>\n",
       "      <td>0.33</td>\n",
       "      <td>0.02</td>\n",
       "      <td>0.90</td>\n",
       "      <td>0.12</td>\n",
       "      <td>0.17</td>\n",
       "      <td>0.34</td>\n",
       "      <td>0.47</td>\n",
       "      <td>0.29</td>\n",
       "      <td>0.32</td>\n",
       "      <td>...</td>\n",
       "      <td>0.12</td>\n",
       "      <td>0.26</td>\n",
       "      <td>0.20</td>\n",
       "      <td>0.06</td>\n",
       "      <td>0.04</td>\n",
       "      <td>0.9</td>\n",
       "      <td>0.5</td>\n",
       "      <td>0.32</td>\n",
       "      <td>0.14</td>\n",
       "      <td>0.20</td>\n",
       "    </tr>\n",
       "    <tr>\n",
       "      <th>1</th>\n",
       "      <td>0.00</td>\n",
       "      <td>0.16</td>\n",
       "      <td>0.12</td>\n",
       "      <td>0.74</td>\n",
       "      <td>0.45</td>\n",
       "      <td>0.07</td>\n",
       "      <td>0.26</td>\n",
       "      <td>0.59</td>\n",
       "      <td>0.35</td>\n",
       "      <td>0.27</td>\n",
       "      <td>...</td>\n",
       "      <td>0.02</td>\n",
       "      <td>0.12</td>\n",
       "      <td>0.45</td>\n",
       "      <td>?</td>\n",
       "      <td>?</td>\n",
       "      <td>?</td>\n",
       "      <td>?</td>\n",
       "      <td>0.00</td>\n",
       "      <td>?</td>\n",
       "      <td>0.67</td>\n",
       "    </tr>\n",
       "    <tr>\n",
       "      <th>2</th>\n",
       "      <td>0.00</td>\n",
       "      <td>0.42</td>\n",
       "      <td>0.49</td>\n",
       "      <td>0.56</td>\n",
       "      <td>0.17</td>\n",
       "      <td>0.04</td>\n",
       "      <td>0.39</td>\n",
       "      <td>0.47</td>\n",
       "      <td>0.28</td>\n",
       "      <td>0.32</td>\n",
       "      <td>...</td>\n",
       "      <td>0.01</td>\n",
       "      <td>0.21</td>\n",
       "      <td>0.02</td>\n",
       "      <td>?</td>\n",
       "      <td>?</td>\n",
       "      <td>?</td>\n",
       "      <td>?</td>\n",
       "      <td>0.00</td>\n",
       "      <td>?</td>\n",
       "      <td>0.43</td>\n",
       "    </tr>\n",
       "    <tr>\n",
       "      <th>3</th>\n",
       "      <td>0.04</td>\n",
       "      <td>0.77</td>\n",
       "      <td>1.00</td>\n",
       "      <td>0.08</td>\n",
       "      <td>0.12</td>\n",
       "      <td>0.10</td>\n",
       "      <td>0.51</td>\n",
       "      <td>0.50</td>\n",
       "      <td>0.34</td>\n",
       "      <td>0.21</td>\n",
       "      <td>...</td>\n",
       "      <td>0.02</td>\n",
       "      <td>0.39</td>\n",
       "      <td>0.28</td>\n",
       "      <td>?</td>\n",
       "      <td>?</td>\n",
       "      <td>?</td>\n",
       "      <td>?</td>\n",
       "      <td>0.00</td>\n",
       "      <td>?</td>\n",
       "      <td>0.12</td>\n",
       "    </tr>\n",
       "    <tr>\n",
       "      <th>4</th>\n",
       "      <td>0.01</td>\n",
       "      <td>0.55</td>\n",
       "      <td>0.02</td>\n",
       "      <td>0.95</td>\n",
       "      <td>0.09</td>\n",
       "      <td>0.05</td>\n",
       "      <td>0.38</td>\n",
       "      <td>0.38</td>\n",
       "      <td>0.23</td>\n",
       "      <td>0.36</td>\n",
       "      <td>...</td>\n",
       "      <td>0.04</td>\n",
       "      <td>0.09</td>\n",
       "      <td>0.02</td>\n",
       "      <td>?</td>\n",
       "      <td>?</td>\n",
       "      <td>?</td>\n",
       "      <td>?</td>\n",
       "      <td>0.00</td>\n",
       "      <td>?</td>\n",
       "      <td>0.03</td>\n",
       "    </tr>\n",
       "  </tbody>\n",
       "</table>\n",
       "<p>5 rows × 123 columns</p>\n",
       "</div>"
      ],
      "text/plain": [
       "   population  householdsize  racepctblack  racePctWhite  racePctAsian  \\\n",
       "0        0.19           0.33          0.02          0.90          0.12   \n",
       "1        0.00           0.16          0.12          0.74          0.45   \n",
       "2        0.00           0.42          0.49          0.56          0.17   \n",
       "3        0.04           0.77          1.00          0.08          0.12   \n",
       "4        0.01           0.55          0.02          0.95          0.09   \n",
       "\n",
       "   racePctHisp  agePct12t21  agePct12t29  agePct16t24  agePct65up  ...  \\\n",
       "0         0.17         0.34         0.47         0.29        0.32  ...   \n",
       "1         0.07         0.26         0.59         0.35        0.27  ...   \n",
       "2         0.04         0.39         0.47         0.28        0.32  ...   \n",
       "3         0.10         0.51         0.50         0.34        0.21  ...   \n",
       "4         0.05         0.38         0.38         0.23        0.36  ...   \n",
       "\n",
       "   LandArea  PopDens  PctUsePubTrans  PolicCars  PolicOperBudg  \\\n",
       "0      0.12     0.26            0.20       0.06           0.04   \n",
       "1      0.02     0.12            0.45          ?              ?   \n",
       "2      0.01     0.21            0.02          ?              ?   \n",
       "3      0.02     0.39            0.28          ?              ?   \n",
       "4      0.04     0.09            0.02          ?              ?   \n",
       "\n",
       "   LemasPctPolicOnPatr  LemasGangUnitDeploy  LemasPctOfficDrugUn  \\\n",
       "0                  0.9                  0.5                 0.32   \n",
       "1                    ?                    ?                 0.00   \n",
       "2                    ?                    ?                 0.00   \n",
       "3                    ?                    ?                 0.00   \n",
       "4                    ?                    ?                 0.00   \n",
       "\n",
       "   PolicBudgPerPop  ViolentCrimesPerPop  \n",
       "0             0.14                 0.20  \n",
       "1                ?                 0.67  \n",
       "2                ?                 0.43  \n",
       "3                ?                 0.12  \n",
       "4                ?                 0.03  \n",
       "\n",
       "[5 rows x 123 columns]"
      ]
     },
     "execution_count": 8,
     "metadata": {},
     "output_type": "execute_result"
    }
   ],
   "source": [
    "data = data.drop(columns=['state','county',\n",
    "                          'community','communityname',\n",
    "                          'fold'], axis=1)\n",
    "data.head()"
   ]
  },
  {
   "cell_type": "code",
   "execution_count": 9,
   "metadata": {},
   "outputs": [],
   "source": [
    "from pandas import DataFrame\n",
    "\n",
    "data = data.replace('?', np.nan)\n",
    "feat_miss = data.columns[data.isnull().any()]"
   ]
  },
  {
   "cell_type": "code",
   "execution_count": 10,
   "metadata": {},
   "outputs": [
    {
     "name": "stdout",
     "output_type": "stream",
     "text": [
      "Index(['OtherPerCap', 'LemasSwornFT', 'LemasSwFTPerPop', 'LemasSwFTFieldOps',\n",
      "       'LemasSwFTFieldPerPop', 'LemasTotalReq', 'LemasTotReqPerPop',\n",
      "       'PolicReqPerOffic', 'PolicPerPop', 'RacialMatchCommPol',\n",
      "       'PctPolicWhite', 'PctPolicBlack', 'PctPolicHisp', 'PctPolicAsian',\n",
      "       'PctPolicMinor', 'OfficAssgnDrugUnits', 'NumKindsDrugsSeiz',\n",
      "       'PolicAveOTWorked', 'PolicCars', 'PolicOperBudg', 'LemasPctPolicOnPatr',\n",
      "       'LemasGangUnitDeploy', 'PolicBudgPerPop'],\n",
      "      dtype='object')\n"
     ]
    },
    {
     "data": {
      "text/plain": [
       "(23,)"
      ]
     },
     "execution_count": 10,
     "metadata": {},
     "output_type": "execute_result"
    }
   ],
   "source": [
    "print(feat_miss)\n",
    "feat_miss.shape"
   ]
  },
  {
   "cell_type": "code",
   "execution_count": 11,
   "metadata": {},
   "outputs": [
    {
     "data": {
      "text/html": [
       "<div>\n",
       "<style scoped>\n",
       "    .dataframe tbody tr th:only-of-type {\n",
       "        vertical-align: middle;\n",
       "    }\n",
       "\n",
       "    .dataframe tbody tr th {\n",
       "        vertical-align: top;\n",
       "    }\n",
       "\n",
       "    .dataframe thead th {\n",
       "        text-align: right;\n",
       "    }\n",
       "</style>\n",
       "<table border=\"1\" class=\"dataframe\">\n",
       "  <thead>\n",
       "    <tr style=\"text-align: right;\">\n",
       "      <th></th>\n",
       "      <th>OtherPerCap</th>\n",
       "      <th>LemasSwornFT</th>\n",
       "      <th>LemasSwFTPerPop</th>\n",
       "      <th>LemasSwFTFieldOps</th>\n",
       "      <th>LemasSwFTFieldPerPop</th>\n",
       "      <th>LemasTotalReq</th>\n",
       "      <th>LemasTotReqPerPop</th>\n",
       "      <th>PolicReqPerOffic</th>\n",
       "      <th>PolicPerPop</th>\n",
       "      <th>RacialMatchCommPol</th>\n",
       "      <th>PctPolicWhite</th>\n",
       "      <th>PctPolicBlack</th>\n",
       "      <th>PctPolicHisp</th>\n",
       "    </tr>\n",
       "  </thead>\n",
       "  <tbody>\n",
       "    <tr>\n",
       "      <th>count</th>\n",
       "      <td>1993</td>\n",
       "      <td>319</td>\n",
       "      <td>319</td>\n",
       "      <td>319</td>\n",
       "      <td>319</td>\n",
       "      <td>319</td>\n",
       "      <td>319</td>\n",
       "      <td>319</td>\n",
       "      <td>319</td>\n",
       "      <td>319</td>\n",
       "      <td>319</td>\n",
       "      <td>319</td>\n",
       "      <td>319</td>\n",
       "    </tr>\n",
       "    <tr>\n",
       "      <th>unique</th>\n",
       "      <td>97</td>\n",
       "      <td>38</td>\n",
       "      <td>52</td>\n",
       "      <td>34</td>\n",
       "      <td>55</td>\n",
       "      <td>44</td>\n",
       "      <td>59</td>\n",
       "      <td>75</td>\n",
       "      <td>52</td>\n",
       "      <td>76</td>\n",
       "      <td>74</td>\n",
       "      <td>73</td>\n",
       "      <td>54</td>\n",
       "    </tr>\n",
       "    <tr>\n",
       "      <th>top</th>\n",
       "      <td>0</td>\n",
       "      <td>0.02</td>\n",
       "      <td>0.1</td>\n",
       "      <td>0.98</td>\n",
       "      <td>0.19</td>\n",
       "      <td>0.02</td>\n",
       "      <td>0.14</td>\n",
       "      <td>0.23</td>\n",
       "      <td>0.1</td>\n",
       "      <td>0.78</td>\n",
       "      <td>0.92</td>\n",
       "      <td>0</td>\n",
       "      <td>0</td>\n",
       "    </tr>\n",
       "    <tr>\n",
       "      <th>freq</th>\n",
       "      <td>129</td>\n",
       "      <td>80</td>\n",
       "      <td>19</td>\n",
       "      <td>81</td>\n",
       "      <td>17</td>\n",
       "      <td>55</td>\n",
       "      <td>23</td>\n",
       "      <td>15</td>\n",
       "      <td>19</td>\n",
       "      <td>12</td>\n",
       "      <td>11</td>\n",
       "      <td>23</td>\n",
       "      <td>72</td>\n",
       "    </tr>\n",
       "  </tbody>\n",
       "</table>\n",
       "</div>"
      ],
      "text/plain": [
       "       OtherPerCap LemasSwornFT LemasSwFTPerPop LemasSwFTFieldOps  \\\n",
       "count         1993          319             319               319   \n",
       "unique          97           38              52                34   \n",
       "top              0         0.02             0.1              0.98   \n",
       "freq           129           80              19                81   \n",
       "\n",
       "       LemasSwFTFieldPerPop LemasTotalReq LemasTotReqPerPop PolicReqPerOffic  \\\n",
       "count                   319           319               319              319   \n",
       "unique                   55            44                59               75   \n",
       "top                    0.19          0.02              0.14             0.23   \n",
       "freq                     17            55                23               15   \n",
       "\n",
       "       PolicPerPop RacialMatchCommPol PctPolicWhite PctPolicBlack PctPolicHisp  \n",
       "count          319                319           319           319          319  \n",
       "unique          52                 76            74            73           54  \n",
       "top            0.1               0.78          0.92             0            0  \n",
       "freq            19                 12            11            23           72  "
      ]
     },
     "execution_count": 11,
     "metadata": {},
     "output_type": "execute_result"
    }
   ],
   "source": [
    "# Look at the features with missing values\n",
    "\n",
    "data[feat_miss[0:13]].describe()"
   ]
  },
  {
   "cell_type": "code",
   "execution_count": 12,
   "metadata": {},
   "outputs": [
    {
     "data": {
      "text/html": [
       "<div>\n",
       "<style scoped>\n",
       "    .dataframe tbody tr th:only-of-type {\n",
       "        vertical-align: middle;\n",
       "    }\n",
       "\n",
       "    .dataframe tbody tr th {\n",
       "        vertical-align: top;\n",
       "    }\n",
       "\n",
       "    .dataframe thead th {\n",
       "        text-align: right;\n",
       "    }\n",
       "</style>\n",
       "<table border=\"1\" class=\"dataframe\">\n",
       "  <thead>\n",
       "    <tr style=\"text-align: right;\">\n",
       "      <th></th>\n",
       "      <th>PctPolicAsian</th>\n",
       "      <th>PctPolicMinor</th>\n",
       "      <th>OfficAssgnDrugUnits</th>\n",
       "      <th>NumKindsDrugsSeiz</th>\n",
       "      <th>PolicAveOTWorked</th>\n",
       "      <th>PolicCars</th>\n",
       "      <th>PolicOperBudg</th>\n",
       "      <th>LemasPctPolicOnPatr</th>\n",
       "      <th>LemasGangUnitDeploy</th>\n",
       "      <th>PolicBudgPerPop</th>\n",
       "    </tr>\n",
       "  </thead>\n",
       "  <tbody>\n",
       "    <tr>\n",
       "      <th>count</th>\n",
       "      <td>319</td>\n",
       "      <td>319</td>\n",
       "      <td>319</td>\n",
       "      <td>319</td>\n",
       "      <td>319</td>\n",
       "      <td>319</td>\n",
       "      <td>319</td>\n",
       "      <td>319</td>\n",
       "      <td>319</td>\n",
       "      <td>319</td>\n",
       "    </tr>\n",
       "    <tr>\n",
       "      <th>unique</th>\n",
       "      <td>50</td>\n",
       "      <td>72</td>\n",
       "      <td>30</td>\n",
       "      <td>15</td>\n",
       "      <td>77</td>\n",
       "      <td>63</td>\n",
       "      <td>38</td>\n",
       "      <td>72</td>\n",
       "      <td>3</td>\n",
       "      <td>51</td>\n",
       "    </tr>\n",
       "    <tr>\n",
       "      <th>top</th>\n",
       "      <td>0</td>\n",
       "      <td>0.07</td>\n",
       "      <td>0.03</td>\n",
       "      <td>0.57</td>\n",
       "      <td>0.19</td>\n",
       "      <td>0.02</td>\n",
       "      <td>0.02</td>\n",
       "      <td>0.74</td>\n",
       "      <td>0</td>\n",
       "      <td>0.12</td>\n",
       "    </tr>\n",
       "    <tr>\n",
       "      <th>freq</th>\n",
       "      <td>189</td>\n",
       "      <td>14</td>\n",
       "      <td>48</td>\n",
       "      <td>54</td>\n",
       "      <td>12</td>\n",
       "      <td>27</td>\n",
       "      <td>69</td>\n",
       "      <td>13</td>\n",
       "      <td>126</td>\n",
       "      <td>22</td>\n",
       "    </tr>\n",
       "  </tbody>\n",
       "</table>\n",
       "</div>"
      ],
      "text/plain": [
       "       PctPolicAsian PctPolicMinor OfficAssgnDrugUnits NumKindsDrugsSeiz  \\\n",
       "count            319           319                 319               319   \n",
       "unique            50            72                  30                15   \n",
       "top                0          0.07                0.03              0.57   \n",
       "freq             189            14                  48                54   \n",
       "\n",
       "       PolicAveOTWorked PolicCars PolicOperBudg LemasPctPolicOnPatr  \\\n",
       "count               319       319           319                 319   \n",
       "unique               77        63            38                  72   \n",
       "top                0.19      0.02          0.02                0.74   \n",
       "freq                 12        27            69                  13   \n",
       "\n",
       "       LemasGangUnitDeploy PolicBudgPerPop  \n",
       "count                  319             319  \n",
       "unique                   3              51  \n",
       "top                      0            0.12  \n",
       "freq                   126              22  "
      ]
     },
     "execution_count": 12,
     "metadata": {},
     "output_type": "execute_result"
    }
   ],
   "source": [
    "data[feat_miss[13:23]].describe()"
   ]
  },
  {
   "cell_type": "markdown",
   "metadata": {},
   "source": [
    "# OtherPerCap has only one missing value and will be filled by a mean value using Imputer from sklearn.preprocessing. The others features present many missing values and will be removed from the data set."
   ]
  },
  {
   "cell_type": "code",
   "execution_count": 13,
   "metadata": {},
   "outputs": [],
   "source": [
    "from sklearn.impute import SimpleImputer\n",
    "imputer = SimpleImputer(missing_values = np.nan, strategy = 'mean')\n",
    "\n",
    "imputer = imputer.fit(data[['OtherPerCap']])\n",
    "data[['OtherPerCap']] = imputer.transform(data[['OtherPerCap']])"
   ]
  },
  {
   "cell_type": "code",
   "execution_count": 14,
   "metadata": {},
   "outputs": [
    {
     "name": "stdout",
     "output_type": "stream",
     "text": [
      "(1994, 101)\n"
     ]
    },
    {
     "data": {
      "text/html": [
       "<div>\n",
       "<style scoped>\n",
       "    .dataframe tbody tr th:only-of-type {\n",
       "        vertical-align: middle;\n",
       "    }\n",
       "\n",
       "    .dataframe tbody tr th {\n",
       "        vertical-align: top;\n",
       "    }\n",
       "\n",
       "    .dataframe thead th {\n",
       "        text-align: right;\n",
       "    }\n",
       "</style>\n",
       "<table border=\"1\" class=\"dataframe\">\n",
       "  <thead>\n",
       "    <tr style=\"text-align: right;\">\n",
       "      <th></th>\n",
       "      <th>population</th>\n",
       "      <th>householdsize</th>\n",
       "      <th>racepctblack</th>\n",
       "      <th>racePctWhite</th>\n",
       "      <th>racePctAsian</th>\n",
       "      <th>racePctHisp</th>\n",
       "      <th>agePct12t21</th>\n",
       "      <th>agePct12t29</th>\n",
       "      <th>agePct16t24</th>\n",
       "      <th>agePct65up</th>\n",
       "      <th>...</th>\n",
       "      <th>PctForeignBorn</th>\n",
       "      <th>PctBornSameState</th>\n",
       "      <th>PctSameHouse85</th>\n",
       "      <th>PctSameCity85</th>\n",
       "      <th>PctSameState85</th>\n",
       "      <th>LandArea</th>\n",
       "      <th>PopDens</th>\n",
       "      <th>PctUsePubTrans</th>\n",
       "      <th>LemasPctOfficDrugUn</th>\n",
       "      <th>ViolentCrimesPerPop</th>\n",
       "    </tr>\n",
       "  </thead>\n",
       "  <tbody>\n",
       "    <tr>\n",
       "      <th>0</th>\n",
       "      <td>0.19</td>\n",
       "      <td>0.33</td>\n",
       "      <td>0.02</td>\n",
       "      <td>0.90</td>\n",
       "      <td>0.12</td>\n",
       "      <td>0.17</td>\n",
       "      <td>0.34</td>\n",
       "      <td>0.47</td>\n",
       "      <td>0.29</td>\n",
       "      <td>0.32</td>\n",
       "      <td>...</td>\n",
       "      <td>0.12</td>\n",
       "      <td>0.42</td>\n",
       "      <td>0.50</td>\n",
       "      <td>0.51</td>\n",
       "      <td>0.64</td>\n",
       "      <td>0.12</td>\n",
       "      <td>0.26</td>\n",
       "      <td>0.20</td>\n",
       "      <td>0.32</td>\n",
       "      <td>0.20</td>\n",
       "    </tr>\n",
       "    <tr>\n",
       "      <th>1</th>\n",
       "      <td>0.00</td>\n",
       "      <td>0.16</td>\n",
       "      <td>0.12</td>\n",
       "      <td>0.74</td>\n",
       "      <td>0.45</td>\n",
       "      <td>0.07</td>\n",
       "      <td>0.26</td>\n",
       "      <td>0.59</td>\n",
       "      <td>0.35</td>\n",
       "      <td>0.27</td>\n",
       "      <td>...</td>\n",
       "      <td>0.21</td>\n",
       "      <td>0.50</td>\n",
       "      <td>0.34</td>\n",
       "      <td>0.60</td>\n",
       "      <td>0.52</td>\n",
       "      <td>0.02</td>\n",
       "      <td>0.12</td>\n",
       "      <td>0.45</td>\n",
       "      <td>0.00</td>\n",
       "      <td>0.67</td>\n",
       "    </tr>\n",
       "    <tr>\n",
       "      <th>2</th>\n",
       "      <td>0.00</td>\n",
       "      <td>0.42</td>\n",
       "      <td>0.49</td>\n",
       "      <td>0.56</td>\n",
       "      <td>0.17</td>\n",
       "      <td>0.04</td>\n",
       "      <td>0.39</td>\n",
       "      <td>0.47</td>\n",
       "      <td>0.28</td>\n",
       "      <td>0.32</td>\n",
       "      <td>...</td>\n",
       "      <td>0.14</td>\n",
       "      <td>0.49</td>\n",
       "      <td>0.54</td>\n",
       "      <td>0.67</td>\n",
       "      <td>0.56</td>\n",
       "      <td>0.01</td>\n",
       "      <td>0.21</td>\n",
       "      <td>0.02</td>\n",
       "      <td>0.00</td>\n",
       "      <td>0.43</td>\n",
       "    </tr>\n",
       "    <tr>\n",
       "      <th>3</th>\n",
       "      <td>0.04</td>\n",
       "      <td>0.77</td>\n",
       "      <td>1.00</td>\n",
       "      <td>0.08</td>\n",
       "      <td>0.12</td>\n",
       "      <td>0.10</td>\n",
       "      <td>0.51</td>\n",
       "      <td>0.50</td>\n",
       "      <td>0.34</td>\n",
       "      <td>0.21</td>\n",
       "      <td>...</td>\n",
       "      <td>0.19</td>\n",
       "      <td>0.30</td>\n",
       "      <td>0.73</td>\n",
       "      <td>0.64</td>\n",
       "      <td>0.65</td>\n",
       "      <td>0.02</td>\n",
       "      <td>0.39</td>\n",
       "      <td>0.28</td>\n",
       "      <td>0.00</td>\n",
       "      <td>0.12</td>\n",
       "    </tr>\n",
       "    <tr>\n",
       "      <th>4</th>\n",
       "      <td>0.01</td>\n",
       "      <td>0.55</td>\n",
       "      <td>0.02</td>\n",
       "      <td>0.95</td>\n",
       "      <td>0.09</td>\n",
       "      <td>0.05</td>\n",
       "      <td>0.38</td>\n",
       "      <td>0.38</td>\n",
       "      <td>0.23</td>\n",
       "      <td>0.36</td>\n",
       "      <td>...</td>\n",
       "      <td>0.11</td>\n",
       "      <td>0.72</td>\n",
       "      <td>0.64</td>\n",
       "      <td>0.61</td>\n",
       "      <td>0.53</td>\n",
       "      <td>0.04</td>\n",
       "      <td>0.09</td>\n",
       "      <td>0.02</td>\n",
       "      <td>0.00</td>\n",
       "      <td>0.03</td>\n",
       "    </tr>\n",
       "  </tbody>\n",
       "</table>\n",
       "<p>5 rows × 101 columns</p>\n",
       "</div>"
      ],
      "text/plain": [
       "   population  householdsize  racepctblack  racePctWhite  racePctAsian  \\\n",
       "0        0.19           0.33          0.02          0.90          0.12   \n",
       "1        0.00           0.16          0.12          0.74          0.45   \n",
       "2        0.00           0.42          0.49          0.56          0.17   \n",
       "3        0.04           0.77          1.00          0.08          0.12   \n",
       "4        0.01           0.55          0.02          0.95          0.09   \n",
       "\n",
       "   racePctHisp  agePct12t21  agePct12t29  agePct16t24  agePct65up  ...  \\\n",
       "0         0.17         0.34         0.47         0.29        0.32  ...   \n",
       "1         0.07         0.26         0.59         0.35        0.27  ...   \n",
       "2         0.04         0.39         0.47         0.28        0.32  ...   \n",
       "3         0.10         0.51         0.50         0.34        0.21  ...   \n",
       "4         0.05         0.38         0.38         0.23        0.36  ...   \n",
       "\n",
       "   PctForeignBorn  PctBornSameState  PctSameHouse85  PctSameCity85  \\\n",
       "0            0.12              0.42            0.50           0.51   \n",
       "1            0.21              0.50            0.34           0.60   \n",
       "2            0.14              0.49            0.54           0.67   \n",
       "3            0.19              0.30            0.73           0.64   \n",
       "4            0.11              0.72            0.64           0.61   \n",
       "\n",
       "   PctSameState85  LandArea  PopDens  PctUsePubTrans  LemasPctOfficDrugUn  \\\n",
       "0            0.64      0.12     0.26            0.20                 0.32   \n",
       "1            0.52      0.02     0.12            0.45                 0.00   \n",
       "2            0.56      0.01     0.21            0.02                 0.00   \n",
       "3            0.65      0.02     0.39            0.28                 0.00   \n",
       "4            0.53      0.04     0.09            0.02                 0.00   \n",
       "\n",
       "   ViolentCrimesPerPop  \n",
       "0                 0.20  \n",
       "1                 0.67  \n",
       "2                 0.43  \n",
       "3                 0.12  \n",
       "4                 0.03  \n",
       "\n",
       "[5 rows x 101 columns]"
      ]
     },
     "execution_count": 14,
     "metadata": {},
     "output_type": "execute_result"
    }
   ],
   "source": [
    "data = data.dropna(axis=1)\n",
    "print(data.shape)\n",
    "data.head()"
   ]
  },
  {
   "cell_type": "code",
   "execution_count": 15,
   "metadata": {},
   "outputs": [
    {
     "data": {
      "text/plain": [
       "population             0\n",
       "householdsize          0\n",
       "racepctblack           0\n",
       "racePctWhite           0\n",
       "racePctAsian           0\n",
       "                      ..\n",
       "LandArea               0\n",
       "PopDens                0\n",
       "PctUsePubTrans         0\n",
       "LemasPctOfficDrugUn    0\n",
       "ViolentCrimesPerPop    0\n",
       "Length: 101, dtype: int64"
      ]
     },
     "execution_count": 15,
     "metadata": {},
     "output_type": "execute_result"
    }
   ],
   "source": [
    "data.isna().sum()"
   ]
  },
  {
   "cell_type": "code",
   "execution_count": 16,
   "metadata": {},
   "outputs": [
    {
     "data": {
      "image/png": "[encoded data removed]",
      "text/plain": [
       "<Figure size 432x288 with 1 Axes>"
      ]
     },
     "metadata": {
      "needs_background": "light"
     },
     "output_type": "display_data"
    }
   ],
   "source": [
    "data.hist(column = ['ViolentCrimesPerPop'], bins = 30, color = 'red', alpha = 0.8)\n",
    "plt.show()"
   ]
  },
  {
   "cell_type": "markdown",
   "metadata": {},
   "source": [
    "# CORRELATIONS"
   ]
  },
  {
   "cell_type": "code",
   "execution_count": 16,
   "metadata": {},
   "outputs": [
    {
     "data": {
      "text/html": [
       "<div>\n",
       "<style scoped>\n",
       "    .dataframe tbody tr th:only-of-type {\n",
       "        vertical-align: middle;\n",
       "    }\n",
       "\n",
       "    .dataframe tbody tr th {\n",
       "        vertical-align: top;\n",
       "    }\n",
       "\n",
       "    .dataframe thead th {\n",
       "        text-align: right;\n",
       "    }\n",
       "</style>\n",
       "<table border=\"1\" class=\"dataframe\">\n",
       "  <thead>\n",
       "    <tr style=\"text-align: right;\">\n",
       "      <th></th>\n",
       "      <th>population</th>\n",
       "      <th>householdsize</th>\n",
       "      <th>racepctblack</th>\n",
       "      <th>racePctWhite</th>\n",
       "      <th>racePctAsian</th>\n",
       "      <th>racePctHisp</th>\n",
       "      <th>agePct12t21</th>\n",
       "      <th>agePct12t29</th>\n",
       "      <th>agePct16t24</th>\n",
       "      <th>agePct65up</th>\n",
       "      <th>...</th>\n",
       "      <th>PctForeignBorn</th>\n",
       "      <th>PctBornSameState</th>\n",
       "      <th>PctSameHouse85</th>\n",
       "      <th>PctSameCity85</th>\n",
       "      <th>PctSameState85</th>\n",
       "      <th>LandArea</th>\n",
       "      <th>PopDens</th>\n",
       "      <th>PctUsePubTrans</th>\n",
       "      <th>LemasPctOfficDrugUn</th>\n",
       "      <th>ViolentCrimesPerPop</th>\n",
       "    </tr>\n",
       "  </thead>\n",
       "  <tbody>\n",
       "    <tr>\n",
       "      <th>population</th>\n",
       "      <td>1.000000</td>\n",
       "      <td>-0.046148</td>\n",
       "      <td>0.231178</td>\n",
       "      <td>-0.300845</td>\n",
       "      <td>0.181603</td>\n",
       "      <td>0.156218</td>\n",
       "      <td>0.006368</td>\n",
       "      <td>0.130344</td>\n",
       "      <td>0.075596</td>\n",
       "      <td>-0.102006</td>\n",
       "      <td>...</td>\n",
       "      <td>0.172731</td>\n",
       "      <td>-0.125133</td>\n",
       "      <td>-0.123691</td>\n",
       "      <td>0.001610</td>\n",
       "      <td>-0.089638</td>\n",
       "      <td>0.713652</td>\n",
       "      <td>0.231897</td>\n",
       "      <td>0.270356</td>\n",
       "      <td>0.466352</td>\n",
       "      <td>0.367157</td>\n",
       "    </tr>\n",
       "    <tr>\n",
       "      <th>householdsize</th>\n",
       "      <td>-0.046148</td>\n",
       "      <td>1.000000</td>\n",
       "      <td>-0.067109</td>\n",
       "      <td>-0.235907</td>\n",
       "      <td>0.201996</td>\n",
       "      <td>0.468659</td>\n",
       "      <td>0.520461</td>\n",
       "      <td>0.367338</td>\n",
       "      <td>0.295225</td>\n",
       "      <td>-0.612666</td>\n",
       "      <td>...</td>\n",
       "      <td>0.311107</td>\n",
       "      <td>-0.049253</td>\n",
       "      <td>-0.057842</td>\n",
       "      <td>-0.103109</td>\n",
       "      <td>-0.003277</td>\n",
       "      <td>-0.015078</td>\n",
       "      <td>-0.004072</td>\n",
       "      <td>-0.051506</td>\n",
       "      <td>-0.094368</td>\n",
       "      <td>-0.034923</td>\n",
       "    </tr>\n",
       "    <tr>\n",
       "      <th>racepctblack</th>\n",
       "      <td>0.231178</td>\n",
       "      <td>-0.067109</td>\n",
       "      <td>1.000000</td>\n",
       "      <td>-0.794389</td>\n",
       "      <td>-0.106738</td>\n",
       "      <td>-0.066581</td>\n",
       "      <td>0.122338</td>\n",
       "      <td>0.153475</td>\n",
       "      <td>0.134068</td>\n",
       "      <td>0.052934</td>\n",
       "      <td>...</td>\n",
       "      <td>-0.098114</td>\n",
       "      <td>0.093494</td>\n",
       "      <td>-0.045646</td>\n",
       "      <td>0.056358</td>\n",
       "      <td>-0.002894</td>\n",
       "      <td>0.149758</td>\n",
       "      <td>0.095053</td>\n",
       "      <td>0.147023</td>\n",
       "      <td>0.260793</td>\n",
       "      <td>0.631264</td>\n",
       "    </tr>\n",
       "    <tr>\n",
       "      <th>racePctWhite</th>\n",
       "      <td>-0.300845</td>\n",
       "      <td>-0.235907</td>\n",
       "      <td>-0.794389</td>\n",
       "      <td>1.000000</td>\n",
       "      <td>-0.270266</td>\n",
       "      <td>-0.444166</td>\n",
       "      <td>-0.194015</td>\n",
       "      <td>-0.266852</td>\n",
       "      <td>-0.183804</td>\n",
       "      <td>0.136483</td>\n",
       "      <td>...</td>\n",
       "      <td>-0.372924</td>\n",
       "      <td>0.113798</td>\n",
       "      <td>0.165285</td>\n",
       "      <td>-0.019677</td>\n",
       "      <td>0.032415</td>\n",
       "      <td>-0.131389</td>\n",
       "      <td>-0.337458</td>\n",
       "      <td>-0.215636</td>\n",
       "      <td>-0.276234</td>\n",
       "      <td>-0.684770</td>\n",
       "    </tr>\n",
       "    <tr>\n",
       "      <th>racePctAsian</th>\n",
       "      <td>0.181603</td>\n",
       "      <td>0.201996</td>\n",
       "      <td>-0.106738</td>\n",
       "      <td>-0.270266</td>\n",
       "      <td>1.000000</td>\n",
       "      <td>0.266743</td>\n",
       "      <td>-0.025020</td>\n",
       "      <td>0.100727</td>\n",
       "      <td>0.052761</td>\n",
       "      <td>-0.272020</td>\n",
       "      <td>...</td>\n",
       "      <td>0.657451</td>\n",
       "      <td>-0.405276</td>\n",
       "      <td>-0.189517</td>\n",
       "      <td>-0.194923</td>\n",
       "      <td>-0.198279</td>\n",
       "      <td>-0.001084</td>\n",
       "      <td>0.389944</td>\n",
       "      <td>0.296921</td>\n",
       "      <td>0.101888</td>\n",
       "      <td>0.037622</td>\n",
       "    </tr>\n",
       "    <tr>\n",
       "      <th>...</th>\n",
       "      <td>...</td>\n",
       "      <td>...</td>\n",
       "      <td>...</td>\n",
       "      <td>...</td>\n",
       "      <td>...</td>\n",
       "      <td>...</td>\n",
       "      <td>...</td>\n",
       "      <td>...</td>\n",
       "      <td>...</td>\n",
       "      <td>...</td>\n",
       "      <td>...</td>\n",
       "      <td>...</td>\n",
       "      <td>...</td>\n",
       "      <td>...</td>\n",
       "      <td>...</td>\n",
       "      <td>...</td>\n",
       "      <td>...</td>\n",
       "      <td>...</td>\n",
       "      <td>...</td>\n",
       "      <td>...</td>\n",
       "      <td>...</td>\n",
       "    </tr>\n",
       "    <tr>\n",
       "      <th>LandArea</th>\n",
       "      <td>0.713652</td>\n",
       "      <td>-0.015078</td>\n",
       "      <td>0.149758</td>\n",
       "      <td>-0.131389</td>\n",
       "      <td>-0.001084</td>\n",
       "      <td>0.011634</td>\n",
       "      <td>0.025736</td>\n",
       "      <td>0.062476</td>\n",
       "      <td>0.031632</td>\n",
       "      <td>-0.124245</td>\n",
       "      <td>...</td>\n",
       "      <td>-0.048845</td>\n",
       "      <td>-0.069273</td>\n",
       "      <td>-0.116901</td>\n",
       "      <td>-0.062989</td>\n",
       "      <td>-0.104403</td>\n",
       "      <td>1.000000</td>\n",
       "      <td>-0.170856</td>\n",
       "      <td>0.007699</td>\n",
       "      <td>0.299632</td>\n",
       "      <td>0.196800</td>\n",
       "    </tr>\n",
       "    <tr>\n",
       "      <th>PopDens</th>\n",
       "      <td>0.231897</td>\n",
       "      <td>-0.004072</td>\n",
       "      <td>0.095053</td>\n",
       "      <td>-0.337458</td>\n",
       "      <td>0.389944</td>\n",
       "      <td>0.370103</td>\n",
       "      <td>-0.095749</td>\n",
       "      <td>0.119725</td>\n",
       "      <td>0.045979</td>\n",
       "      <td>0.015434</td>\n",
       "      <td>...</td>\n",
       "      <td>0.614772</td>\n",
       "      <td>-0.221341</td>\n",
       "      <td>0.020701</td>\n",
       "      <td>0.118082</td>\n",
       "      <td>-0.012166</td>\n",
       "      <td>-0.170856</td>\n",
       "      <td>1.000000</td>\n",
       "      <td>0.587804</td>\n",
       "      <td>0.228084</td>\n",
       "      <td>0.281390</td>\n",
       "    </tr>\n",
       "    <tr>\n",
       "      <th>PctUsePubTrans</th>\n",
       "      <td>0.270356</td>\n",
       "      <td>-0.051506</td>\n",
       "      <td>0.147023</td>\n",
       "      <td>-0.215636</td>\n",
       "      <td>0.296921</td>\n",
       "      <td>0.078366</td>\n",
       "      <td>-0.173279</td>\n",
       "      <td>-0.023507</td>\n",
       "      <td>-0.040419</td>\n",
       "      <td>0.006786</td>\n",
       "      <td>...</td>\n",
       "      <td>0.401711</td>\n",
       "      <td>-0.175459</td>\n",
       "      <td>0.192367</td>\n",
       "      <td>0.081260</td>\n",
       "      <td>-0.042424</td>\n",
       "      <td>0.007699</td>\n",
       "      <td>0.587804</td>\n",
       "      <td>1.000000</td>\n",
       "      <td>0.206644</td>\n",
       "      <td>0.153829</td>\n",
       "    </tr>\n",
       "    <tr>\n",
       "      <th>LemasPctOfficDrugUn</th>\n",
       "      <td>0.466352</td>\n",
       "      <td>-0.094368</td>\n",
       "      <td>0.260793</td>\n",
       "      <td>-0.276234</td>\n",
       "      <td>0.101888</td>\n",
       "      <td>0.125353</td>\n",
       "      <td>0.001301</td>\n",
       "      <td>0.117290</td>\n",
       "      <td>0.083180</td>\n",
       "      <td>-0.010168</td>\n",
       "      <td>...</td>\n",
       "      <td>0.170946</td>\n",
       "      <td>-0.134230</td>\n",
       "      <td>-0.090249</td>\n",
       "      <td>0.008227</td>\n",
       "      <td>-0.107289</td>\n",
       "      <td>0.299632</td>\n",
       "      <td>0.228084</td>\n",
       "      <td>0.206644</td>\n",
       "      <td>1.000000</td>\n",
       "      <td>0.348627</td>\n",
       "    </tr>\n",
       "    <tr>\n",
       "      <th>ViolentCrimesPerPop</th>\n",
       "      <td>0.367157</td>\n",
       "      <td>-0.034923</td>\n",
       "      <td>0.631264</td>\n",
       "      <td>-0.684770</td>\n",
       "      <td>0.037622</td>\n",
       "      <td>0.293050</td>\n",
       "      <td>0.060477</td>\n",
       "      <td>0.153357</td>\n",
       "      <td>0.099347</td>\n",
       "      <td>0.067171</td>\n",
       "      <td>...</td>\n",
       "      <td>0.194390</td>\n",
       "      <td>-0.077159</td>\n",
       "      <td>-0.155388</td>\n",
       "      <td>0.075558</td>\n",
       "      <td>-0.019459</td>\n",
       "      <td>0.196800</td>\n",
       "      <td>0.281390</td>\n",
       "      <td>0.153829</td>\n",
       "      <td>0.348627</td>\n",
       "      <td>1.000000</td>\n",
       "    </tr>\n",
       "  </tbody>\n",
       "</table>\n",
       "<p>101 rows × 101 columns</p>\n",
       "</div>"
      ],
      "text/plain": [
       "                     population  householdsize  racepctblack  racePctWhite  \\\n",
       "population             1.000000      -0.046148      0.231178     -0.300845   \n",
       "householdsize         -0.046148       1.000000     -0.067109     -0.235907   \n",
       "racepctblack           0.231178      -0.067109      1.000000     -0.794389   \n",
       "racePctWhite          -0.300845      -0.235907     -0.794389      1.000000   \n",
       "racePctAsian           0.181603       0.201996     -0.106738     -0.270266   \n",
       "...                         ...            ...           ...           ...   \n",
       "LandArea               0.713652      -0.015078      0.149758     -0.131389   \n",
       "PopDens                0.231897      -0.004072      0.095053     -0.337458   \n",
       "PctUsePubTrans         0.270356      -0.051506      0.147023     -0.215636   \n",
       "LemasPctOfficDrugUn    0.466352      -0.094368      0.260793     -0.276234   \n",
       "ViolentCrimesPerPop    0.367157      -0.034923      0.631264     -0.684770   \n",
       "\n",
       "                     racePctAsian  racePctHisp  agePct12t21  agePct12t29  \\\n",
       "population               0.181603     0.156218     0.006368     0.130344   \n",
       "householdsize            0.201996     0.468659     0.520461     0.367338   \n",
       "racepctblack            -0.106738    -0.066581     0.122338     0.153475   \n",
       "racePctWhite            -0.270266    -0.444166    -0.194015    -0.266852   \n",
       "racePctAsian             1.000000     0.266743    -0.025020     0.100727   \n",
       "...                           ...          ...          ...          ...   \n",
       "LandArea                -0.001084     0.011634     0.025736     0.062476   \n",
       "PopDens                  0.389944     0.370103    -0.095749     0.119725   \n",
       "PctUsePubTrans           0.296921     0.078366    -0.173279    -0.023507   \n",
       "LemasPctOfficDrugUn      0.101888     0.125353     0.001301     0.117290   \n",
       "ViolentCrimesPerPop      0.037622     0.293050     0.060477     0.153357   \n",
       "\n",
       "                     agePct16t24  agePct65up  ...  PctForeignBorn  \\\n",
       "population              0.075596   -0.102006  ...        0.172731   \n",
       "householdsize           0.295225   -0.612666  ...        0.311107   \n",
       "racepctblack            0.134068    0.052934  ...       -0.098114   \n",
       "racePctWhite           -0.183804    0.136483  ...       -0.372924   \n",
       "racePctAsian            0.052761   -0.272020  ...        0.657451   \n",
       "...                          ...         ...  ...             ...   \n",
       "LandArea                0.031632   -0.124245  ...       -0.048845   \n",
       "PopDens                 0.045979    0.015434  ...        0.614772   \n",
       "PctUsePubTrans         -0.040419    0.006786  ...        0.401711   \n",
       "LemasPctOfficDrugUn     0.083180   -0.010168  ...        0.170946   \n",
       "ViolentCrimesPerPop     0.099347    0.067171  ...        0.194390   \n",
       "\n",
       "                     PctBornSameState  PctSameHouse85  PctSameCity85  \\\n",
       "population                  -0.125133       -0.123691       0.001610   \n",
       "householdsize               -0.049253       -0.057842      -0.103109   \n",
       "racepctblack                 0.093494       -0.045646       0.056358   \n",
       "racePctWhite                 0.113798        0.165285      -0.019677   \n",
       "racePctAsian                -0.405276       -0.189517      -0.194923   \n",
       "...                               ...             ...            ...   \n",
       "LandArea                    -0.069273       -0.116901      -0.062989   \n",
       "PopDens                     -0.221341        0.020701       0.118082   \n",
       "PctUsePubTrans              -0.175459        0.192367       0.081260   \n",
       "LemasPctOfficDrugUn         -0.134230       -0.090249       0.008227   \n",
       "ViolentCrimesPerPop         -0.077159       -0.155388       0.075558   \n",
       "\n",
       "                     PctSameState85  LandArea   PopDens  PctUsePubTrans  \\\n",
       "population                -0.089638  0.713652  0.231897        0.270356   \n",
       "householdsize             -0.003277 -0.015078 -0.004072       -0.051506   \n",
       "racepctblack              -0.002894  0.149758  0.095053        0.147023   \n",
       "racePctWhite               0.032415 -0.131389 -0.337458       -0.215636   \n",
       "racePctAsian              -0.198279 -0.001084  0.389944        0.296921   \n",
       "...                             ...       ...       ...             ...   \n",
       "LandArea                  -0.104403  1.000000 -0.170856        0.007699   \n",
       "PopDens                   -0.012166 -0.170856  1.000000        0.587804   \n",
       "PctUsePubTrans            -0.042424  0.007699  0.587804        1.000000   \n",
       "LemasPctOfficDrugUn       -0.107289  0.299632  0.228084        0.206644   \n",
       "ViolentCrimesPerPop       -0.019459  0.196800  0.281390        0.153829   \n",
       "\n",
       "                     LemasPctOfficDrugUn  ViolentCrimesPerPop  \n",
       "population                      0.466352             0.367157  \n",
       "householdsize                  -0.094368            -0.034923  \n",
       "racepctblack                    0.260793             0.631264  \n",
       "racePctWhite                   -0.276234            -0.684770  \n",
       "racePctAsian                    0.101888             0.037622  \n",
       "...                                  ...                  ...  \n",
       "LandArea                        0.299632             0.196800  \n",
       "PopDens                         0.228084             0.281390  \n",
       "PctUsePubTrans                  0.206644             0.153829  \n",
       "LemasPctOfficDrugUn             1.000000             0.348627  \n",
       "ViolentCrimesPerPop             0.348627             1.000000  \n",
       "\n",
       "[101 rows x 101 columns]"
      ]
     },
     "execution_count": 16,
     "metadata": {},
     "output_type": "execute_result"
    }
   ],
   "source": [
    "data.corr()"
   ]
  },
  {
   "cell_type": "code",
   "execution_count": 31,
   "metadata": {},
   "outputs": [
    {
     "data": {
      "image/png": "[encoded data removed]",
      "text/plain": [
       "<Figure size 1440x864 with 2 Axes>"
      ]
     },
     "metadata": {
      "needs_background": "light"
     },
     "output_type": "display_data"
    }
   ],
   "source": [
    "import seaborn as sns\n",
    "\n",
    "corrmat = data.corr()\n",
    "fig = plt.figure(figsize = (20, 12))\n",
    "\n",
    "sns.heatmap(corrmat, vmax = 0.8)\n",
    "plt.show()"
   ]
  },
  {
   "cell_type": "code",
   "execution_count": 17,
   "metadata": {},
   "outputs": [
    {
     "data": {
      "text/plain": [
       "PctKids2Par            -73.84\n",
       "PctFam2Par             -70.67\n",
       "racePctWhite           -68.48\n",
       "PctYoungKids2Par       -66.61\n",
       "PctTeen2Par            -66.16\n",
       "                        ...  \n",
       "FemalePctDiv            55.60\n",
       "pctWPubAsst             57.47\n",
       "racepctblack            63.13\n",
       "PctIlleg                73.80\n",
       "ViolentCrimesPerPop    100.00\n",
       "Name: ViolentCrimesPerPop, Length: 101, dtype: float64"
      ]
     },
     "execution_count": 17,
     "metadata": {},
     "output_type": "execute_result"
    }
   ],
   "source": [
    "corrT = data.corr(method = 'pearson').round(4)*100\n",
    "corrT = corrT.sort_values(by=['ViolentCrimesPerPop'])\n",
    "corrT['ViolentCrimesPerPop']"
   ]
  },
  {
   "cell_type": "markdown",
   "metadata": {},
   "source": [
    "# Principal Component Analysis (PCA)\n",
    "The dataset contain many variables highly correlated. Multicolinearity will increase the model variance. Dimensionality reduction utilizing PCA can provide an optimal set of orthogonal features. "
   ]
  },
  {
   "cell_type": "code",
   "execution_count": 18,
   "metadata": {},
   "outputs": [
    {
     "name": "stdout",
     "output_type": "stream",
     "text": [
      "(1994, 20)\n",
      "(1994,)\n"
     ]
    }
   ],
   "source": [
    "X = data.iloc[:, 0:20]\n",
    "y = data.iloc[:, 100]\n",
    "\n",
    "from sklearn.model_selection import train_test_split\n",
    "seed = 0\n",
    "X_train, X_test, y_train, y_test = train_test_split(X, y, test_size = 0.3, random_state = seed)\n",
    "\n",
    "print(X.shape)\n",
    "print(y.shape)"
   ]
  },
  {
   "cell_type": "code",
   "execution_count": 19,
   "metadata": {},
   "outputs": [],
   "source": [
    "from sklearn.preprocessing import StandardScaler\n",
    "\n",
    "# Standardize features by removing the mean and scaling to unit variance\n",
    "\n",
    "sc = StandardScaler()\n",
    "X_train = sc.fit_transform(X_train)\n",
    "X_test = sc.transform(X_test)"
   ]
  },
  {
   "cell_type": "code",
   "execution_count": null,
   "metadata": {},
   "outputs": [],
   "source": []
  },
  {
   "cell_type": "code",
   "execution_count": 20,
   "metadata": {},
   "outputs": [
    {
     "name": "stdout",
     "output_type": "stream",
     "text": [
      "(1994, 20)\n"
     ]
    },
    {
     "data": {
      "text/html": [
       "<div>\n",
       "<style scoped>\n",
       "    .dataframe tbody tr th:only-of-type {\n",
       "        vertical-align: middle;\n",
       "    }\n",
       "\n",
       "    .dataframe tbody tr th {\n",
       "        vertical-align: top;\n",
       "    }\n",
       "\n",
       "    .dataframe thead th {\n",
       "        text-align: right;\n",
       "    }\n",
       "</style>\n",
       "<table border=\"1\" class=\"dataframe\">\n",
       "  <thead>\n",
       "    <tr style=\"text-align: right;\">\n",
       "      <th></th>\n",
       "      <th>0</th>\n",
       "      <th>1</th>\n",
       "      <th>2</th>\n",
       "      <th>3</th>\n",
       "      <th>4</th>\n",
       "      <th>5</th>\n",
       "      <th>6</th>\n",
       "      <th>7</th>\n",
       "      <th>8</th>\n",
       "      <th>9</th>\n",
       "      <th>10</th>\n",
       "      <th>11</th>\n",
       "      <th>12</th>\n",
       "      <th>13</th>\n",
       "      <th>14</th>\n",
       "      <th>15</th>\n",
       "      <th>16</th>\n",
       "      <th>17</th>\n",
       "      <th>18</th>\n",
       "      <th>19</th>\n",
       "    </tr>\n",
       "  </thead>\n",
       "  <tbody>\n",
       "    <tr>\n",
       "      <th>0</th>\n",
       "      <td>-0.42</td>\n",
       "      <td>-0.03</td>\n",
       "      <td>-0.05</td>\n",
       "      <td>0.04</td>\n",
       "      <td>0.15</td>\n",
       "      <td>-0.15</td>\n",
       "      <td>-0.01</td>\n",
       "      <td>0.27</td>\n",
       "      <td>0.02</td>\n",
       "      <td>0.07</td>\n",
       "      <td>0.04</td>\n",
       "      <td>0.08</td>\n",
       "      <td>0.06</td>\n",
       "      <td>-0.01</td>\n",
       "      <td>-0.00</td>\n",
       "      <td>-0.02</td>\n",
       "      <td>-0.02</td>\n",
       "      <td>-0.00</td>\n",
       "      <td>0.01</td>\n",
       "      <td>0.00</td>\n",
       "    </tr>\n",
       "    <tr>\n",
       "      <th>1</th>\n",
       "      <td>-0.33</td>\n",
       "      <td>0.19</td>\n",
       "      <td>-0.03</td>\n",
       "      <td>-0.05</td>\n",
       "      <td>0.05</td>\n",
       "      <td>0.08</td>\n",
       "      <td>-0.21</td>\n",
       "      <td>0.24</td>\n",
       "      <td>-0.43</td>\n",
       "      <td>0.04</td>\n",
       "      <td>0.01</td>\n",
       "      <td>0.15</td>\n",
       "      <td>0.00</td>\n",
       "      <td>0.03</td>\n",
       "      <td>0.02</td>\n",
       "      <td>0.00</td>\n",
       "      <td>0.01</td>\n",
       "      <td>-0.04</td>\n",
       "      <td>-0.00</td>\n",
       "      <td>-0.00</td>\n",
       "    </tr>\n",
       "    <tr>\n",
       "      <th>2</th>\n",
       "      <td>0.62</td>\n",
       "      <td>-0.12</td>\n",
       "      <td>-0.03</td>\n",
       "      <td>-0.29</td>\n",
       "      <td>-0.34</td>\n",
       "      <td>0.10</td>\n",
       "      <td>-0.22</td>\n",
       "      <td>-0.06</td>\n",
       "      <td>0.01</td>\n",
       "      <td>-0.06</td>\n",
       "      <td>0.33</td>\n",
       "      <td>0.24</td>\n",
       "      <td>-0.01</td>\n",
       "      <td>-0.05</td>\n",
       "      <td>-0.02</td>\n",
       "      <td>0.01</td>\n",
       "      <td>0.00</td>\n",
       "      <td>-0.01</td>\n",
       "      <td>0.00</td>\n",
       "      <td>-0.01</td>\n",
       "    </tr>\n",
       "    <tr>\n",
       "      <th>3</th>\n",
       "      <td>-0.20</td>\n",
       "      <td>0.72</td>\n",
       "      <td>-0.14</td>\n",
       "      <td>-0.67</td>\n",
       "      <td>-0.40</td>\n",
       "      <td>-0.08</td>\n",
       "      <td>0.04</td>\n",
       "      <td>-0.47</td>\n",
       "      <td>0.24</td>\n",
       "      <td>0.03</td>\n",
       "      <td>0.45</td>\n",
       "      <td>0.11</td>\n",
       "      <td>-0.03</td>\n",
       "      <td>0.04</td>\n",
       "      <td>0.00</td>\n",
       "      <td>-0.08</td>\n",
       "      <td>0.03</td>\n",
       "      <td>-0.00</td>\n",
       "      <td>0.01</td>\n",
       "      <td>-0.00</td>\n",
       "    </tr>\n",
       "    <tr>\n",
       "      <th>4</th>\n",
       "      <td>-0.44</td>\n",
       "      <td>-0.25</td>\n",
       "      <td>0.08</td>\n",
       "      <td>0.00</td>\n",
       "      <td>0.05</td>\n",
       "      <td>-0.02</td>\n",
       "      <td>-0.14</td>\n",
       "      <td>-0.12</td>\n",
       "      <td>0.09</td>\n",
       "      <td>-0.05</td>\n",
       "      <td>0.19</td>\n",
       "      <td>0.03</td>\n",
       "      <td>0.08</td>\n",
       "      <td>0.00</td>\n",
       "      <td>-0.01</td>\n",
       "      <td>-0.05</td>\n",
       "      <td>0.01</td>\n",
       "      <td>-0.01</td>\n",
       "      <td>0.01</td>\n",
       "      <td>0.00</td>\n",
       "    </tr>\n",
       "  </tbody>\n",
       "</table>\n",
       "</div>"
      ],
      "text/plain": [
       "     0     1     2     3     4     5     6     7     8     9     10    11  \\\n",
       "0 -0.42 -0.03 -0.05  0.04  0.15 -0.15 -0.01  0.27  0.02  0.07  0.04  0.08   \n",
       "1 -0.33  0.19 -0.03 -0.05  0.05  0.08 -0.21  0.24 -0.43  0.04  0.01  0.15   \n",
       "2  0.62 -0.12 -0.03 -0.29 -0.34  0.10 -0.22 -0.06  0.01 -0.06  0.33  0.24   \n",
       "3 -0.20  0.72 -0.14 -0.67 -0.40 -0.08  0.04 -0.47  0.24  0.03  0.45  0.11   \n",
       "4 -0.44 -0.25  0.08  0.00  0.05 -0.02 -0.14 -0.12  0.09 -0.05  0.19  0.03   \n",
       "\n",
       "     12    13    14    15    16    17    18    19  \n",
       "0  0.06 -0.01 -0.00 -0.02 -0.02 -0.00  0.01  0.00  \n",
       "1  0.00  0.03  0.02  0.00  0.01 -0.04 -0.00 -0.00  \n",
       "2 -0.01 -0.05 -0.02  0.01  0.00 -0.01  0.00 -0.01  \n",
       "3 -0.03  0.04  0.00 -0.08  0.03 -0.00  0.01 -0.00  \n",
       "4  0.08  0.00 -0.01 -0.05  0.01 -0.01  0.01  0.00  "
      ]
     },
     "execution_count": 20,
     "metadata": {},
     "output_type": "execute_result"
    }
   ],
   "source": [
    "from sklearn.decomposition import PCA\n",
    "\n",
    "import pandas as pd\n",
    "pca = PCA()\n",
    "df_pca = pca.fit_transform(X=X)\n",
    "\n",
    "# Store as dataframe and print\n",
    "df_pca = pd.DataFrame(df_pca)\n",
    "print(df_pca.shape) \n",
    "df_pca.round(2).head()"
   ]
  },
  {
   "cell_type": "code",
   "execution_count": null,
   "metadata": {},
   "outputs": [],
   "source": []
  },
  {
   "cell_type": "code",
   "execution_count": 21,
   "metadata": {},
   "outputs": [
    {
     "name": "stdout",
     "output_type": "stream",
     "text": [
      "Amount of variance: [5.12359038e+00 4.95882397e+00 2.62841467e+00 1.62587775e+00\n",
      " 1.20378839e+00 1.18446790e+00 8.46868162e-01 6.84065847e-01\n",
      " 5.54410349e-01 3.90070510e-01 3.03521134e-01 1.96544729e-01\n",
      " 1.05730275e-01 9.25751004e-02 4.50285141e-02 2.71561225e-02\n",
      " 2.27167539e-02 1.05905724e-02 8.15475786e-03 1.95132030e-03]\n",
      "Sum of the variance: 20.01\n",
      "Percentage of variance: [2.55995878e-01 2.47763463e-01 1.31326525e-01 8.12356122e-02\n",
      " 6.01462728e-02 5.91809411e-02 4.23130544e-02 3.41787739e-02\n",
      " 2.77006461e-02 1.94895445e-02 1.51651778e-02 9.82019183e-03\n",
      " 5.28272416e-03 4.62543692e-03 2.24981178e-03 1.35683279e-03\n",
      " 1.13502347e-03 5.29149028e-04 4.07445608e-04 9.74960751e-05]\n",
      "Sum of the percentage of variance: 1.0\n"
     ]
    }
   ],
   "source": [
    "from sklearn.decomposition import PCA\n",
    "\n",
    "c = 20\n",
    "pca = PCA(n_components = c)\n",
    "X_train = pca.fit_transform(X_train)\n",
    "X_test = pca.transform(X_test)\n",
    "\n",
    "print(\"Amount of variance: %s\" % pca.explained_variance_)\n",
    "print(\"Sum of the variance: %s\" % sum(pca.explained_variance_).round(2))\n",
    "\n",
    "print(\"Percentage of variance: %s\" % pca.explained_variance_ratio_)\n",
    "print(\"Sum of the percentage of variance: %s\" % sum(pca.explained_variance_ratio_).round(2))"
   ]
  },
  {
   "cell_type": "code",
   "execution_count": 22,
   "metadata": {},
   "outputs": [
    {
     "name": "stdout",
     "output_type": "stream",
     "text": [
      "                             OLS Regression Results                            \n",
      "===============================================================================\n",
      "Dep. Variable:     ViolentCrimesPerPop   R-squared:                       0.622\n",
      "Model:                             OLS   Adj. R-squared:                  0.618\n",
      "Method:                  Least Squares   F-statistic:                     162.4\n",
      "Date:                 Thu, 27 May 2021   Prob (F-statistic):               0.00\n",
      "Time:                         18:00:09   Log-Likelihood:                 1046.1\n",
      "No. Observations:                 1994   AIC:                            -2050.\n",
      "Df Residuals:                     1973   BIC:                            -1933.\n",
      "Df Model:                           20                                         \n",
      "Covariance Type:             nonrobust                                         \n",
      "=================================================================================\n",
      "                    coef    std err          t      P>|t|      [0.025      0.975]\n",
      "---------------------------------------------------------------------------------\n",
      "const             0.8234      0.108      7.653      0.000       0.612       1.034\n",
      "population        0.7132      0.397      1.795      0.073      -0.066       1.492\n",
      "householdsize    -0.0759      0.049     -1.561      0.119      -0.171       0.019\n",
      "racepctblack      0.3032      0.046      6.606      0.000       0.213       0.393\n",
      "racePctWhite     -0.1166      0.055     -2.138      0.033      -0.223      -0.010\n",
      "racePctAsian     -0.0079      0.026     -0.305      0.760      -0.059       0.043\n",
      "racePctHisp       0.1332      0.030      4.481      0.000       0.075       0.192\n",
      "agePct12t21      -0.3223      0.085     -3.812      0.000      -0.488      -0.156\n",
      "agePct12t29      -0.3632      0.136     -2.679      0.007      -0.629      -0.097\n",
      "agePct16t24       0.5258      0.136      3.879      0.000       0.260       0.792\n",
      "agePct65up        0.0080      0.096      0.084      0.933      -0.181       0.197\n",
      "numbUrban        -0.4782      0.404     -1.184      0.237      -1.270       0.314\n",
      "pctUrban          0.0739      0.015      4.835      0.000       0.044       0.104\n",
      "medIncome         0.1975      0.125      1.579      0.115      -0.048       0.443\n",
      "pctWWage         -0.3533      0.069     -5.124      0.000      -0.489      -0.218\n",
      "pctWFarmSelf     -0.0135      0.019     -0.709      0.478      -0.051       0.024\n",
      "pctWInvInc       -0.3023      0.049     -6.212      0.000      -0.398      -0.207\n",
      "pctWSocSec       -0.2302      0.090     -2.566      0.010      -0.406      -0.054\n",
      "pctWPubAsst       0.0969      0.033      2.957      0.003       0.033       0.161\n",
      "pctWRetire       -0.0976      0.030     -3.252      0.001      -0.156      -0.039\n",
      "medFamInc        -0.1511      0.120     -1.263      0.207      -0.386       0.084\n",
      "==============================================================================\n",
      "Omnibus:                      363.975   Durbin-Watson:                   2.013\n",
      "Prob(Omnibus):                  0.000   Jarque-Bera (JB):             1037.201\n",
      "Skew:                           0.947   Prob(JB):                    5.95e-226\n",
      "Kurtosis:                       5.983   Cond. No.                         376.\n",
      "==============================================================================\n",
      "\n",
      "Notes:\n",
      "[1] Standard Errors assume that the covariance matrix of the errors is correctly specified.\n"
     ]
    }
   ],
   "source": [
    "#importing OLS statsmodel to check the p-values of the X variable\n",
    "import statsmodels.api as sm\n",
    "X2 = sm.add_constant(X) \n",
    "ols = sm.OLS(y,X2)\n",
    "lr = ols.fit()\n",
    "print(lr.summary())"
   ]
  },
  {
   "cell_type": "code",
   "execution_count": null,
   "metadata": {},
   "outputs": [],
   "source": [
    " OLS result shows P-value of some variables have more than 0.05\n",
    "(significance level) so to get rid of those value we need to apply back elimination\n"
   ]
  },
  {
   "cell_type": "code",
   "execution_count": 23,
   "metadata": {},
   "outputs": [
    {
     "name": "stdout",
     "output_type": "stream",
     "text": [
      "                             OLS Regression Results                            \n",
      "===============================================================================\n",
      "Dep. Variable:     ViolentCrimesPerPop   R-squared:                       0.621\n",
      "Model:                             OLS   Adj. R-squared:                  0.618\n",
      "Method:                  Least Squares   F-statistic:                     249.5\n",
      "Date:                 Thu, 27 May 2021   Prob (F-statistic):               0.00\n",
      "Time:                         18:00:14   Log-Likelihood:                 1043.2\n",
      "No. Observations:                 1994   AIC:                            -2058.\n",
      "Df Residuals:                     1980   BIC:                            -1980.\n",
      "Df Model:                           13                                         \n",
      "Covariance Type:             nonrobust                                         \n",
      "================================================================================\n",
      "                   coef    std err          t      P>|t|      [0.025      0.975]\n",
      "--------------------------------------------------------------------------------\n",
      "const            0.8443      0.083     10.219      0.000       0.682       1.006\n",
      "population       0.2461      0.028      8.695      0.000       0.191       0.302\n",
      "racepctblack     0.3173      0.036      8.793      0.000       0.246       0.388\n",
      "racePctWhite    -0.1018      0.041     -2.496      0.013      -0.182      -0.022\n",
      "racePctHisp      0.1291      0.027      4.806      0.000       0.076       0.182\n",
      "agePct12t21     -0.4090      0.057     -7.163      0.000      -0.521      -0.297\n",
      "agePct12t29     -0.4454      0.117     -3.801      0.000      -0.675      -0.216\n",
      "agePct16t24      0.6040      0.115      5.256      0.000       0.379       0.829\n",
      "pctUrban         0.0622      0.009      7.239      0.000       0.045       0.079\n",
      "pctWWage        -0.3471      0.056     -6.164      0.000      -0.457      -0.237\n",
      "pctWInvInc      -0.2946      0.038     -7.824      0.000      -0.368      -0.221\n",
      "pctWSocSec      -0.2537      0.057     -4.474      0.000      -0.365      -0.142\n",
      "pctWPubAsst      0.0949      0.030      3.155      0.002       0.036       0.154\n",
      "pctWRetire      -0.0902      0.028     -3.230      0.001      -0.145      -0.035\n",
      "==============================================================================\n",
      "Omnibus:                      368.482   Durbin-Watson:                   2.005\n",
      "Prob(Omnibus):                  0.000   Jarque-Bera (JB):             1055.718\n",
      "Skew:                           0.956   Prob(JB):                    5.67e-230\n",
      "Kurtosis:                       6.009   Cond. No.                         104.\n",
      "==============================================================================\n",
      "\n",
      "Notes:\n",
      "[1] Standard Errors assume that the covariance matrix of the errors is correctly specified.\n"
     ]
    }
   ],
   "source": [
    "#backward feature elimination\n",
    "while (lr.pvalues.max()>0.05):\n",
    "    X2.drop(lr.pvalues.idxmax(),axis=1,inplace=True)\n",
    "    ols = sm.OLS(y,X2)\n",
    "    lr = ols.fit()\n",
    "print(lr.summary())"
   ]
  },
  {
   "cell_type": "code",
   "execution_count": 24,
   "metadata": {},
   "outputs": [],
   "source": [
    "#For cross-validation using train-test split\n",
    "from sklearn.model_selection import train_test_split\n",
    "X_train,X_test,y_train,y_test = train_test_split(X,y,\n",
    "                                                 random_state=1,test_size=0.2)"
   ]
  },
  {
   "cell_type": "code",
   "execution_count": 25,
   "metadata": {
    "scrolled": true
   },
   "outputs": [
    {
     "data": {
      "text/plain": [
       "0.5740599054303881"
      ]
     },
     "execution_count": 25,
     "metadata": {},
     "output_type": "execute_result"
    }
   ],
   "source": [
    "from sklearn.linear_model import LinearRegression\n",
    "model = LinearRegression()\n",
    "model.fit(X_train,y_train)\n",
    "model.score(X_test,y_test)"
   ]
  },
  {
   "cell_type": "code",
   "execution_count": 26,
   "metadata": {},
   "outputs": [
    {
     "name": "stdout",
     "output_type": "stream",
     "text": [
      "0.5740599054303881\n",
      "0.021798169330980045\n",
      "0.14764203104461834\n"
     ]
    }
   ],
   "source": [
    "y_pred = model.predict(X_test)\n",
    "from sklearn.metrics import r2_score,mean_squared_error\n",
    "import math\n",
    "\n",
    "print(r2_score(y_test,y_pred)) #r2\n",
    "print(mean_squared_error(y_test,y_pred)) # mse\n",
    "print(math.sqrt(mean_squared_error(y_test,y_pred)))#rmse"
   ]
  },
  {
   "cell_type": "code",
   "execution_count": 27,
   "metadata": {
    "scrolled": true
   },
   "outputs": [
    {
     "data": {
      "text/plain": [
       "0.608291900056981"
      ]
     },
     "execution_count": 27,
     "metadata": {},
     "output_type": "execute_result"
    }
   ],
   "source": [
    "#k-fold cross-validation\n",
    "from sklearn.model_selection import cross_val_score\n",
    "cross_val_score(LinearRegression(),X,y,cv=5).mean()"
   ]
  },
  {
   "cell_type": "code",
   "execution_count": 28,
   "metadata": {},
   "outputs": [
    {
     "data": {
      "text/plain": [
       "0.5740599054303881"
      ]
     },
     "execution_count": 28,
     "metadata": {},
     "output_type": "execute_result"
    }
   ],
   "source": [
    "#dimensions of data\n",
    "n = len(X_test)\n",
    "k = len(X_test)\n",
    "R2 = r2_score(y_test,y_pred)\n",
    "R2"
   ]
  },
  {
   "cell_type": "code",
   "execution_count": 29,
   "metadata": {},
   "outputs": [
    {
     "name": "stdout",
     "output_type": "stream",
     "text": [
      "170.52415763870553\n"
     ]
    }
   ],
   "source": [
    "#Adj R^2 is useful in multiple regression \n",
    "#as it accounts for number of variables in the scoring\n",
    "\n",
    "Adj_R2 = 1 - ((n-1)*(1- R2)/(n-k-1))\n",
    "print(Adj_R2)"
   ]
  },
  {
   "cell_type": "code",
   "execution_count": 30,
   "metadata": {},
   "outputs": [
    {
     "data": {
      "text/plain": [
       "LinearRegression()"
      ]
     },
     "execution_count": 30,
     "metadata": {},
     "output_type": "execute_result"
    }
   ],
   "source": [
    "model = LinearRegression()\n",
    "model.fit(X,y)"
   ]
  },
  {
   "cell_type": "code",
   "execution_count": 31,
   "metadata": {},
   "outputs": [
    {
     "data": {
      "text/plain": [
       "0.8234174390544429"
      ]
     },
     "execution_count": 31,
     "metadata": {},
     "output_type": "execute_result"
    }
   ],
   "source": [
    "model.intercept_"
   ]
  },
  {
   "cell_type": "code",
   "execution_count": 32,
   "metadata": {},
   "outputs": [
    {
     "data": {
      "text/plain": [
       "array([ 0.71315148, -0.07585026,  0.30319919, -0.11656156, -0.00794224,\n",
       "        0.13324176, -0.322304  , -0.36318556,  0.52581244,  0.00804374,\n",
       "       -0.47824682,  0.07388175,  0.19747783, -0.35330084, -0.01354118,\n",
       "       -0.30226887, -0.23019036,  0.09688083, -0.09760119, -0.15109376])"
      ]
     },
     "execution_count": 32,
     "metadata": {},
     "output_type": "execute_result"
    }
   ],
   "source": [
    "model.coef_"
   ]
  },
  {
   "cell_type": "code",
   "execution_count": 33,
   "metadata": {},
   "outputs": [],
   "source": [
    "#import the knn model\n",
    "from sklearn.neighbors import KNeighborsRegressor\n",
    "\n",
    "knn = KNeighborsRegressor()"
   ]
  },
  {
   "cell_type": "code",
   "execution_count": 34,
   "metadata": {},
   "outputs": [
    {
     "data": {
      "text/plain": [
       "0.5853294259387867"
      ]
     },
     "execution_count": 34,
     "metadata": {},
     "output_type": "execute_result"
    }
   ],
   "source": [
    "#see the cross_validated score for cv=5\n",
    "from sklearn.model_selection import cross_val_score\n",
    "cross_val_score(knn,X_train,y_train,cv=5).mean()\n",
    "\n"
   ]
  },
  {
   "cell_type": "code",
   "execution_count": 35,
   "metadata": {},
   "outputs": [],
   "source": [
    "#for no.of neighbors from 1 - 10, graph the k-fold scores\n",
    "scores = []\n",
    "for i in range(1,11,1):\n",
    "    knn = KNeighborsRegressor(n_neighbors=i, weights='uniform')\n",
    "    scores.append(cross_val_score(knn,X,y,cv=3).mean())"
   ]
  },
  {
   "cell_type": "code",
   "execution_count": 36,
   "metadata": {},
   "outputs": [
    {
     "data": {
      "image/png": "[encoded data removed]",
      "text/plain": [
       "<Figure size 432x288 with 1 Axes>"
      ]
     },
     "metadata": {
      "needs_background": "light"
     },
     "output_type": "display_data"
    }
   ],
   "source": [
    "import matplotlib.pyplot as plt\n",
    "plt.plot(range(1,11,1),scores)\n",
    "plt.xlabel('no. of neighbors')\n",
    "plt.ylabel('k-fold test scores')\n",
    "plt.show()"
   ]
  },
  {
   "cell_type": "markdown",
   "metadata": {},
   "source": [
    "# 4 KNN IS THE BEST MODEL\n"
   ]
  },
  {
   "cell_type": "code",
   "execution_count": 37,
   "metadata": {},
   "outputs": [
    {
     "name": "stdout",
     "output_type": "stream",
     "text": [
      "KNeighborsRegressor(n_neighbors=4)\n",
      "R2 Value: 0.7620638540162159\n"
     ]
    }
   ],
   "source": [
    "# K-Nearest Neighbor(KNN)\n",
    "from sklearn.neighbors import KNeighborsRegressor\n",
    "RegModel = KNeighborsRegressor(n_neighbors=4)\n",
    "\n",
    "# Printing all the parameters of KNN\n",
    "print(RegModel)\n",
    "\n",
    "# Creating the model on Training Data\n",
    "KNN=RegModel.fit(X_train,y_train)\n",
    "prediction=KNN.predict(X_test)\n",
    "\n",
    "from sklearn import metrics\n",
    "# Measuring Goodness of fit in Training data\n",
    "print('R2 Value:',metrics.r2_score(y_train, KNN.predict(X_train)))\n",
    "\n",
    "# Plotting the feature importance for Top 10 most important columns\n",
    "# The variable importance chart is not available for KNN K-Nearest Neighbor(KNN)\n"
   ]
  },
  {
   "cell_type": "code",
   "execution_count": 38,
   "metadata": {},
   "outputs": [
    {
     "name": "stdout",
     "output_type": "stream",
     "text": [
      "\n",
      "Accuracy values for 10-fold Cross Validation:\n",
      " [0.52259511 0.47916502 0.56463292 0.51243197 0.62812233 0.63213585\n",
      " 0.63619532 0.53921097 0.5263618  0.50642523]\n",
      "\n",
      "Final Average Accuracy of the model: 0.5547\n"
     ]
    }
   ],
   "source": [
    "Accuracy_Values=cross_val_score(RegModel, X , y, cv=10,)\n",
    "print('\\nAccuracy values for 10-fold Cross Validation:\\n',Accuracy_Values)\n",
    "print('\\nFinal Average Accuracy of the model:', round(Accuracy_Values.mean(),4))"
   ]
  },
  {
   "cell_type": "markdown",
   "metadata": {},
   "source": [
    "# SVR MODEL"
   ]
  },
  {
   "cell_type": "code",
   "execution_count": 39,
   "metadata": {},
   "outputs": [],
   "source": [
    "from sklearn.svm import LinearSVR\n",
    "from sklearn.datasets import make_regression\n",
    "from sklearn.metrics import mean_squared_error\n",
    "from sklearn.model_selection import train_test_split\n",
    "from sklearn.model_selection import cross_val_score\n",
    "from sklearn.preprocessing import scale\n"
   ]
  },
  {
   "cell_type": "code",
   "execution_count": 40,
   "metadata": {},
   "outputs": [
    {
     "data": {
      "text/plain": [
       "LinearSVR(max_iter=1000000)"
      ]
     },
     "execution_count": 40,
     "metadata": {},
     "output_type": "execute_result"
    }
   ],
   "source": [
    "from sklearn.svm import LinearSVR, NuSVR, OneClassSVM\n",
    "\n",
    "\n",
    "linear_svr = LinearSVR(max_iter=1000000)\n",
    "linear_svr.fit(X_train, y_train)"
   ]
  },
  {
   "cell_type": "code",
   "execution_count": 41,
   "metadata": {},
   "outputs": [
    {
     "name": "stdout",
     "output_type": "stream",
     "text": [
      "[0.04935113 0.16911705 0.20653792 0.01499192 0.22338035 0.07556967\n",
      " 0.21224535 0.14441332 0.33231831 0.39346426 0.34655867 0.0318587\n",
      " 0.18088078 0.16266399 0.08289046 0.11944457 0.09996559 0.26405011\n",
      " 0.04498364 0.37070482]\n",
      "1746    0.06\n",
      "1556    0.37\n",
      "56      0.22\n",
      "1740    0.01\n",
      "913     0.16\n",
      "1781    0.08\n",
      "613     0.10\n",
      "414     0.10\n",
      "1290    0.28\n",
      "804     0.28\n",
      "906     0.46\n",
      "1179    0.03\n",
      "321     0.09\n",
      "120     0.22\n",
      "1824    0.05\n",
      "547     0.18\n",
      "1342    0.02\n",
      "1676    0.28\n",
      "1986    0.02\n",
      "1301    0.40\n",
      "Name: ViolentCrimesPerPop, dtype: float64\n",
      "Test R^2 Score : 0.567\n",
      "Training R^2 Score : 0.611\n"
     ]
    }
   ],
   "source": [
    "Y_preds = linear_svr.predict(X_test)\n",
    "\n",
    "print(Y_preds[:20])\n",
    "print(y_test[:20])\n",
    "\n",
    "print('Test R^2 Score : %.3f'%linear_svr.score(X_test, y_test)) ## Score method also evaluates accuracy for classification models.\n",
    "print('Training R^2 Score : %.3f'%linear_svr.score(X_train, y_train))"
   ]
  },
  {
   "cell_type": "code",
   "execution_count": 42,
   "metadata": {},
   "outputs": [
    {
     "name": "stdout",
     "output_type": "stream",
     "text": [
      "[ 0.41852215 -0.01317429  0.32988806 -0.111695   -0.02717012  0.13295913\n",
      " -0.17753895 -0.2533199   0.32577969  0.04497619 -0.12274738  0.03425843\n",
      "  0.07535018 -0.19141163 -0.00407079 -0.2080614  -0.15383214  0.13162464\n",
      " -0.05602158 -0.04127631]\n"
     ]
    }
   ],
   "source": [
    "print( linear_svr.coef_)"
   ]
  },
  {
   "cell_type": "code",
   "execution_count": 43,
   "metadata": {},
   "outputs": [
    {
     "name": "stdout",
     "output_type": "stream",
     "text": [
      "Model Intercept : [0.52172149]\n"
     ]
    }
   ],
   "source": [
    "print(\"Model Intercept :\", linear_svr.intercept_)"
   ]
  },
  {
   "cell_type": "code",
   "execution_count": 44,
   "metadata": {},
   "outputs": [
    {
     "name": "stdout",
     "output_type": "stream",
     "text": [
      "0.6118767551291114\n"
     ]
    }
   ],
   "source": [
    "linear_svr.fit(X_train, y_train)\n",
    "\n",
    "score = linear_svr.score(X_train, y_train)\n",
    "print(score)"
   ]
  },
  {
   "cell_type": "code",
   "execution_count": 45,
   "metadata": {},
   "outputs": [
    {
     "name": "stdout",
     "output_type": "stream",
     "text": [
      "CV mean score:  0.5935707885917879\n"
     ]
    }
   ],
   "source": [
    "cv_score = cross_val_score(linear_svr, X, y, cv = 10)\n",
    "print(\"CV mean score: \", cv_score.mean())"
   ]
  },
  {
   "cell_type": "code",
   "execution_count": 46,
   "metadata": {},
   "outputs": [
    {
     "name": "stdout",
     "output_type": "stream",
     "text": [
      "MSE:  0.02212645928850996\n",
      "RMSE:  0.01106322964425498\n"
     ]
    }
   ],
   "source": [
    "ypred = linear_svr.predict(X_test)\n",
    "\n",
    "mse = mean_squared_error(y_test, ypred)\n",
    "print(\"MSE: \", mse)\n",
    "print(\"RMSE: \", mse*(1/2.0))"
   ]
  },
  {
   "cell_type": "code",
   "execution_count": 47,
   "metadata": {},
   "outputs": [
    {
     "name": "stdout",
     "output_type": "stream",
     "text": [
      "R-squared: 0.6118767551291114\n"
     ]
    }
   ],
   "source": [
    "score = linear_svr.score(X_train, y_train)\n",
    "print(\"R-squared:\", score)"
   ]
  },
  {
   "cell_type": "markdown",
   "metadata": {},
   "source": [
    "# ADABOOST "
   ]
  },
  {
   "cell_type": "code",
   "execution_count": 48,
   "metadata": {},
   "outputs": [
    {
     "data": {
      "image/png": "[encoded data removed]",
      "text/plain": [
       "<Figure size 432x288 with 1 Axes>"
      ]
     },
     "metadata": {
      "needs_background": "light"
     },
     "output_type": "display_data"
    }
   ],
   "source": [
    "from sklearn.ensemble import AdaBoostRegressor\n",
    "\n",
    "\n",
    "#Graph k-fold score vs no. of estimators in Adaboost which uses DT as base estimators\n",
    "scores = []\n",
    "for i in range(10,110,10):\n",
    "    scores.append(cross_val_score(AdaBoostRegressor(n_estimators=i,random_state=0),\n",
    "                                  X,y,cv=10).mean())\n",
    "plt.plot(range(10,110,10),scores)\n",
    "plt.xlabel('No. of DTs in Adaboost')\n",
    "plt.ylabel('K-fold scores')\n",
    "plt.show()"
   ]
  },
  {
   "cell_type": "code",
   "execution_count": 49,
   "metadata": {},
   "outputs": [
    {
     "data": {
      "text/plain": [
       "GridSearchCV(cv=10, estimator=AdaBoostRegressor(random_state=0),\n",
       "             param_grid={'base_estimator': [DecisionTreeRegressor(max_depth=12,\n",
       "                                                                  random_state=0),\n",
       "                                            DecisionTreeRegressor(max_depth=13,\n",
       "                                                                  random_state=0),\n",
       "                                            DecisionTreeRegressor(max_depth=14,\n",
       "                                                                  random_state=0)],\n",
       "                         'n_estimators': [70, 80, 90, 100]})"
      ]
     },
     "execution_count": 49,
     "metadata": {},
     "output_type": "execute_result"
    }
   ],
   "source": [
    "from sklearn.tree import DecisionTreeRegressor\n",
    "from sklearn.model_selection import GridSearchCV, cross_validate\n",
    "#including other params like max_depth, we will apply gridsearch to fine the best settings \n",
    "params = {\n",
    "            'n_estimators': [70,80,90,100],\n",
    "            'base_estimator': [DecisionTreeRegressor(max_depth=12,random_state=0),\n",
    "                               DecisionTreeRegressor(max_depth=13,random_state=0),\n",
    "                               DecisionTreeRegressor(max_depth=14,random_state=0)]\n",
    "        }\n",
    "model = GridSearchCV(AdaBoostRegressor(random_state=0), params,cv=10)\n",
    "model.fit(X,y)"
   ]
  },
  {
   "cell_type": "code",
   "execution_count": 50,
   "metadata": {},
   "outputs": [
    {
     "data": {
      "text/plain": [
       "{'base_estimator': DecisionTreeRegressor(max_depth=14, random_state=0),\n",
       " 'n_estimators': 70}"
      ]
     },
     "execution_count": 50,
     "metadata": {},
     "output_type": "execute_result"
    }
   ],
   "source": [
    "model.best_params_"
   ]
  },
  {
   "cell_type": "code",
   "execution_count": 51,
   "metadata": {},
   "outputs": [
    {
     "data": {
      "text/plain": [
       "0.6181138495367315"
      ]
     },
     "execution_count": 51,
     "metadata": {},
     "output_type": "execute_result"
    }
   ],
   "source": [
    "model.best_score_"
   ]
  },
  {
   "cell_type": "markdown",
   "metadata": {},
   "source": [
    "# RAMDOMFOREST "
   ]
  },
  {
   "cell_type": "code",
   "execution_count": 52,
   "metadata": {},
   "outputs": [],
   "source": [
    "from sklearn.ensemble import RandomForestRegressor\n",
    "from sklearn.model_selection import GridSearchCV\n",
    "from sklearn.model_selection import cross_val_score\n",
    "import matplotlib.pyplot as plt"
   ]
  },
  {
   "cell_type": "code",
   "execution_count": 53,
   "metadata": {},
   "outputs": [],
   "source": [
    "#Graph k-fold score vs no. of estimators in Random Forest\n",
    "scores = []\n",
    "for i in range(10,101,10):\n",
    "    scores.append(cross_val_score(RandomForestRegressor(n_estimators=i,random_state=9),\n",
    "                                  X,y,cv=4).mean())"
   ]
  },
  {
   "cell_type": "code",
   "execution_count": 54,
   "metadata": {},
   "outputs": [
    {
     "data": {
      "image/png": "[encoded data removed]",
      "text/plain": [
       "<Figure size 432x288 with 1 Axes>"
      ]
     },
     "metadata": {
      "needs_background": "light"
     },
     "output_type": "display_data"
    }
   ],
   "source": [
    "plt.plot(range(10,101,10),scores)\n",
    "plt.xlabel('No. of DTs in RandomForest')\n",
    "plt.ylabel('K-fold scores')\n",
    "plt.show()"
   ]
  },
  {
   "cell_type": "code",
   "execution_count": 55,
   "metadata": {},
   "outputs": [
    {
     "data": {
      "text/plain": [
       "GridSearchCV(cv=10, estimator=RandomForestRegressor(),\n",
       "             param_grid={'max_depth': [13, 14, 15],\n",
       "                         'n_estimators': [100, 110, 120, 130]})"
      ]
     },
     "execution_count": 55,
     "metadata": {},
     "output_type": "execute_result"
    }
   ],
   "source": [
    "params = {\n",
    "            'n_estimators': [100,110,120,130],\n",
    "            'max_depth': [13,14,15]\n",
    "        }\n",
    "model = GridSearchCV(RandomForestRegressor(), params,cv=10)\n",
    "model.fit(X,y)"
   ]
  },
  {
   "cell_type": "code",
   "execution_count": 56,
   "metadata": {},
   "outputs": [
    {
     "data": {
      "text/plain": [
       "{'max_depth': 15, 'n_estimators': 110}"
      ]
     },
     "execution_count": 56,
     "metadata": {},
     "output_type": "execute_result"
    }
   ],
   "source": [
    "model.best_params_"
   ]
  },
  {
   "cell_type": "code",
   "execution_count": 57,
   "metadata": {},
   "outputs": [
    {
     "data": {
      "text/plain": [
       "0.6222101146824937"
      ]
     },
     "execution_count": 57,
     "metadata": {},
     "output_type": "execute_result"
    }
   ],
   "source": [
    "model.best_score_"
   ]
  },
  {
   "cell_type": "code",
   "execution_count": 58,
   "metadata": {},
   "outputs": [],
   "source": [
    "best_model = model.best_estimator_"
   ]
  },
  {
   "cell_type": "code",
   "execution_count": 59,
   "metadata": {},
   "outputs": [],
   "source": [
    "from sklearn.model_selection import train_test_split\n",
    "X_train,X_test,y_train,y_test = train_test_split(X,y,random_state=5)"
   ]
  },
  {
   "cell_type": "code",
   "execution_count": 60,
   "metadata": {},
   "outputs": [
    {
     "data": {
      "text/plain": [
       "RandomForestRegressor(max_depth=15, n_estimators=110)"
      ]
     },
     "execution_count": 60,
     "metadata": {},
     "output_type": "execute_result"
    }
   ],
   "source": [
    "best_model.fit(X_train,y_train)"
   ]
  },
  {
   "cell_type": "code",
   "execution_count": 61,
   "metadata": {},
   "outputs": [
    {
     "data": {
      "text/plain": [
       "0.5843714261275403"
      ]
     },
     "execution_count": 61,
     "metadata": {},
     "output_type": "execute_result"
    }
   ],
   "source": [
    "best_model.score(X_test,y_test)"
   ]
  },
  {
   "cell_type": "code",
   "execution_count": null,
   "metadata": {},
   "outputs": [],
   "source": []
  },
  {
   "cell_type": "code",
   "execution_count": 27,
   "metadata": {},
   "outputs": [],
   "source": [
    "#set environment\n",
    "import os\n",
    "import sys\n",
    " \n",
    "os.environ[\"SPARK_HOME\"] = \"/usr/hdp/current/spark2-client\"\n",
    "os.environ[\"PYLIB\"] = os.environ[\"SPARK_HOME\"] + \"/python/lib\"\n",
    "# In below two lines, use /usr/bin/python2.7 if you want to use Python 2\n",
    "os.environ[\"PYSPARK_PYTHON\"] = \"/usr/local/anaconda/bin/python\" \n",
    "\n",
    "os.environ[\"PYSPARK_DRIVER_PYTHON\"] = \"/usr/local/anaconda/bin/python\"\n",
    "sys.path.insert(0, os.environ[\"PYLIB\"] +\"/py4j-0.10.4-src.zip\")\n",
    "sys.path.insert(0, os.environ[\"PYLIB\"] +\"/pyspark.zip\")"
   ]
  },
  {
   "cell_type": "code",
   "execution_count": 28,
   "metadata": {},
   "outputs": [],
   "source": [
    "#import Sparksession driver\n",
    "from pyspark.sql import SparkSession\n",
    "spark = SparkSession \\\n",
    "    .builder \\\n",
    "    .appName(\"Classification of cummities crime  Dataset\") \\\n",
    "    .getOrCreate()"
   ]
  },
  {
   "cell_type": "code",
   "execution_count": 29,
   "metadata": {},
   "outputs": [],
   "source": [
    "from pyspark.ml.regression import LinearRegression"
   ]
  },
  {
   "cell_type": "code",
   "execution_count": 30,
   "metadata": {},
   "outputs": [],
   "source": [
    "df = spark.read.csv('crimedata.csv',inferSchema=True,header=None)"
   ]
  },
  {
   "cell_type": "code",
   "execution_count": 31,
   "metadata": {},
   "outputs": [
    {
     "name": "stdout",
     "output_type": "stream",
     "text": [
      "+---+---+-----+-------------------+---+----+----+----+----+----+----+----+----+----+----+----+----+----+----+----+----+----+----+----+----+----+----+----+----+----+----+----+----+----+----+----+----+----+----+----+----+----+----+----+----+----+----+----+----+----+----+----+----+----+----+----+----+----+----+----+----+----+----+----+----+----+----+----+----+----+----+----+----+----+----+----+----+----+----+----+----+----+----+----+----+----+----+----+----+----+----+----+----+----+----+----+----+----+----+----+-----+-----+-----+-----+-----+-----+-----+-----+-----+-----+-----+-----+-----+-----+-----+-----+-----+-----+-----+-----+-----+-----+-----+-----+-----+-----+-----+-----+\n",
      "|_c0|_c1|  _c2|                _c3|_c4| _c5| _c6| _c7| _c8| _c9|_c10|_c11|_c12|_c13|_c14|_c15|_c16|_c17|_c18|_c19|_c20|_c21|_c22|_c23|_c24|_c25|_c26|_c27|_c28|_c29|_c30|_c31|_c32|_c33|_c34|_c35|_c36|_c37|_c38|_c39|_c40|_c41|_c42|_c43|_c44|_c45|_c46|_c47|_c48|_c49|_c50|_c51|_c52|_c53|_c54|_c55|_c56|_c57|_c58|_c59|_c60|_c61|_c62|_c63|_c64|_c65|_c66|_c67|_c68|_c69|_c70|_c71|_c72|_c73|_c74|_c75|_c76|_c77|_c78|_c79|_c80|_c81|_c82|_c83|_c84|_c85|_c86|_c87|_c88|_c89|_c90|_c91|_c92|_c93|_c94|_c95|_c96|_c97|_c98|_c99|_c100|_c101|_c102|_c103|_c104|_c105|_c106|_c107|_c108|_c109|_c110|_c111|_c112|_c113|_c114|_c115|_c116|_c117|_c118|_c119|_c120|_c121|_c122|_c123|_c124|_c125|_c126|_c127|\n",
      "+---+---+-----+-------------------+---+----+----+----+----+----+----+----+----+----+----+----+----+----+----+----+----+----+----+----+----+----+----+----+----+----+----+----+----+----+----+----+----+----+----+----+----+----+----+----+----+----+----+----+----+----+----+----+----+----+----+----+----+----+----+----+----+----+----+----+----+----+----+----+----+----+----+----+----+----+----+----+----+----+----+----+----+----+----+----+----+----+----+----+----+----+----+----+----+----+----+----+----+----+----+----+-----+-----+-----+-----+-----+-----+-----+-----+-----+-----+-----+-----+-----+-----+-----+-----+-----+-----+-----+-----+-----+-----+-----+-----+-----+-----+-----+-----+\n",
      "|  8|  ?|    ?|       Lakewoodcity|  1|0.19|0.33|0.02| 0.9|0.12|0.17|0.34|0.47|0.29|0.32| 0.2| 1.0|0.37|0.72|0.34| 0.6|0.29|0.15|0.43|0.39| 0.4|0.39|0.32|0.27|0.27|0.36|0.41|0.08|0.19| 0.1|0.18|0.48|0.27|0.68|0.23|0.41|0.25|0.52|0.68| 0.4|0.75|0.75|0.35|0.55|0.59|0.61|0.56|0.74|0.76|0.04|0.14|0.03|0.24|0.27|0.37|0.39|0.07|0.07|0.08|0.08|0.89|0.06|0.14|0.13|0.33|0.39|0.28|0.55|0.09|0.51| 0.5|0.21|0.71|0.52|0.05|0.26|0.65|0.14|0.06|0.22|0.19|0.18|0.36|0.35|0.38|0.34|0.38|0.46|0.25|0.04| 0.0|0.12|0.42| 0.5|0.51| 0.64| 0.03| 0.13| 0.96| 0.17| 0.06| 0.18| 0.44| 0.13| 0.94| 0.93| 0.03| 0.07|  0.1| 0.07| 0.02| 0.57| 0.29| 0.12| 0.26|  0.2| 0.06| 0.04|  0.9|  0.5| 0.32| 0.14|  0.2|\n",
      "| 53|  ?|    ?|        Tukwilacity|  1| 0.0|0.16|0.12|0.74|0.45|0.07|0.26|0.59|0.35|0.27|0.02| 1.0|0.31|0.72|0.11|0.45|0.25|0.29|0.39|0.29|0.37|0.38|0.33|0.16| 0.3|0.22|0.35|0.01|0.24|0.14|0.24| 0.3|0.27|0.73|0.57|0.15|0.42|0.36| 1.0|0.63|0.91| 1.0|0.29|0.43|0.47| 0.6|0.39|0.46|0.53| 0.0|0.24|0.01|0.52|0.62|0.64|0.63|0.25|0.27|0.25|0.23|0.84| 0.1|0.16| 0.1|0.17|0.29|0.17|0.26| 0.2|0.82| 0.0|0.02|0.79|0.24|0.02|0.25|0.65|0.16| 0.0|0.21| 0.2|0.21|0.42|0.38| 0.4|0.37|0.29|0.32|0.18| 0.0| 0.0|0.21| 0.5|0.34| 0.6| 0.52|    ?|    ?|    ?|    ?|    ?|    ?|    ?|    ?|    ?|    ?|    ?|    ?|    ?|    ?|    ?|    ?|    ?| 0.02| 0.12| 0.45|    ?|    ?|    ?|    ?|  0.0|    ?| 0.67|\n",
      "| 24|  ?|    ?|       Aberdeentown|  1| 0.0|0.42|0.49|0.56|0.17|0.04|0.39|0.47|0.28|0.32| 0.0| 0.0| 0.3|0.58|0.19|0.39|0.38| 0.4|0.84|0.28|0.27|0.29|0.27|0.07|0.29|0.28|0.39|0.01|0.27|0.27|0.43|0.19|0.36|0.58|0.32|0.29|0.49|0.32|0.63|0.41|0.71| 0.7|0.45|0.42|0.44|0.43|0.43|0.71|0.67|0.01|0.46| 0.0|0.07|0.06|0.15|0.19|0.02|0.02|0.04|0.05|0.88|0.04| 0.2| 0.2|0.46|0.52|0.43|0.42|0.15|0.51| 0.5|0.01|0.86|0.41|0.29| 0.3|0.52|0.47|0.45|0.18|0.17|0.16|0.27|0.29|0.27|0.31|0.48|0.39|0.28| 0.0| 0.0|0.14|0.49|0.54|0.67| 0.56|    ?|    ?|    ?|    ?|    ?|    ?|    ?|    ?|    ?|    ?|    ?|    ?|    ?|    ?|    ?|    ?|    ?| 0.01| 0.21| 0.02|    ?|    ?|    ?|    ?|  0.0|    ?| 0.43|\n",
      "| 34|  5|81440|Willingborotownship|  1|0.04|0.77| 1.0|0.08|0.12| 0.1|0.51| 0.5|0.34|0.21|0.06| 1.0|0.58|0.89|0.21|0.43|0.36| 0.2|0.82|0.51|0.36| 0.4|0.39|0.16|0.25|0.36|0.44|0.01| 0.1|0.09|0.25|0.31|0.33|0.71|0.36|0.45|0.37|0.39|0.34|0.45|0.49|0.44|0.75|0.65|0.54|0.83|0.65|0.85|0.86|0.03|0.33|0.02|0.11| 0.2| 0.3|0.31|0.05|0.08|0.11|0.11|0.81|0.08|0.56|0.62|0.85|0.77| 1.0|0.94|0.12|0.01| 0.5|0.01|0.97|0.96| 0.6|0.47|0.52|0.11|0.11|0.24|0.21|0.19|0.75| 0.7|0.77|0.89|0.63|0.51|0.47| 0.0| 0.0|0.19| 0.3|0.73|0.64| 0.65|    ?|    ?|    ?|    ?|    ?|    ?|    ?|    ?|    ?|    ?|    ?|    ?|    ?|    ?|    ?|    ?|    ?| 0.02| 0.39| 0.28|    ?|    ?|    ?|    ?|  0.0|    ?| 0.12|\n",
      "| 42| 95| 6096|  Bethlehemtownship|  1|0.01|0.55|0.02|0.95|0.09|0.05|0.38|0.38|0.23|0.36|0.02| 0.9| 0.5|0.72|0.16|0.68|0.44|0.11|0.71|0.46|0.43|0.41|0.28| 0.0|0.74|0.51|0.48| 0.0|0.06|0.25| 0.3|0.33|0.12|0.65|0.67|0.38|0.42|0.46|0.22|0.27| 0.2|0.21|0.51|0.91|0.91|0.89|0.85| 0.4| 0.6| 0.0|0.06| 0.0|0.03|0.07| 0.2|0.27|0.01|0.02|0.04|0.05|0.88|0.05|0.16|0.19|0.59| 0.6|0.37|0.89|0.02|0.19| 0.5|0.01|0.89|0.87|0.04|0.55|0.73|0.05|0.14|0.31|0.31| 0.3| 0.4|0.36|0.38|0.38|0.22|0.51|0.21| 0.0| 0.0|0.11|0.72|0.64|0.61| 0.53|    ?|    ?|    ?|    ?|    ?|    ?|    ?|    ?|    ?|    ?|    ?|    ?|    ?|    ?|    ?|    ?|    ?| 0.04| 0.09| 0.02|    ?|    ?|    ?|    ?|  0.0|    ?| 0.03|\n",
      "+---+---+-----+-------------------+---+----+----+----+----+----+----+----+----+----+----+----+----+----+----+----+----+----+----+----+----+----+----+----+----+----+----+----+----+----+----+----+----+----+----+----+----+----+----+----+----+----+----+----+----+----+----+----+----+----+----+----+----+----+----+----+----+----+----+----+----+----+----+----+----+----+----+----+----+----+----+----+----+----+----+----+----+----+----+----+----+----+----+----+----+----+----+----+----+----+----+----+----+----+----+----+-----+-----+-----+-----+-----+-----+-----+-----+-----+-----+-----+-----+-----+-----+-----+-----+-----+-----+-----+-----+-----+-----+-----+-----+-----+-----+-----+-----+\n",
      "only showing top 5 rows\n",
      "\n"
     ]
    }
   ],
   "source": [
    "df.show(5)"
   ]
  },
  {
   "cell_type": "code",
   "execution_count": 32,
   "metadata": {},
   "outputs": [
    {
     "data": {
      "text/plain": [
       "['_c0',\n",
       " '_c1',\n",
       " '_c2',\n",
       " '_c3',\n",
       " '_c4',\n",
       " '_c5',\n",
       " '_c6',\n",
       " '_c7',\n",
       " '_c8',\n",
       " '_c9',\n",
       " '_c10',\n",
       " '_c11',\n",
       " '_c12',\n",
       " '_c13',\n",
       " '_c14',\n",
       " '_c15',\n",
       " '_c16',\n",
       " '_c17',\n",
       " '_c18',\n",
       " '_c19',\n",
       " '_c20',\n",
       " '_c21',\n",
       " '_c22',\n",
       " '_c23',\n",
       " '_c24',\n",
       " '_c25',\n",
       " '_c26',\n",
       " '_c27',\n",
       " '_c28',\n",
       " '_c29',\n",
       " '_c30',\n",
       " '_c31',\n",
       " '_c32',\n",
       " '_c33',\n",
       " '_c34',\n",
       " '_c35',\n",
       " '_c36',\n",
       " '_c37',\n",
       " '_c38',\n",
       " '_c39',\n",
       " '_c40',\n",
       " '_c41',\n",
       " '_c42',\n",
       " '_c43',\n",
       " '_c44',\n",
       " '_c45',\n",
       " '_c46',\n",
       " '_c47',\n",
       " '_c48',\n",
       " '_c49',\n",
       " '_c50',\n",
       " '_c51',\n",
       " '_c52',\n",
       " '_c53',\n",
       " '_c54',\n",
       " '_c55',\n",
       " '_c56',\n",
       " '_c57',\n",
       " '_c58',\n",
       " '_c59',\n",
       " '_c60',\n",
       " '_c61',\n",
       " '_c62',\n",
       " '_c63',\n",
       " '_c64',\n",
       " '_c65',\n",
       " '_c66',\n",
       " '_c67',\n",
       " '_c68',\n",
       " '_c69',\n",
       " '_c70',\n",
       " '_c71',\n",
       " '_c72',\n",
       " '_c73',\n",
       " '_c74',\n",
       " '_c75',\n",
       " '_c76',\n",
       " '_c77',\n",
       " '_c78',\n",
       " '_c79',\n",
       " '_c80',\n",
       " '_c81',\n",
       " '_c82',\n",
       " '_c83',\n",
       " '_c84',\n",
       " '_c85',\n",
       " '_c86',\n",
       " '_c87',\n",
       " '_c88',\n",
       " '_c89',\n",
       " '_c90',\n",
       " '_c91',\n",
       " '_c92',\n",
       " '_c93',\n",
       " '_c94',\n",
       " '_c95',\n",
       " '_c96',\n",
       " '_c97',\n",
       " '_c98',\n",
       " '_c99',\n",
       " '_c100',\n",
       " '_c101',\n",
       " '_c102',\n",
       " '_c103',\n",
       " '_c104',\n",
       " '_c105',\n",
       " '_c106',\n",
       " '_c107',\n",
       " '_c108',\n",
       " '_c109',\n",
       " '_c110',\n",
       " '_c111',\n",
       " '_c112',\n",
       " '_c113',\n",
       " '_c114',\n",
       " '_c115',\n",
       " '_c116',\n",
       " '_c117',\n",
       " '_c118',\n",
       " '_c119',\n",
       " '_c120',\n",
       " '_c121',\n",
       " '_c122',\n",
       " '_c123',\n",
       " '_c124',\n",
       " '_c125',\n",
       " '_c126',\n",
       " '_c127']"
      ]
     },
     "execution_count": 32,
     "metadata": {},
     "output_type": "execute_result"
    }
   ],
   "source": [
    "df.columns"
   ]
  },
  {
   "cell_type": "code",
   "execution_count": 35,
   "metadata": {},
   "outputs": [],
   "source": [
    "df = df.toDF('state',\"county\",\"community\",\"communityname\",\"fold\",\"population\",\"householdsize\",\"racepctblack\",\"racePctWhite\",\"racePctAsian\",\n",
    "                                       \"racePctHisp\",\"agePct12t21\",\"agePct12t29\",\"agePct16t24\",\"agePct65up\",\"numbUrban\",\"pctUrban\",\"medIncome\",\n",
    "                                       \"pctWWage\",\"pctWFarmSelf\",\"pctWInvInc\",\"pctWSocSec\",\"pctWPubAsst\",\"pctWRetire\",\"medFamInc\",\n",
    "                                       \"perCapInc\",\"whitePerCap\",\"blackPerCap\",\"indianPerCap\",\"AsianPerCap\",\"OtherPerCap\",\"HispPerCap\",\n",
    "                                       \"NumUnderPov\",\"PctPopUnderPov\",\"PctLess9thGrade\",\"PctNotHSGrad\",\"PctBSorMore\",\"PctUnemployed\",\n",
    "                                       \"PctEmploy\",\"PctEmplManu\",\"PctEmplProfServ\",\"PctOccupManu\",\"PctOccupMgmtProf\",\"MalePctDivorce\", \n",
    "                                       \"MalePctNevMarr\",\"FemalePctDiv\",\"TotalPctDiv\",\"PersPerFam\",\"PctFam2Par\",\"PctKids2Par\", \n",
    "                                       \"PctYoungKids2Par\",\"PctTeen2Par\",\"PctWorkMomYoungKids\",\"PctWorkMom\",\"NumIlleg\",\"PctIlleg\", \n",
    "                                       \"NumImmig\",\"PctImmigRecent\",\"PctImmigRec5\",\"PctImmigRec8\",\"PctImmigRec10\",\"PctRecentImmig\",\n",
    "                                       \"PctRecImmig5\",\"PctRecImmig8\",\"PctRecImmig10\",\"PctSpeakEnglOnly\",\"PctNotSpeakEnglWell\",\n",
    "                                       \"PctLargHouseFam\",\"PctLargHouseOccup\",\"PersPerOccupHous\",\"PersPerOwnOccHous\",\"PersPerRentOccHous\",\n",
    "                                       \"PctPersOwnOccup\",\"PctPersDenseHous\",\"PctHousLess3BR\",\"MedNumBR\",\"HousVacant\",\"PctHousOccup\",\n",
    "                                       \"PctHousOwnOcc\",\"PctVacantBoarded\",\"PctVacMore6Mos\",\"MedYrHousBuilt\",\"PctHousNoPhone\",\n",
    "                                       \"PctWOFullPlumb\",\"OwnOccLowQuart\",\"OwnOccMedVal\",\"OwnOccHiQuart\",\"RentLowQ\",\"RentMedian\",\n",
    "                                       \"RentHighQ\",\"MedRent\",\"MedRentPctHousInc\",\"MedOwnCostPctInc\",\"MedOwnCostPctIncNoMtg\",\"NumInShelters\",  \n",
    "                                       \"NumStreet\",\"PctForeignBorn\",\"PctBornSameState\",\"PctSameHouse85\",\"PctSameCity85\",\"PctSameState85\",\n",
    "                                       \"LemasSwornFT\",\"LemasSwFTPerPop\",\"LemasSwFTFieldOps\",\"LemasSwFTFieldPerPop\",\"LemasTotalReq\",  \n",
    "                                       \"LemasTotReqPerPop\",\"PolicReqPerOffic\",\"PolicPerPop\",\"RacialMatchCommPol\",\"PctPolicWhite\",  \n",
    "                                       \"PctPolicBlack\",\"PctPolicHisp\",\"PctPolicAsian\",\"PctPolicMinor\",\"OfficAssgnDrugUnits\",\n",
    "                                       \"NumKindsDrugsSeiz\",\"PolicAveOTWorked\",\"LandArea\",\"PopDens\",\"PctUsePubTrans\",\"PolicCars\",  \n",
    "                                       \"PolicOperBudg\",\"LemasPctPolicOnPatr\",\"LemasGangUnitDeploy\",\"LemasPctOfficDrugUn\",\"PolicBudgPerPop\",\"ViolentCrimesPerPop\")"
   ]
  },
  {
   "cell_type": "code",
   "execution_count": null,
   "metadata": {},
   "outputs": [],
   "source": []
  },
  {
   "cell_type": "code",
   "execution_count": 36,
   "metadata": {},
   "outputs": [
    {
     "name": "stdout",
     "output_type": "stream",
     "text": [
      "no. of cells in column state with null values: 0\n",
      "no. of cells in column county with null values: 0\n",
      "no. of cells in column community with null values: 0\n",
      "no. of cells in column communityname with null values: 0\n",
      "no. of cells in column fold with null values: 0\n",
      "no. of cells in column population with null values: 0\n",
      "no. of cells in column householdsize with null values: 0\n",
      "no. of cells in column racepctblack with null values: 0\n",
      "no. of cells in column racePctWhite with null values: 0\n",
      "no. of cells in column racePctAsian with null values: 0\n",
      "no. of cells in column racePctHisp with null values: 0\n",
      "no. of cells in column agePct12t21 with null values: 0\n",
      "no. of cells in column agePct12t29 with null values: 0\n",
      "no. of cells in column agePct16t24 with null values: 0\n",
      "no. of cells in column agePct65up with null values: 0\n",
      "no. of cells in column numbUrban with null values: 0\n",
      "no. of cells in column pctUrban with null values: 0\n",
      "no. of cells in column medIncome with null values: 0\n",
      "no. of cells in column pctWWage with null values: 0\n",
      "no. of cells in column pctWFarmSelf with null values: 0\n",
      "no. of cells in column pctWInvInc with null values: 0\n",
      "no. of cells in column pctWSocSec with null values: 0\n",
      "no. of cells in column pctWPubAsst with null values: 0\n",
      "no. of cells in column pctWRetire with null values: 0\n",
      "no. of cells in column medFamInc with null values: 0\n",
      "no. of cells in column perCapInc with null values: 0\n",
      "no. of cells in column whitePerCap with null values: 0\n",
      "no. of cells in column blackPerCap with null values: 0\n",
      "no. of cells in column indianPerCap with null values: 0\n",
      "no. of cells in column AsianPerCap with null values: 0\n",
      "no. of cells in column OtherPerCap with null values: 0\n",
      "no. of cells in column HispPerCap with null values: 0\n",
      "no. of cells in column NumUnderPov with null values: 0\n",
      "no. of cells in column PctPopUnderPov with null values: 0\n",
      "no. of cells in column PctLess9thGrade with null values: 0\n",
      "no. of cells in column PctNotHSGrad with null values: 0\n",
      "no. of cells in column PctBSorMore with null values: 0\n",
      "no. of cells in column PctUnemployed with null values: 0\n",
      "no. of cells in column PctEmploy with null values: 0\n",
      "no. of cells in column PctEmplManu with null values: 0\n",
      "no. of cells in column PctEmplProfServ with null values: 0\n",
      "no. of cells in column PctOccupManu with null values: 0\n",
      "no. of cells in column PctOccupMgmtProf with null values: 0\n",
      "no. of cells in column MalePctDivorce with null values: 0\n",
      "no. of cells in column MalePctNevMarr with null values: 0\n",
      "no. of cells in column FemalePctDiv with null values: 0\n",
      "no. of cells in column TotalPctDiv with null values: 0\n",
      "no. of cells in column PersPerFam with null values: 0\n",
      "no. of cells in column PctFam2Par with null values: 0\n",
      "no. of cells in column PctKids2Par with null values: 0\n",
      "no. of cells in column PctYoungKids2Par with null values: 0\n",
      "no. of cells in column PctTeen2Par with null values: 0\n",
      "no. of cells in column PctWorkMomYoungKids with null values: 0\n",
      "no. of cells in column PctWorkMom with null values: 0\n",
      "no. of cells in column NumIlleg with null values: 0\n",
      "no. of cells in column PctIlleg with null values: 0\n",
      "no. of cells in column NumImmig with null values: 0\n",
      "no. of cells in column PctImmigRecent with null values: 0\n",
      "no. of cells in column PctImmigRec5 with null values: 0\n",
      "no. of cells in column PctImmigRec8 with null values: 0\n",
      "no. of cells in column PctImmigRec10 with null values: 0\n",
      "no. of cells in column PctRecentImmig with null values: 0\n",
      "no. of cells in column PctRecImmig5 with null values: 0\n",
      "no. of cells in column PctRecImmig8 with null values: 0\n",
      "no. of cells in column PctRecImmig10 with null values: 0\n",
      "no. of cells in column PctSpeakEnglOnly with null values: 0\n",
      "no. of cells in column PctNotSpeakEnglWell with null values: 0\n",
      "no. of cells in column PctLargHouseFam with null values: 0\n",
      "no. of cells in column PctLargHouseOccup with null values: 0\n",
      "no. of cells in column PersPerOccupHous with null values: 0\n",
      "no. of cells in column PersPerOwnOccHous with null values: 0\n",
      "no. of cells in column PersPerRentOccHous with null values: 0\n",
      "no. of cells in column PctPersOwnOccup with null values: 0\n",
      "no. of cells in column PctPersDenseHous with null values: 0\n",
      "no. of cells in column PctHousLess3BR with null values: 0\n",
      "no. of cells in column MedNumBR with null values: 0\n",
      "no. of cells in column HousVacant with null values: 0\n",
      "no. of cells in column PctHousOccup with null values: 0\n",
      "no. of cells in column PctHousOwnOcc with null values: 0\n",
      "no. of cells in column PctVacantBoarded with null values: 0\n",
      "no. of cells in column PctVacMore6Mos with null values: 0\n",
      "no. of cells in column MedYrHousBuilt with null values: 0\n",
      "no. of cells in column PctHousNoPhone with null values: 0\n",
      "no. of cells in column PctWOFullPlumb with null values: 0\n",
      "no. of cells in column OwnOccLowQuart with null values: 0\n",
      "no. of cells in column OwnOccMedVal with null values: 0\n",
      "no. of cells in column OwnOccHiQuart with null values: 0\n",
      "no. of cells in column RentLowQ with null values: 0\n",
      "no. of cells in column RentMedian with null values: 0\n",
      "no. of cells in column RentHighQ with null values: 0\n",
      "no. of cells in column MedRent with null values: 0\n",
      "no. of cells in column MedRentPctHousInc with null values: 0\n",
      "no. of cells in column MedOwnCostPctInc with null values: 0\n",
      "no. of cells in column MedOwnCostPctIncNoMtg with null values: 0\n",
      "no. of cells in column NumInShelters with null values: 0\n",
      "no. of cells in column NumStreet with null values: 0\n",
      "no. of cells in column PctForeignBorn with null values: 0\n",
      "no. of cells in column PctBornSameState with null values: 0\n",
      "no. of cells in column PctSameHouse85 with null values: 0\n",
      "no. of cells in column PctSameCity85 with null values: 0\n",
      "no. of cells in column PctSameState85 with null values: 0\n",
      "no. of cells in column LemasSwornFT with null values: 0\n",
      "no. of cells in column LemasSwFTPerPop with null values: 0\n",
      "no. of cells in column LemasSwFTFieldOps with null values: 0\n",
      "no. of cells in column LemasSwFTFieldPerPop with null values: 0\n",
      "no. of cells in column LemasTotalReq with null values: 0\n",
      "no. of cells in column LemasTotReqPerPop with null values: 0\n",
      "no. of cells in column PolicReqPerOffic with null values: 0\n",
      "no. of cells in column PolicPerPop with null values: 0\n",
      "no. of cells in column RacialMatchCommPol with null values: 0\n",
      "no. of cells in column PctPolicWhite with null values: 0\n",
      "no. of cells in column PctPolicBlack with null values: 0\n",
      "no. of cells in column PctPolicHisp with null values: 0\n",
      "no. of cells in column PctPolicAsian with null values: 0\n",
      "no. of cells in column PctPolicMinor with null values: 0\n",
      "no. of cells in column OfficAssgnDrugUnits with null values: 0\n",
      "no. of cells in column NumKindsDrugsSeiz with null values: 0\n",
      "no. of cells in column PolicAveOTWorked with null values: 0\n",
      "no. of cells in column LandArea with null values: 0\n",
      "no. of cells in column PopDens with null values: 0\n",
      "no. of cells in column PctUsePubTrans with null values: 0\n",
      "no. of cells in column PolicCars with null values: 0\n",
      "no. of cells in column PolicOperBudg with null values: 0\n",
      "no. of cells in column LemasPctPolicOnPatr with null values: 0\n",
      "no. of cells in column LemasGangUnitDeploy with null values: 0\n",
      "no. of cells in column LemasPctOfficDrugUn with null values: 0\n",
      "no. of cells in column PolicBudgPerPop with null values: 0\n",
      "no. of cells in column ViolentCrimesPerPop with null values: 0\n"
     ]
    }
   ],
   "source": [
    "#Check for missing values\n",
    "for col in df.columns:\n",
    "    print(\"no. of cells in column\", col, \"with null values:\", df.filter(df[col].isNull()).count())"
   ]
  },
  {
   "cell_type": "code",
   "execution_count": 7,
   "metadata": {},
   "outputs": [
    {
     "name": "stdout",
     "output_type": "stream",
     "text": [
      "root\n",
      " |-- state  : integer (nullable = true)\n",
      " |-- county  : string (nullable = true)\n",
      " |-- community  : string (nullable = true)\n",
      " |-- communityname: string (nullable = true)\n",
      " |-- fold  : integer (nullable = true)\n",
      " |-- population  : double (nullable = true)\n",
      " |-- householdsize  : double (nullable = true)\n",
      " |-- racepctblack  : double (nullable = true)\n",
      " |-- racePctWhite  : double (nullable = true)\n",
      " |-- racePctAsian  : double (nullable = true)\n",
      " |-- racePctHisp  : double (nullable = true)\n",
      " |-- agePct12t21  : double (nullable = true)\n",
      " |-- agePct12t29  : double (nullable = true)\n",
      " |-- agePct16t24  : double (nullable = true)\n",
      " |-- agePct65up  : double (nullable = true)\n",
      " |-- numbUrban  : double (nullable = true)\n",
      " |-- pctUrban  : double (nullable = true)\n",
      " |-- medIncome  : double (nullable = true)\n",
      " |-- pctWWage  : double (nullable = true)\n",
      " |-- pctWFarmSelf  : double (nullable = true)\n",
      " |-- pctWInvInc  : double (nullable = true)\n",
      " |-- pctWSocSec  : double (nullable = true)\n",
      " |-- pctWPubAsst  : double (nullable = true)\n",
      " |-- pctWRetire  : double (nullable = true)\n",
      " |-- medFamInc  : double (nullable = true)\n",
      " |-- perCapInc  : double (nullable = true)\n",
      " |-- whitePerCap  : double (nullable = true)\n",
      " |-- blackPerCap  : double (nullable = true)\n",
      " |-- indianPerCap  : double (nullable = true)\n",
      " |-- AsianPerCap  : double (nullable = true)\n",
      " |-- OtherPerCap  : string (nullable = true)\n",
      " |-- HispPerCap  : double (nullable = true)\n",
      " |-- NumUnderPov  : double (nullable = true)\n",
      " |-- PctPopUnderPov  : double (nullable = true)\n",
      " |-- PctLess9thGrade  : double (nullable = true)\n",
      " |-- PctNotHSGrad  : double (nullable = true)\n",
      " |-- PctBSorMore  : double (nullable = true)\n",
      " |-- PctUnemployed  : double (nullable = true)\n",
      " |-- PctEmploy  : double (nullable = true)\n",
      " |-- PctEmplManu  : double (nullable = true)\n",
      " |-- PctEmplProfServ  : double (nullable = true)\n",
      " |-- PctOccupManu  : double (nullable = true)\n",
      " |-- PctOccupMgmtProf  : double (nullable = true)\n",
      " |-- MalePctDivorce  : double (nullable = true)\n",
      " |-- MalePctNevMarr  : double (nullable = true)\n",
      " |-- FemalePctDiv  : double (nullable = true)\n",
      " |-- TotalPctDiv  : double (nullable = true)\n",
      " |-- PersPerFam  : double (nullable = true)\n",
      " |-- PctFam2Par  : double (nullable = true)\n",
      " |-- PctKids2Par  : double (nullable = true)\n",
      " |-- PctYoungKids2Par  : double (nullable = true)\n",
      " |-- PctTeen2Par  : double (nullable = true)\n",
      " |-- PctWorkMomYoungKids  : double (nullable = true)\n",
      " |-- PctWorkMom  : double (nullable = true)\n",
      " |-- NumIlleg  : double (nullable = true)\n",
      " |-- PctIlleg  : double (nullable = true)\n",
      " |-- NumImmig  : double (nullable = true)\n",
      " |-- PctImmigRecent  : double (nullable = true)\n",
      " |-- PctImmigRec5  : double (nullable = true)\n",
      " |-- PctImmigRec8  : double (nullable = true)\n",
      " |-- PctImmigRec10  : double (nullable = true)\n",
      " |-- PctRecentImmig  : double (nullable = true)\n",
      " |-- PctRecImmig5  : double (nullable = true)\n",
      " |-- PctRecImmig8  : double (nullable = true)\n",
      " |-- PctRecImmig10  : double (nullable = true)\n",
      " |-- PctSpeakEnglOnly  : double (nullable = true)\n",
      " |-- PctNotSpeakEnglWell  : double (nullable = true)\n",
      " |-- PctLargHouseFam  : double (nullable = true)\n",
      " |-- PctLargHouseOccup  : double (nullable = true)\n",
      " |-- PersPerOccupHous  : double (nullable = true)\n",
      " |-- PersPerOwnOccHous  : double (nullable = true)\n",
      " |-- PersPerRentOccHous  : double (nullable = true)\n",
      " |-- PctPersOwnOccup  : double (nullable = true)\n",
      " |-- PctPersDenseHous  : double (nullable = true)\n",
      " |-- PctHousLess3BR  : double (nullable = true)\n",
      " |-- MedNumBR  : double (nullable = true)\n",
      " |-- HousVacant  : double (nullable = true)\n",
      " |-- PctHousOccup  : double (nullable = true)\n",
      " |-- PctHousOwnOcc  : double (nullable = true)\n",
      " |-- PctVacantBoarded  : double (nullable = true)\n",
      " |-- PctVacMore6Mos  : double (nullable = true)\n",
      " |-- MedYrHousBuilt  : double (nullable = true)\n",
      " |-- PctHousNoPhone  : double (nullable = true)\n",
      " |-- PctWOFullPlumb  : double (nullable = true)\n",
      " |-- OwnOccLowQuart  : double (nullable = true)\n",
      " |-- OwnOccMedVal  : double (nullable = true)\n",
      " |-- OwnOccHiQuart  : double (nullable = true)\n",
      " |-- RentLowQ  : double (nullable = true)\n",
      " |-- RentMedian  : double (nullable = true)\n",
      " |-- RentHighQ  : double (nullable = true)\n",
      " |-- MedRent  : double (nullable = true)\n",
      " |-- MedRentPctHousInc  : double (nullable = true)\n",
      " |-- MedOwnCostPctInc  : double (nullable = true)\n",
      " |-- MedOwnCostPctIncNoMtg  : double (nullable = true)\n",
      " |-- NumInShelters  : double (nullable = true)\n",
      " |-- NumStreet  : double (nullable = true)\n",
      " |-- PctForeignBorn  : double (nullable = true)\n",
      " |-- PctBornSameState  : double (nullable = true)\n",
      " |-- PctSameHouse85  : double (nullable = true)\n",
      " |-- PctSameCity85  : double (nullable = true)\n",
      " |-- PctSameState85  : double (nullable = true)\n",
      " |-- LemasSwornFT  : string (nullable = true)\n",
      " |-- LemasSwFTPerPop  : string (nullable = true)\n",
      " |-- LemasSwFTFieldOps  : string (nullable = true)\n",
      " |-- LemasSwFTFieldPerPop  : string (nullable = true)\n",
      " |-- LemasTotalReq  : string (nullable = true)\n",
      " |-- LemasTotReqPerPop  : string (nullable = true)\n",
      " |-- PolicReqPerOffic  : string (nullable = true)\n",
      " |-- PolicPerPop  : string (nullable = true)\n",
      " |-- RacialMatchCommPol  : string (nullable = true)\n",
      " |-- PctPolicWhite  : string (nullable = true)\n",
      " |-- PctPolicBlack  : string (nullable = true)\n",
      " |-- PctPolicHisp  : string (nullable = true)\n",
      " |-- PctPolicAsian  : string (nullable = true)\n",
      " |-- PctPolicMinor  : string (nullable = true)\n",
      " |-- OfficAssgnDrugUnits  : string (nullable = true)\n",
      " |-- NumKindsDrugsSeiz  : string (nullable = true)\n",
      " |-- PolicAveOTWorked  : string (nullable = true)\n",
      " |-- LandArea  : double (nullable = true)\n",
      " |-- PopDens  : double (nullable = true)\n",
      " |-- PctUsePubTrans  : double (nullable = true)\n",
      " |-- PolicCars  : string (nullable = true)\n",
      " |-- PolicOperBudg  : string (nullable = true)\n",
      " |-- LemasPctPolicOnPatr  : string (nullable = true)\n",
      " |-- LemasGangUnitDeploy  : string (nullable = true)\n",
      " |-- LemasPctOfficDrugUn  : double (nullable = true)\n",
      " |-- PolicBudgPerPop  : string (nullable = true)\n",
      " |-- ViolentCrimesPerPop  : double (nullable = true)\n",
      "\n"
     ]
    }
   ],
   "source": [
    "df.printSchema()"
   ]
  },
  {
   "cell_type": "code",
   "execution_count": 37,
   "metadata": {},
   "outputs": [
    {
     "name": "stdout",
     "output_type": "stream",
     "text": [
      "+-----+------+---------+--------------------+----+----------+-------------+------------+------------+------------+-----------+-----------+-----------+-----------+----------+---------+--------+---------+--------+------------+----------+----------+-----------+----------+---------+---------+-----------+-----------+------------+-----------+-----------+----------+-----------+--------------+---------------+------------+-----------+-------------+---------+-----------+---------------+------------+----------------+--------------+--------------+------------+-----------+----------+----------+-----------+----------------+-----------+-------------------+----------+--------+--------+--------+--------------+------------+------------+-------------+--------------+------------+------------+-------------+----------------+-------------------+---------------+-----------------+----------------+-----------------+------------------+---------------+----------------+--------------+--------+----------+------------+-------------+----------------+--------------+--------------+--------------+--------------+--------------+------------+-------------+--------+----------+---------+-------+-----------------+----------------+---------------------+-------------+---------+--------------+----------------+--------------+-------------+--------------+------------+---------------+-----------------+--------------------+-------------+-----------------+----------------+-----------+------------------+-------------+-------------+------------+-------------+-------------+-------------------+-----------------+----------------+--------+-------+--------------+---------+-------------+-------------------+-------------------+-------------------+---------------+-------------------+-------------+--------------+-----------------+---------------------+------------+------------------+---------------------+--------------------+--------------------+--------------------+-------------------+-------------------+-------------------+-------------------+------------------+-----------------+----------------+-----------------+----------------+--------------------+------------------+------------------+-------------------+------------------+-----------------+-----------------+-------------------+-------------------+--------------------+-------------------+-------------------+------------------+-------------------+----------------------+-----------------------+--------------------+-------------------+---------------------+-----------------+-------------------+-----------------------+--------------------+------------------------+----------------------+----------------------+--------------------+-------------------+------------------+------------------+-------------------+------------------------+-------------------+---------------------------+------------------+----------------+----------------+----------------+----------------------+--------------------+--------------------+---------------------+----------------------+--------------------+--------------------+---------------------+------------------------+---------------------------+-----------------------+-------------------------+------------------------+-------------------------+--------------------------+-----------------------+------------------------+----------------------+----------------+------------------+--------------------+---------------------+------------------------+----------------------+----------------------+----------------------+----------------------+----------------------+--------------------+---------------------+----------------+------------------+-----------------+---------------+-------------------------+------------------------+-----------------------------+---------------------+-----------------+----------------------+------------------------+----------------------+---------------------+----------------------+--------------------+-----------------------+-------------------------+----------------------------+---------------------+-------------------------+------------------------+-------------------+--------------------------+---------------------+---------------------+--------------------+---------------------+---------------------+---------------------------+-------------------------+------------------------+----------------+---------------+----------------------+-----------------+---------------------+---------------------------+---------------------------+---------------------------+-----------------------+---------------------------+\n",
      "|state|county|community|       communityname|fold|population|householdsize|racepctblack|racePctWhite|racePctAsian|racePctHisp|agePct12t21|agePct12t29|agePct16t24|agePct65up|numbUrban|pctUrban|medIncome|pctWWage|pctWFarmSelf|pctWInvInc|pctWSocSec|pctWPubAsst|pctWRetire|medFamInc|perCapInc|whitePerCap|blackPerCap|indianPerCap|AsianPerCap|OtherPerCap|HispPerCap|NumUnderPov|PctPopUnderPov|PctLess9thGrade|PctNotHSGrad|PctBSorMore|PctUnemployed|PctEmploy|PctEmplManu|PctEmplProfServ|PctOccupManu|PctOccupMgmtProf|MalePctDivorce|MalePctNevMarr|FemalePctDiv|TotalPctDiv|PersPerFam|PctFam2Par|PctKids2Par|PctYoungKids2Par|PctTeen2Par|PctWorkMomYoungKids|PctWorkMom|NumIlleg|PctIlleg|NumImmig|PctImmigRecent|PctImmigRec5|PctImmigRec8|PctImmigRec10|PctRecentImmig|PctRecImmig5|PctRecImmig8|PctRecImmig10|PctSpeakEnglOnly|PctNotSpeakEnglWell|PctLargHouseFam|PctLargHouseOccup|PersPerOccupHous|PersPerOwnOccHous|PersPerRentOccHous|PctPersOwnOccup|PctPersDenseHous|PctHousLess3BR|MedNumBR|HousVacant|PctHousOccup|PctHousOwnOcc|PctVacantBoarded|PctVacMore6Mos|MedYrHousBuilt|PctHousNoPhone|PctWOFullPlumb|OwnOccLowQuart|OwnOccMedVal|OwnOccHiQuart|RentLowQ|RentMedian|RentHighQ|MedRent|MedRentPctHousInc|MedOwnCostPctInc|MedOwnCostPctIncNoMtg|NumInShelters|NumStreet|PctForeignBorn|PctBornSameState|PctSameHouse85|PctSameCity85|PctSameState85|LemasSwornFT|LemasSwFTPerPop|LemasSwFTFieldOps|LemasSwFTFieldPerPop|LemasTotalReq|LemasTotReqPerPop|PolicReqPerOffic|PolicPerPop|RacialMatchCommPol|PctPolicWhite|PctPolicBlack|PctPolicHisp|PctPolicAsian|PctPolicMinor|OfficAssgnDrugUnits|NumKindsDrugsSeiz|PolicAveOTWorked|LandArea|PopDens|PctUsePubTrans|PolicCars|PolicOperBudg|LemasPctPolicOnPatr|LemasGangUnitDeploy|LemasPctOfficDrugUn|PolicBudgPerPop|ViolentCrimesPerPop|state_encoded|county_encoded|community_encoded|communityname_encoded|fold_encoded|population_encoded|householdsize_encoded|racepctblack_encoded|racePctWhite_encoded|racePctAsian_encoded|racePctHisp_encoded|agePct12t21_encoded|agePct12t29_encoded|agePct16t24_encoded|agePct65up_encoded|numbUrban_encoded|pctUrban_encoded|medIncome_encoded|pctWWage_encoded|pctWFarmSelf_encoded|pctWInvInc_encoded|pctWSocSec_encoded|pctWPubAsst_encoded|pctWRetire_encoded|medFamInc_encoded|perCapInc_encoded|whitePerCap_encoded|blackPerCap_encoded|indianPerCap_encoded|AsianPerCap_encoded|OtherPerCap_encoded|HispPerCap_encoded|NumUnderPov_encoded|PctPopUnderPov_encoded|PctLess9thGrade_encoded|PctNotHSGrad_encoded|PctBSorMore_encoded|PctUnemployed_encoded|PctEmploy_encoded|PctEmplManu_encoded|PctEmplProfServ_encoded|PctOccupManu_encoded|PctOccupMgmtProf_encoded|MalePctDivorce_encoded|MalePctNevMarr_encoded|FemalePctDiv_encoded|TotalPctDiv_encoded|PersPerFam_encoded|PctFam2Par_encoded|PctKids2Par_encoded|PctYoungKids2Par_encoded|PctTeen2Par_encoded|PctWorkMomYoungKids_encoded|PctWorkMom_encoded|NumIlleg_encoded|PctIlleg_encoded|NumImmig_encoded|PctImmigRecent_encoded|PctImmigRec5_encoded|PctImmigRec8_encoded|PctImmigRec10_encoded|PctRecentImmig_encoded|PctRecImmig5_encoded|PctRecImmig8_encoded|PctRecImmig10_encoded|PctSpeakEnglOnly_encoded|PctNotSpeakEnglWell_encoded|PctLargHouseFam_encoded|PctLargHouseOccup_encoded|PersPerOccupHous_encoded|PersPerOwnOccHous_encoded|PersPerRentOccHous_encoded|PctPersOwnOccup_encoded|PctPersDenseHous_encoded|PctHousLess3BR_encoded|MedNumBR_encoded|HousVacant_encoded|PctHousOccup_encoded|PctHousOwnOcc_encoded|PctVacantBoarded_encoded|PctVacMore6Mos_encoded|MedYrHousBuilt_encoded|PctHousNoPhone_encoded|PctWOFullPlumb_encoded|OwnOccLowQuart_encoded|OwnOccMedVal_encoded|OwnOccHiQuart_encoded|RentLowQ_encoded|RentMedian_encoded|RentHighQ_encoded|MedRent_encoded|MedRentPctHousInc_encoded|MedOwnCostPctInc_encoded|MedOwnCostPctIncNoMtg_encoded|NumInShelters_encoded|NumStreet_encoded|PctForeignBorn_encoded|PctBornSameState_encoded|PctSameHouse85_encoded|PctSameCity85_encoded|PctSameState85_encoded|LemasSwornFT_encoded|LemasSwFTPerPop_encoded|LemasSwFTFieldOps_encoded|LemasSwFTFieldPerPop_encoded|LemasTotalReq_encoded|LemasTotReqPerPop_encoded|PolicReqPerOffic_encoded|PolicPerPop_encoded|RacialMatchCommPol_encoded|PctPolicWhite_encoded|PctPolicBlack_encoded|PctPolicHisp_encoded|PctPolicAsian_encoded|PctPolicMinor_encoded|OfficAssgnDrugUnits_encoded|NumKindsDrugsSeiz_encoded|PolicAveOTWorked_encoded|LandArea_encoded|PopDens_encoded|PctUsePubTrans_encoded|PolicCars_encoded|PolicOperBudg_encoded|LemasPctPolicOnPatr_encoded|LemasGangUnitDeploy_encoded|LemasPctOfficDrugUn_encoded|PolicBudgPerPop_encoded|ViolentCrimesPerPop_encoded|\n",
      "+-----+------+---------+--------------------+----+----------+-------------+------------+------------+------------+-----------+-----------+-----------+-----------+----------+---------+--------+---------+--------+------------+----------+----------+-----------+----------+---------+---------+-----------+-----------+------------+-----------+-----------+----------+-----------+--------------+---------------+------------+-----------+-------------+---------+-----------+---------------+------------+----------------+--------------+--------------+------------+-----------+----------+----------+-----------+----------------+-----------+-------------------+----------+--------+--------+--------+--------------+------------+------------+-------------+--------------+------------+------------+-------------+----------------+-------------------+---------------+-----------------+----------------+-----------------+------------------+---------------+----------------+--------------+--------+----------+------------+-------------+----------------+--------------+--------------+--------------+--------------+--------------+------------+-------------+--------+----------+---------+-------+-----------------+----------------+---------------------+-------------+---------+--------------+----------------+--------------+-------------+--------------+------------+---------------+-----------------+--------------------+-------------+-----------------+----------------+-----------+------------------+-------------+-------------+------------+-------------+-------------+-------------------+-----------------+----------------+--------+-------+--------------+---------+-------------+-------------------+-------------------+-------------------+---------------+-------------------+-------------+--------------+-----------------+---------------------+------------+------------------+---------------------+--------------------+--------------------+--------------------+-------------------+-------------------+-------------------+-------------------+------------------+-----------------+----------------+-----------------+----------------+--------------------+------------------+------------------+-------------------+------------------+-----------------+-----------------+-------------------+-------------------+--------------------+-------------------+-------------------+------------------+-------------------+----------------------+-----------------------+--------------------+-------------------+---------------------+-----------------+-------------------+-----------------------+--------------------+------------------------+----------------------+----------------------+--------------------+-------------------+------------------+------------------+-------------------+------------------------+-------------------+---------------------------+------------------+----------------+----------------+----------------+----------------------+--------------------+--------------------+---------------------+----------------------+--------------------+--------------------+---------------------+------------------------+---------------------------+-----------------------+-------------------------+------------------------+-------------------------+--------------------------+-----------------------+------------------------+----------------------+----------------+------------------+--------------------+---------------------+------------------------+----------------------+----------------------+----------------------+----------------------+----------------------+--------------------+---------------------+----------------+------------------+-----------------+---------------+-------------------------+------------------------+-----------------------------+---------------------+-----------------+----------------------+------------------------+----------------------+---------------------+----------------------+--------------------+-----------------------+-------------------------+----------------------------+---------------------+-------------------------+------------------------+-------------------+--------------------------+---------------------+---------------------+--------------------+---------------------+---------------------+---------------------------+-------------------------+------------------------+----------------+---------------+----------------------+-----------------+---------------------+---------------------------+---------------------------+---------------------------+-----------------------+---------------------------+\n",
      "|    8|     ?|        ?|        Lakewoodcity|   1|      0.19|         0.33|        0.02|         0.9|        0.12|       0.17|       0.34|       0.47|       0.29|      0.32|      0.2|     1.0|     0.37|    0.72|        0.34|       0.6|      0.29|       0.15|      0.43|     0.39|      0.4|       0.39|       0.32|        0.27|       0.27|       0.36|      0.41|       0.08|          0.19|            0.1|        0.18|       0.48|         0.27|     0.68|       0.23|           0.41|        0.25|            0.52|          0.68|           0.4|        0.75|       0.75|      0.35|      0.55|       0.59|            0.61|       0.56|               0.74|      0.76|    0.04|    0.14|    0.03|          0.24|        0.27|        0.37|         0.39|          0.07|        0.07|        0.08|         0.08|            0.89|               0.06|           0.14|             0.13|            0.33|             0.39|              0.28|           0.55|            0.09|          0.51|     0.5|      0.21|        0.71|         0.52|            0.05|          0.26|          0.65|          0.14|          0.06|          0.22|        0.19|         0.18|    0.36|      0.35|     0.38|   0.34|             0.38|            0.46|                 0.25|         0.04|      0.0|          0.12|            0.42|           0.5|         0.51|          0.64|        0.03|           0.13|             0.96|                0.17|         0.06|             0.18|            0.44|       0.13|              0.94|         0.93|         0.03|        0.07|          0.1|         0.07|               0.02|             0.57|            0.29|    0.12|   0.26|           0.2|     0.06|         0.04|                0.9|                0.5|               0.32|           0.14|                0.2|         23.0|           0.0|              0.0|                 23.0|         1.0|              20.0|                  4.0|                 1.0|                 9.0|                12.0|               16.0|                7.0|                6.0|                0.0|              28.0|             22.0|             0.0|             30.0|            10.0|                30.0|              38.0|              30.0|                6.0|              15.0|             13.0|             27.0|               23.0|               21.0|                23.0|                4.0|               21.0|              14.0|                8.0|                   9.0|                   11.0|                25.0|               32.0|                  3.0|             27.0|               30.0|                   15.0|                36.0|                    36.0|                  49.0|                   5.0|                55.0|               44.0|               8.0|              12.0|                1.0|                    27.0|                9.0|                       53.0|              47.0|             4.0|            12.0|             3.0|                  14.0|                 7.0|                12.0|                 29.0|                   6.0|                 6.0|                 5.0|                  7.0|                     7.0|                        4.0|                    3.0|                      8.0|                     9.0|                     31.0|                       7.0|                    5.0|                     8.0|                   2.0|             0.0|              20.0|                26.0|                  0.0|                     2.0|                  27.0|                   8.0|                  15.0|                  11.0|                  19.0|                11.0|                 14.0|            38.0|              34.0|             15.0|           25.0|                      1.0|                     5.0|                         16.0|                  4.0|              0.0|                  10.0|                    16.0|                   9.0|                 33.0|                  22.0|                 3.0|                    9.0|                      3.0|                         8.0|                  6.0|                      6.0|                    44.0|                9.0|                       2.0|                 13.0|                  7.0|                 5.0|                 10.0|                  1.0|                        2.0|                      1.0|                    40.0|            10.0|           19.0|                  19.0|              4.0|                  4.0|                       25.0|                        2.0|                       15.0|                    3.0|                       16.0|\n",
      "|   53|     ?|        ?|         Tukwilacity|   1|       0.0|         0.16|        0.12|        0.74|        0.45|       0.07|       0.26|       0.59|       0.35|      0.27|     0.02|     1.0|     0.31|    0.72|        0.11|      0.45|      0.25|       0.29|      0.39|     0.29|     0.37|       0.38|       0.33|        0.16|        0.3|       0.22|      0.35|       0.01|          0.24|           0.14|        0.24|        0.3|         0.27|     0.73|       0.57|           0.15|        0.42|            0.36|           1.0|          0.63|        0.91|        1.0|      0.29|      0.43|       0.47|             0.6|       0.39|               0.46|      0.53|     0.0|    0.24|    0.01|          0.52|        0.62|        0.64|         0.63|          0.25|        0.27|        0.25|         0.23|            0.84|                0.1|           0.16|              0.1|            0.17|             0.29|              0.17|           0.26|             0.2|          0.82|     0.0|      0.02|        0.79|         0.24|            0.02|          0.25|          0.65|          0.16|           0.0|          0.21|         0.2|         0.21|    0.42|      0.38|      0.4|   0.37|             0.29|            0.32|                 0.18|          0.0|      0.0|          0.21|             0.5|          0.34|          0.6|          0.52|           ?|              ?|                ?|                   ?|            ?|                ?|               ?|          ?|                 ?|            ?|            ?|           ?|            ?|            ?|                  ?|                ?|               ?|    0.02|   0.12|          0.45|        ?|            ?|                  ?|                  ?|                0.0|              ?|               0.67|         14.0|           0.0|              0.0|               1761.0|         1.0|               1.0|                 82.0|                13.0|                19.0|                54.0|                8.0|               22.0|               28.0|               13.0|              32.0|              1.0|             0.0|             34.0|            10.0|                16.0|              12.0|              48.0|               17.0|               9.0|             12.0|             20.0|               26.0|               23.0|                 1.0|               18.0|                3.0|              11.0|                0.0|                  18.0|                   10.0|                 8.0|               18.0|                  3.0|             37.0|               50.0|                   62.0|                 4.0|                     0.0|                  79.0|                  50.0|                78.0|               90.0|              36.0|              42.0|               35.0|                    45.0|               50.0|                       19.0|              23.0|             0.0|            19.0|             1.0|                  46.0|                49.0|                58.0|                 25.0|                  34.0|                21.0|                26.0|                 22.0|                    13.0|                       10.0|                    5.0|                     12.0|                    69.0|                     36.0|                      43.0|                   58.0|                    20.0|                  65.0|             1.0|               1.0|                15.0|                 65.0|                    10.0|                  33.0|                   8.0|                  12.0|                   0.0|                  14.0|                19.0|                 27.0|            21.0|              29.0|             30.0|           18.0|                     45.0|                    13.0|                         19.0|                  0.0|              0.0|                  18.0|                    25.0|                  35.0|                 34.0|                  32.0|                 0.0|                    0.0|                      0.0|                         0.0|                  0.0|                      0.0|                     0.0|                0.0|                       0.0|                  0.0|                  0.0|                 0.0|                  0.0|                  0.0|                        0.0|                      0.0|                     0.0|             1.0|            1.0|                  42.0|              0.0|                  0.0|                        0.0|                        0.0|                        0.0|                    0.0|                       55.0|\n",
      "|   24|     ?|        ?|        Aberdeentown|   1|       0.0|         0.42|        0.49|        0.56|        0.17|       0.04|       0.39|       0.47|       0.28|      0.32|      0.0|     0.0|      0.3|    0.58|        0.19|      0.39|      0.38|        0.4|      0.84|     0.28|     0.27|       0.29|       0.27|        0.07|       0.29|       0.28|      0.39|       0.01|          0.27|           0.27|        0.43|       0.19|         0.36|     0.58|       0.32|           0.29|        0.49|            0.32|          0.63|          0.41|        0.71|        0.7|      0.45|      0.42|       0.44|            0.43|       0.43|               0.71|      0.67|    0.01|    0.46|     0.0|          0.07|        0.06|        0.15|         0.19|          0.02|        0.02|        0.04|         0.05|            0.88|               0.04|            0.2|              0.2|            0.46|             0.52|              0.43|           0.42|            0.15|          0.51|     0.5|      0.01|        0.86|         0.41|            0.29|           0.3|          0.52|          0.47|          0.45|          0.18|        0.17|         0.16|    0.27|      0.29|     0.27|   0.31|             0.48|            0.39|                 0.28|          0.0|      0.0|          0.14|            0.49|          0.54|         0.67|          0.56|           ?|              ?|                ?|                   ?|            ?|                ?|               ?|          ?|                 ?|            ?|            ?|           ?|            ?|            ?|                  ?|                ?|               ?|    0.01|   0.21|          0.02|        ?|            ?|                  ?|                  ?|                0.0|              ?|               0.43|         33.0|           0.0|              0.0|                931.0|         1.0|               1.0|                 10.0|                58.0|                37.0|                22.0|                3.0|                3.0|                6.0|                2.0|              28.0|              0.0|             1.0|             25.0|             0.0|                 3.0|               4.0|              17.0|               26.0|              70.0|              7.0|              5.0|                5.0|                7.0|                17.0|                5.0|               13.0|              10.0|                0.0|                  28.0|                    8.0|                10.0|               15.0|                 36.0|              1.0|               12.0|                   10.0|                41.0|                     7.0|                   8.0|                  16.0|                56.0|               46.0|              11.0|              45.0|               39.0|                    61.0|               45.0|                       36.0|               6.0|             1.0|            42.0|             0.0|                  41.0|                45.0|                50.0|                 54.0|                   3.0|                 0.0|                 3.0|                  5.0|                     9.0|                        1.0|                    2.0|                     11.0|                    12.0|                     10.0|                      17.0|                   16.0|                    16.0|                   2.0|             0.0|               0.0|                17.0|                 25.0|                    29.0|                  23.0|                   1.0|                  47.0|                  38.0|                   9.0|                16.0|                 23.0|            14.0|              20.0|             28.0|           15.0|                     13.0|                    10.0|                          3.0|                  0.0|              0.0|                  14.0|                    23.0|                   2.0|                  4.0|                  36.0|                 0.0|                    0.0|                      0.0|                         0.0|                  0.0|                      0.0|                     0.0|                0.0|                       0.0|                  0.0|                  0.0|                 0.0|                  0.0|                  0.0|                        0.0|                      0.0|                     0.0|             0.0|           15.0|                   2.0|              0.0|                  0.0|                        0.0|                        0.0|                        0.0|                    0.0|                       59.0|\n",
      "|   34|     5|    81440| Willingborotownship|   1|      0.04|         0.77|         1.0|        0.08|        0.12|        0.1|       0.51|        0.5|       0.34|      0.21|     0.06|     1.0|     0.58|    0.89|        0.21|      0.43|      0.36|        0.2|      0.82|     0.51|     0.36|        0.4|       0.39|        0.16|       0.25|       0.36|      0.44|       0.01|           0.1|           0.09|        0.25|       0.31|         0.33|     0.71|       0.36|           0.45|        0.37|            0.39|          0.34|          0.45|        0.49|       0.44|      0.75|      0.65|       0.54|            0.83|       0.65|               0.85|      0.86|    0.03|    0.33|    0.02|          0.11|         0.2|         0.3|         0.31|          0.05|        0.08|        0.11|         0.11|            0.81|               0.08|           0.56|             0.62|            0.85|             0.77|               1.0|           0.94|            0.12|          0.01|     0.5|      0.01|        0.97|         0.96|             0.6|          0.47|          0.52|          0.11|          0.11|          0.24|        0.21|         0.19|    0.75|       0.7|     0.77|   0.89|             0.63|            0.51|                 0.47|          0.0|      0.0|          0.19|             0.3|          0.73|         0.64|          0.65|           ?|              ?|                ?|                   ?|            ?|                ?|               ?|          ?|                 ?|            ?|            ?|           ?|            ?|            ?|                  ?|                ?|               ?|    0.02|   0.39|          0.28|        ?|            ?|                  ?|                  ?|                0.0|              ?|               0.12|          1.0|           6.0|            638.0|                315.0|         1.0|               4.0|                 53.0|                 7.0|                70.0|                12.0|               11.0|               24.0|                3.0|               15.0|              35.0|              5.0|             0.0|             45.0|            65.0|                 5.0|              26.0|              14.0|               20.0|              65.0|             47.0|             23.0|               19.0|               28.0|                 1.0|                2.0|               21.0|              22.0|                0.0|                   3.0|                   23.0|                26.0|               19.0|                 13.0|             40.0|                2.0|                   14.0|                 5.0|                     3.0|                  30.0|                  14.0|                 6.0|               45.0|              52.0|              16.0|               10.0|                     6.0|               25.0|                       85.0|              63.0|             3.0|            51.0|             2.0|                  20.0|                18.0|                 9.0|                 34.0|                   4.0|                 5.0|                12.0|                 10.0|                    16.0|                        6.0|                   61.0|                     66.0|                    61.0|                     60.0|                      25.0|                   45.0|                     9.0|                  97.0|             0.0|               0.0|                57.0|                 76.0|                    55.0|                   4.0|                   1.0|                  16.0|                   1.0|                  25.0|                15.0|                 16.0|            82.0|              58.0|             81.0|           76.0|                     22.0|                     2.0|                         11.0|                  0.0|              0.0|                  20.0|                    61.0|                  44.0|                 13.0|                  25.0|                 0.0|                    0.0|                      0.0|                         0.0|                  0.0|                      0.0|                     0.0|                0.0|                       0.0|                  0.0|                  0.0|                 0.0|                  0.0|                  0.0|                        0.0|                      0.0|                     0.0|             1.0|           39.0|                  24.0|              0.0|                  0.0|                        0.0|                        0.0|                        0.0|                    0.0|                        9.0|\n",
      "|   42|    95|     6096|   Bethlehemtownship|   1|      0.01|         0.55|        0.02|        0.95|        0.09|       0.05|       0.38|       0.38|       0.23|      0.36|     0.02|     0.9|      0.5|    0.72|        0.16|      0.68|      0.44|       0.11|      0.71|     0.46|     0.43|       0.41|       0.28|         0.0|       0.74|       0.51|      0.48|        0.0|          0.06|           0.25|         0.3|       0.33|         0.12|     0.65|       0.67|           0.38|        0.42|            0.46|          0.22|          0.27|         0.2|       0.21|      0.51|      0.91|       0.91|            0.89|       0.85|                0.4|       0.6|     0.0|    0.06|     0.0|          0.03|        0.07|         0.2|         0.27|          0.01|        0.02|        0.04|         0.05|            0.88|               0.05|           0.16|             0.19|            0.59|              0.6|              0.37|           0.89|            0.02|          0.19|     0.5|      0.01|        0.89|         0.87|            0.04|          0.55|          0.73|          0.05|          0.14|          0.31|        0.31|          0.3|     0.4|      0.36|     0.38|   0.38|             0.22|            0.51|                 0.21|          0.0|      0.0|          0.11|            0.72|          0.64|         0.61|          0.53|           ?|              ?|                ?|                   ?|            ?|                ?|               ?|          ?|                 ?|            ?|            ?|           ?|            ?|            ?|                  ?|                ?|               ?|    0.04|   0.09|          0.02|        ?|            ?|                  ?|                  ?|                0.0|              ?|               0.03|          5.0|          35.0|            525.0|                627.0|         1.0|               0.0|                 20.0|                 1.0|                 4.0|                 6.0|                4.0|                1.0|               18.0|                7.0|               8.0|              1.0|            17.0|             33.0|            10.0|                 0.0|              35.0|              12.0|               10.0|              50.0|             35.0|             26.0|               27.0|               16.0|                 0.0|               66.0|               57.0|              24.0|                1.0|                   4.0|                   20.0|                24.0|                6.0|                 17.0|             19.0|               66.0|                    3.0|                 4.0|                    20.0|                  41.0|                  22.0|                53.0|               59.0|               4.0|              43.0|               51.0|                     8.0|               27.0|                       10.0|               4.0|             0.0|             1.0|             0.0|                  52.0|                53.0|                34.0|                 42.0|                   0.0|                 0.0|                 3.0|                  5.0|                     9.0|                        3.0|                    5.0|                      0.0|                    20.0|                     21.0|                       4.0|                   48.0|                     7.0|                  52.0|             0.0|               0.0|                 3.0|                 61.0|                     3.0|                  20.0|                  11.0|                   3.0|                   8.0|                  32.0|                41.0|                 47.0|            32.0|              49.0|             15.0|           44.0|                     49.0|                     2.0|                         13.0|                  0.0|              0.0|                  12.0|                     7.0|                  13.0|                  9.0|                  31.0|                 0.0|                    0.0|                      0.0|                         0.0|                  0.0|                      0.0|                     0.0|                0.0|                       0.0|                  0.0|                  0.0|                 0.0|                  0.0|                  0.0|                        0.0|                      0.0|                     0.0|             3.0|            0.0|                   2.0|              0.0|                  0.0|                        0.0|                        0.0|                        0.0|                    0.0|                        0.0|\n",
      "|    6|     ?|        ?|   SouthPasadenacity|   1|      0.02|         0.28|        0.06|        0.54|         1.0|       0.25|       0.31|       0.48|       0.27|      0.37|     0.04|     1.0|     0.52|    0.68|         0.2|      0.61|      0.28|       0.15|      0.25|     0.62|     0.72|       0.76|       0.77|        0.28|       0.52|       0.48|       0.6|       0.01|          0.12|           0.13|        0.12|        0.8|          0.1|     0.65|       0.19|           0.77|        0.06|            0.91|          0.49|          0.57|        0.61|       0.58|      0.44|      0.62|       0.69|            0.87|       0.53|                0.3|      0.43|     0.0|    0.11|    0.04|           0.3|        0.35|        0.43|         0.47|           0.5|         0.5|        0.56|         0.57|            0.45|               0.28|           0.25|             0.19|            0.29|             0.53|              0.18|           0.39|            0.26|          0.73|     0.0|      0.02|        0.84|          0.3|            0.16|          0.28|          0.25|          0.02|          0.05|          0.94|         1.0|          1.0|    0.67|      0.63|     0.68|   0.62|             0.47|            0.59|                 0.11|          0.0|      0.0|           0.7|            0.42|          0.49|         0.73|          0.64|           ?|              ?|                ?|                   ?|            ?|                ?|               ?|          ?|                 ?|            ?|            ?|           ?|            ?|            ?|                  ?|                ?|               ?|    0.01|   0.58|           0.1|        ?|            ?|                  ?|                  ?|                0.0|              ?|               0.14|          0.0|           0.0|              0.0|                677.0|         1.0|               2.0|                 27.0|                 6.0|                40.0|                11.0|               22.0|               21.0|                2.0|                3.0|              14.0|              3.0|             0.0|             38.0|            22.0|                11.0|              30.0|              34.0|                6.0|              46.0|             50.0|             53.0|               66.0|               68.0|                20.0|               49.0|               43.0|              42.0|                0.0|                   6.0|                    7.0|                43.0|               51.0|                 38.0|             19.0|               16.0|                   60.0|                69.0|                    65.0|                  10.0|                  37.0|                 4.0|               10.0|               0.0|               4.0|               29.0|                     5.0|               18.0|                       44.0|              11.0|             0.0|            10.0|             4.0|                   9.0|                 6.0|                 8.0|                  3.0|                  45.0|                51.0|                78.0|                 46.0|                    63.0|                       27.0|                   19.0|                      0.0|                     6.0|                     18.0|                      38.0|                   25.0|                    25.0|                  60.0|             1.0|               1.0|                 2.0|                 45.0|                    18.0|                  39.0|                  26.0|                   2.0|                  12.0|                  93.0|                14.0|                 11.0|            68.0|              40.0|             46.0|           36.0|                     15.0|                    11.0|                         39.0|                  0.0|              0.0|                  62.0|                    16.0|                   8.0|                  2.0|                  22.0|                 0.0|                    0.0|                      0.0|                         0.0|                  0.0|                      0.0|                     0.0|                0.0|                       0.0|                  0.0|                  0.0|                 0.0|                  0.0|                  0.0|                        0.0|                      0.0|                     0.0|             0.0|           57.0|                  11.0|              0.0|                  0.0|                        0.0|                        0.0|                        0.0|                    0.0|                       12.0|\n",
      "|   44|     7|    41500|         Lincolntown|   1|      0.01|         0.39|         0.0|        0.98|        0.06|       0.02|        0.3|       0.37|       0.23|       0.6|     0.02|    0.81|     0.42|     0.5|        0.23|      0.68|      0.61|       0.21|      0.54|     0.43|     0.47|       0.44|        0.4|        0.24|       0.86|       0.24|      0.36|       0.01|          0.11|           0.29|        0.41|       0.36|         0.28|     0.54|       0.44|           0.53|        0.33|            0.49|          0.25|          0.34|        0.28|       0.28|      0.42|      0.77|       0.81|            0.79|       0.74|               0.57|      0.62|     0.0|    0.13|    0.01|           0.0|        0.02|        0.02|          0.1|           0.0|        0.01|        0.01|         0.03|            0.73|               0.05|           0.12|             0.13|            0.42|             0.54|              0.24|           0.65|            0.03|          0.46|     0.5|      0.01|        0.89|         0.57|            0.09|          0.49|          0.38|          0.05|          0.05|          0.37|        0.38|         0.39|    0.26|      0.35|     0.42|   0.35|             0.46|            0.44|                 0.31|          0.0|      0.0|          0.15|            0.81|          0.77|         0.91|          0.84|           ?|              ?|                ?|                   ?|            ?|                ?|               ?|          ?|                 ?|            ?|            ?|           ?|            ?|            ?|                  ?|                ?|               ?|    0.05|   0.08|          0.06|        ?|            ?|                  ?|                  ?|                0.0|              ?|               0.03|         21.0|           5.0|             48.0|                154.0|         1.0|               0.0|                  1.0|                 3.0|                 0.0|                 4.0|                1.0|               13.0|               22.0|                7.0|              44.0|              1.0|            14.0|             21.0|            19.0|                14.0|              35.0|              19.0|                3.0|              31.0|             32.0|             34.0|               31.0|               27.0|                14.0|               83.0|                6.0|              19.0|                0.0|                   7.0|                   13.0|                28.0|               26.0|                  9.0|             20.0|               25.0|                   13.0|                11.0|                    19.0|                  48.0|                  10.0|                48.0|               42.0|               5.0|              34.0|                7.0|                    15.0|               11.0|                        7.0|              12.0|             0.0|             6.0|             1.0|                   0.0|                87.0|                88.0|                 75.0|                   2.0|                 1.0|                 2.0|                  2.0|                    28.0|                        3.0|                    7.0|                      8.0|                    13.0|                     20.0|                      10.0|                   27.0|                     3.0|                   7.0|             0.0|               0.0|                 3.0|                 12.0|                     8.0|                  12.0|                  13.0|                   3.0|                  12.0|                  41.0|                36.0|                 13.0|            20.0|              34.0|             16.0|           22.0|                     30.0|                     9.0|                          4.0|                  0.0|              0.0|                  13.0|                    12.0|                  36.0|                 55.0|                  16.0|                 0.0|                    0.0|                      0.0|                         0.0|                  0.0|                      0.0|                     0.0|                0.0|                       0.0|                  0.0|                  0.0|                 0.0|                  0.0|                  0.0|                        0.0|                      0.0|                     0.0|             4.0|            3.0|                   6.0|              0.0|                  0.0|                        0.0|                        0.0|                        0.0|                    0.0|                        0.0|\n",
      "|    6|     ?|        ?|           Selmacity|   1|      0.01|         0.74|        0.03|        0.46|         0.2|        1.0|       0.52|       0.55|       0.36|      0.35|      0.0|     0.0|     0.16|    0.44|         1.0|      0.23|      0.53|       0.97|      0.41|     0.15|      0.1|       0.12|       0.08|        0.17|       0.27|       0.18|      0.21|       0.03|          0.64|           0.96|        0.82|       0.12|          1.0|     0.26|       0.43|           0.34|        0.71|            0.18|          0.38|          0.47|        0.59|       0.52|      0.78|      0.45|       0.43|            0.34|       0.34|               0.29|      0.27|    0.02|     0.5|    0.02|           0.5|        0.59|        0.65|         0.59|          0.69|        0.72|        0.71|          0.6|            0.12|               0.93|           0.74|             0.75|             0.8|             0.68|              0.92|           0.39|            0.89|          0.66|     0.0|      0.01|        0.91|         0.46|            0.22|          0.37|           0.6|          0.28|          0.23|          0.15|        0.13|         0.13|    0.21|      0.24|     0.25|   0.24|             0.64|            0.59|                 0.28|          0.0|      0.0|          0.59|            0.58|          0.52|         0.79|          0.78|           ?|              ?|                ?|                   ?|            ?|                ?|               ?|          ?|                 ?|            ?|            ?|           ?|            ?|            ?|                  ?|                ?|               ?|    0.01|   0.33|           0.0|        ?|            ?|                  ?|                  ?|                0.0|              ?|               0.55|          0.0|           0.0|              0.0|                115.0|         1.0|               0.0|                 79.0|                 2.0|                63.0|                18.0|                6.0|               31.0|               17.0|               17.0|               1.0|              0.0|             1.0|              1.0|            36.0|                18.0|              46.0|               3.0|               81.0|              14.0|             16.0|             41.0|               50.0|               40.0|                 7.0|                4.0|               17.0|              17.0|                3.0|                  64.0|                   85.0|                75.0|               28.0|                 31.0|             44.0|               22.0|                   20.0|                71.0|                    48.0|                   9.0|                  21.0|                 7.0|                9.0|              66.0|              37.0|               49.0|                    66.0|               61.0|                       42.0|              53.0|             2.0|            45.0|             2.0|                  37.0|                42.0|                61.0|                 32.0|                  55.0|                46.0|                53.0|                 33.0|                    71.0|                       55.0|                   78.0|                     80.0|                    66.0|                     29.0|                      89.0|                   25.0|                    85.0|                  31.0|             1.0|               0.0|                10.0|                 13.0|                    23.0|                   1.0|                  12.0|                  40.0|                  22.0|                  13.0|                 7.0|                  3.0|            25.0|              12.0|              8.0|            7.0|                     51.0|                    11.0|                          3.0|                  0.0|              0.0|                  42.0|                    18.0|                  21.0|                  5.0|                   4.0|                 0.0|                    0.0|                      0.0|                         0.0|                  0.0|                      0.0|                     0.0|                0.0|                       0.0|                  0.0|                  0.0|                 0.0|                  0.0|                  0.0|                        0.0|                      0.0|                     0.0|             0.0|           32.0|                   1.0|              0.0|                  0.0|                        0.0|                        0.0|                        0.0|                    0.0|                       57.0|\n",
      "|   21|     ?|        ?|       Hendersoncity|   1|      0.03|         0.34|         0.2|        0.84|        0.02|        0.0|       0.38|       0.45|       0.28|      0.48|     0.04|     1.0|     0.17|    0.47|        0.36|      0.34|      0.55|       0.48|      0.43|     0.21|     0.23|       0.23|       0.19|         0.1|       0.26|       0.29|      0.22|       0.04|          0.45|           0.52|        0.59|       0.17|         0.55|     0.43|       0.59|           0.36|        0.64|            0.29|          0.62|          0.26|        0.66|       0.67|      0.37|      0.51|       0.55|            0.58|       0.47|               0.65|      0.64|    0.02|    0.29|     0.0|          0.12|        0.09|        0.07|         0.13|           0.0|         0.0|         0.0|          0.0|            0.99|               0.01|           0.12|             0.12|            0.35|             0.38|              0.33|            0.5|             0.1|          0.64|     0.0|      0.04|        0.72|         0.49|            0.05|          0.49|           0.5|          0.57|          0.22|          0.07|        0.07|         0.08|    0.14|      0.17|     0.16|   0.15|             0.38|            0.13|                 0.36|         0.01|      0.0|          0.01|            0.78|          0.48|         0.79|          0.75|           ?|              ?|                ?|                   ?|            ?|                ?|               ?|          ?|                 ?|            ?|            ?|           ?|            ?|            ?|                  ?|                ?|               ?|    0.04|   0.17|          0.04|        ?|            ?|                  ?|                  ?|                0.0|              ?|               0.53|         22.0|           0.0|              0.0|                 19.0|         1.0|               3.0|                  5.0|                22.0|                13.0|                 0.0|                7.0|                1.0|                8.0|                2.0|               6.0|              3.0|             0.0|              2.0|            38.0|                33.0|              17.0|              13.0|               41.0|              15.0|              1.0|              0.0|                7.0|                3.0|                15.0|                3.0|               15.0|               7.0|                4.0|                  21.0|                   43.0|                48.0|               14.0|                 44.0|             17.0|               35.0|                    0.0|                53.0|                    14.0|                  26.0|                  25.0|                21.0|               32.0|               7.0|              23.0|               21.0|                    17.0|               43.0|                       31.0|              10.0|             2.0|            23.0|             0.0|                  39.0|                32.0|                62.0|                 49.0|                   2.0|                 7.0|                 9.0|                 11.0|                    34.0|                        5.0|                    7.0|                      9.0|                    28.0|                     14.0|                      32.0|                   14.0|                     6.0|                  18.0|             1.0|               3.0|                22.0|                  6.0|                     2.0|                  12.0|                   4.0|                  56.0|                  14.0|                   1.0|                 4.0|                  0.0|            12.0|               5.0|              3.0|            1.0|                      1.0|                    31.0|                          9.0|                  1.0|              0.0|                   8.0|                     0.0|                  12.0|                  5.0|                   3.0|                 0.0|                    0.0|                      0.0|                         0.0|                  0.0|                      0.0|                     0.0|                0.0|                       0.0|                  0.0|                  0.0|                 0.0|                  0.0|                  0.0|                        0.0|                      0.0|                     0.0|             3.0|           12.0|                   4.0|              0.0|                  0.0|                        0.0|                        0.0|                        0.0|                    0.0|                       37.0|\n",
      "|   29|     ?|        ?|         Claytoncity|   1|      0.01|          0.4|        0.06|        0.87|         0.3|       0.03|        0.9|       0.82|        0.8|      0.39|     0.02|     1.0|     0.54|    0.59|        0.22|      0.86|      0.42|       0.02|      0.31|     0.85|     0.89|       0.94|       0.11|        0.09|       0.33|       0.17|       0.8|        0.0|          0.11|           0.04|        0.03|        1.0|         0.11|     0.44|        0.2|            1.0|        0.02|            0.96|           0.3|          0.85|        0.39|       0.36|      0.31|      0.65|       0.73|            0.78|       0.67|               0.72|      0.71|     0.0|    0.07|    0.01|          0.41|        0.44|        0.52|         0.48|          0.22|        0.21|        0.22|         0.19|            0.85|               0.03|           0.09|             0.06|            0.15|             0.34|              0.05|           0.48|            0.03|          0.58|     0.0|      0.02|        0.72|         0.38|            0.07|          0.47|          0.04|          0.01|           0.0|          0.63|        0.71|         0.79|    0.44|      0.42|     0.47|   0.41|             0.23|            0.27|                 0.28|          0.0|      0.0|          0.22|            0.42|          0.34|         0.23|          0.09|           ?|              ?|                ?|                   ?|            ?|                ?|               ?|          ?|                 ?|            ?|            ?|           ?|            ?|            ?|                  ?|                ?|               ?|     0.0|   0.47|          0.11|        ?|            ?|                  ?|                  ?|                0.0|              ?|               0.15|         13.0|           0.0|              0.0|               1289.0|         1.0|               0.0|                 11.0|                 6.0|                12.0|                28.0|                2.0|               73.0|               66.0|               80.0|              11.0|              1.0|             0.0|             43.0|            16.0|                 4.0|              60.0|              10.0|               69.0|              26.0|             73.0|             88.0|               82.0|               35.0|                 8.0|               22.0|               10.0|              71.0|                1.0|                   7.0|                   39.0|                76.0|               31.0|                 48.0|             24.0|               20.0|                   24.0|                85.0|                    74.0|                  27.0|                  68.0|                25.0|               34.0|              21.0|              16.0|               15.0|                    12.0|               14.0|                       43.0|              27.0|             0.0|             7.0|             1.0|                  34.0|                10.0|                16.0|                  8.0|                  23.0|                32.0|                22.0|                 25.0|                    15.0|                        0.0|                   21.0|                     32.0|                    65.0|                     22.0|                      90.0|                    8.0|                     3.0|                   4.0|             1.0|               1.0|                22.0|                 31.0|                     6.0|                   4.0|                  38.0|                   0.0|                   0.0|                  68.0|                64.0|                 74.0|            43.0|              19.0|             57.0|            8.0|                     43.0|                    25.0|                          3.0|                  0.0|              0.0|                  22.0|                    16.0|                  35.0|                 62.0|                  90.0|                 0.0|                    0.0|                      0.0|                         0.0|                  0.0|                      0.0|                     0.0|                0.0|                       0.0|                  0.0|                  0.0|                 0.0|                  0.0|                  0.0|                        0.0|                      0.0|                     0.0|             8.0|           40.0|                  12.0|              0.0|                  0.0|                        0.0|                        0.0|                        0.0|                    0.0|                       11.0|\n",
      "|    6|     ?|        ?|        DalyCitycity|   1|      0.13|         0.71|        0.15|        0.07|         1.0|       0.41|        0.4|       0.52|       0.35|      0.33|     0.15|     1.0|     0.49|    0.71|        0.16|      0.47|      0.36|        0.4|      0.45|     0.47|     0.33|       0.37|        0.4|        0.22|       0.32|       0.34|      0.38|       0.06|          0.18|           0.33|        0.36|       0.38|         0.32|     0.62|        0.2|           0.29|        0.35|             0.3|          0.41|          0.55|        0.46|       0.46|      0.85|      0.62|       0.56|            0.68|       0.62|               0.83|      0.81|    0.05|     0.3|    0.28|          0.36|        0.43|        0.52|         0.57|           1.0|         1.0|         1.0|          1.0|             0.0|               0.58|           0.88|             0.82|            0.77|             0.79|              0.72|           0.49|            0.91|          0.63|     0.0|      0.06|        0.87|         0.49|             0.1|           0.2|          0.46|          0.05|          0.28|          0.75|        0.74|          0.7|    0.73|      0.67|     0.82|   0.67|             0.58|            0.67|                 0.19|         0.07|     0.14|           1.0|            0.35|          0.53|         0.39|          0.62|           ?|              ?|                ?|                   ?|            ?|                ?|               ?|          ?|                 ?|            ?|            ?|           ?|            ?|            ?|                  ?|                ?|               ?|    0.02|    1.0|           1.0|        ?|            ?|                  ?|                  ?|                0.0|              ?|               0.24|          0.0|           0.0|              0.0|               1015.0|         1.0|              15.0|                 45.0|                14.0|                81.0|                11.0|               48.0|                2.0|               10.0|               13.0|               3.0|             15.0|             0.0|             39.0|            17.0|                 0.0|              27.0|              14.0|               26.0|               5.0|             36.0|             13.0|               12.0|               27.0|                13.0|               15.0|               20.0|              12.0|                6.0|                  15.0|                   28.0|                 7.0|               24.0|                  2.0|             23.0|               20.0|                   10.0|                 6.0|                    16.0|                  16.0|                  30.0|                26.0|               18.0|              44.0|               4.0|               14.0|                     7.0|                3.0|                       68.0|              51.0|             5.0|            25.0|            25.0|                  15.0|                13.0|                16.0|                 33.0|                  12.0|                13.0|                11.0|                 12.0|                    11.0|                       64.0|                   89.0|                     67.0|                    49.0|                     68.0|                      51.0|                    6.0|                    65.0|                  20.0|             1.0|               6.0|                 5.0|                  6.0|                     4.0|                  44.0|                  18.0|                   3.0|                  17.0|                  67.0|                81.0|                 61.0|            67.0|              56.0|             80.0|           39.0|                     20.0|                    49.0|                         15.0|                  7.0|             11.0|                  15.0|                    43.0|                   3.0|                 50.0|                  26.0|                 0.0|                    0.0|                      0.0|                         0.0|                  0.0|                      0.0|                     0.0|                0.0|                       0.0|                  0.0|                  0.0|                 0.0|                  0.0|                  0.0|                        0.0|                      0.0|                     0.0|             1.0|           24.0|                  10.0|              0.0|                  0.0|                        0.0|                        0.0|                        0.0|                    0.0|                       23.0|\n",
      "|   36|     ?|        ?|RockvilleCentrevi...|   1|      0.02|         0.46|        0.08|        0.91|        0.07|        0.1|       0.34|       0.36|       0.22|      0.57|     0.04|     1.0|     0.72|    0.53|        0.23|      0.74|      0.63|       0.17|      0.59|      0.8|     0.72|       0.71|       0.36|         0.7|       0.43|       0.35|      0.41|       0.01|          0.07|           0.18|        0.19|       0.72|         0.18|     0.51|       0.18|           0.67|        0.13|            0.79|          0.18|           0.4|        0.24|       0.22|      0.59|      0.85|       0.87|            0.89|       0.78|               0.31|      0.39|    0.01|    0.14|    0.01|          0.11|        0.17|        0.21|         0.27|          0.05|        0.07|        0.08|          0.1|            0.82|               0.08|           0.34|             0.31|             0.5|             0.64|               0.2|           0.72|            0.09|          0.41|     0.5|      0.02|        0.89|         0.62|            0.07|          0.43|          0.06|          0.02|          0.09|          0.74|        0.76|         0.79|    0.45|      0.54|     0.65|   0.49|             0.39|            0.51|                 0.68|         0.01|      0.0|           0.2|            0.88|          0.91|          0.9|          0.93|           ?|              ?|                ?|                   ?|            ?|                ?|               ?|          ?|                 ?|            ?|            ?|           ?|            ?|            ?|                  ?|                ?|               ?|    0.01|   0.63|           1.0|        ?|            ?|                  ?|                  ?|                0.0|              ?|               0.08|         11.0|           0.0|              0.0|               1370.0|         1.0|               2.0|                 14.0|                 9.0|                 6.0|                 7.0|               11.0|                7.0|               23.0|               11.0|              29.0|              3.0|             0.0|             72.0|             1.0|                14.0|              54.0|              37.0|                5.0|              24.0|             86.0|             53.0|               53.0|               22.0|                50.0|               28.0|               25.0|              14.0|                0.0|                   1.0|                    4.0|                 1.0|               59.0|                 12.0|              2.0|               33.0|                   49.0|                47.0|                    66.0|                  56.0|                   5.0|                30.0|               33.0|              28.0|              36.0|               44.0|                     8.0|               26.0|                       28.0|              31.0|             1.0|            12.0|             1.0|                  20.0|                 8.0|                30.0|                 42.0|                   4.0|                 6.0|                 5.0|                  9.0|                    18.0|                        6.0|                   25.0|                     21.0|                    11.0|                     32.0|                      27.0|                   38.0|                     8.0|                  19.0|             0.0|               1.0|                 3.0|                 18.0|                     6.0|                   3.0|                  41.0|                   2.0|                   6.0|                  64.0|                84.0|                 74.0|            37.0|              44.0|             66.0|           51.0|                     31.0|                     2.0|                         34.0|                  1.0|              0.0|                  21.0|                    50.0|                  65.0|                 44.0|                  56.0|                 0.0|                    0.0|                      0.0|                         0.0|                  0.0|                      0.0|                     0.0|                0.0|                       0.0|                  0.0|                  0.0|                 0.0|                  0.0|                  0.0|                        0.0|                      0.0|                     0.0|             0.0|           55.0|                  10.0|              0.0|                  0.0|                        0.0|                        0.0|                        0.0|                    0.0|                        8.0|\n",
      "|   25|    21|    44105|         Needhamtown|   1|      0.03|         0.47|        0.01|        0.96|        0.13|       0.02|       0.29|       0.32|        0.2|      0.52|     0.04|     1.0|      0.8|    0.55|        0.18|      0.87|      0.51|       0.07|      0.55|     0.82|     0.78|       0.77|       0.62|        0.14|       0.54|       0.17|      0.46|       0.01|          0.07|           0.07|        0.07|       0.89|         0.24|     0.55|       0.29|           0.73|         0.1|            0.88|          0.13|          0.38|         0.2|       0.18|       0.5|      0.87|        0.9|            0.87|       0.73|               0.33|      0.48|     0.0|    0.03|    0.01|          0.25|        0.28|        0.26|         0.25|          0.13|        0.13|        0.11|          0.1|            0.87|               0.05|           0.18|             0.19|             0.5|             0.55|              0.25|           0.83|            0.02|          0.25|     0.5|      0.01|        0.94|         0.78|             0.0|          0.26|          0.29|          0.01|          0.15|          0.71|        0.69|         0.68|     0.6|      0.82|      1.0|   0.87|              0.4|            0.39|                 0.46|          0.0|      0.0|          0.22|            0.66|          0.82|         0.66|          0.73|           ?|              ?|                ?|                   ?|            ?|                ?|               ?|          ?|                 ?|            ?|            ?|           ?|            ?|            ?|                  ?|                ?|               ?|    0.03|   0.18|          0.59|        ?|            ?|                  ?|                  ?|                0.0|              ?|               0.06|          3.0|           9.0|             98.0|                977.0|         1.0|               3.0|                 12.0|                 0.0|                 1.0|                13.0|                1.0|               20.0|               26.0|               12.0|               2.0|              3.0|             0.0|             63.0|            14.0|                 2.0|              61.0|               2.0|               13.0|              29.0|             78.0|             73.0|               59.0|               59.0|                 5.0|               57.0|               10.0|              31.0|                0.0|                   1.0|                   34.0|                53.0|               80.0|                  0.0|             13.0|               26.0|                   50.0|                42.0|                    73.0|                  62.0|                   0.0|                53.0|               53.0|              25.0|              39.0|               47.0|                     5.0|               21.0|                       29.0|              18.0|             0.0|             9.0|             1.0|                   4.0|                21.0|                 0.0|                 26.0|                  14.0|                12.0|                12.0|                  9.0|                    14.0|                        3.0|                    4.0|                      0.0|                    11.0|                     16.0|                      16.0|                   50.0|                     7.0|                  37.0|             0.0|               0.0|                27.0|                 56.0|                     0.0|                  27.0|                  27.0|                   0.0|                  29.0|                  63.0|                42.0|                 77.0|            60.0|              85.0|              0.0|           79.0|                      0.0|                    10.0|                         18.0|                  0.0|              0.0|                  22.0|                    39.0|                  74.0|                 15.0|                  11.0|                 0.0|                    0.0|                      0.0|                         0.0|                  0.0|                      0.0|                     0.0|                0.0|                       0.0|                  0.0|                  0.0|                 0.0|                  0.0|                  0.0|                        0.0|                      0.0|                     0.0|             2.0|           14.0|                  48.0|              0.0|                  0.0|                        0.0|                        0.0|                        0.0|                    0.0|                        2.0|\n",
      "|   55|    87|    30075|      GrandChutetown|   1|      0.01|         0.44|         0.0|        0.98|        0.04|       0.01|       0.35|       0.53|       0.32|      0.23|     0.02|    0.77|     0.46|    0.77|        0.41|      0.73|      0.28|        0.1|      0.22|     0.47|     0.41|        0.4|       0.38|        0.32|       0.09|       0.13|      0.75|        0.0|          0.07|            0.2|        0.22|       0.42|         0.13|     0.76|       0.67|           0.24|        0.42|            0.47|          0.37|          0.39|        0.27|       0.32|      0.47|      0.88|       0.92|            0.88|       0.82|               0.56|       0.6|     0.0|    0.08|     0.0|          0.08|        0.06|        0.25|         0.22|          0.01|         0.0|        0.02|         0.01|            0.96|               0.05|           0.14|             0.14|            0.45|             0.63|              0.19|           0.65|            0.04|          0.45|     0.5|      0.01|        0.92|         0.55|            0.05|          0.21|          0.85|          0.08|          0.07|          0.19|        0.18|         0.18|    0.35|      0.32|     0.32|   0.29|             0.16|            0.35|                 0.26|         0.01|      0.0|          0.03|            0.86|          0.43|         0.47|          0.69|           ?|              ?|                ?|                   ?|            ?|                ?|               ?|          ?|                 ?|            ?|            ?|           ?|            ?|            ?|                  ?|                ?|               ?|    0.08|   0.04|           0.0|        ?|            ?|                  ?|                  ?|                0.0|              ?|               0.09|          8.0|          45.0|            556.0|                709.0|         1.0|               0.0|                 15.0|                 3.0|                 0.0|                 2.0|                0.0|                6.0|               13.0|                8.0|              37.0|              1.0|            33.0|             50.0|            30.0|                36.0|              50.0|              34.0|                0.0|              47.0|             36.0|             33.0|               19.0|               15.0|                29.0|               45.0|               22.0|              58.0|                1.0|                   1.0|                   16.0|                 4.0|               25.0|                 35.0|             58.0|               66.0|                   35.0|                 4.0|                    23.0|                  17.0|                   7.0|                38.0|               11.0|               3.0|              49.0|               48.0|                     1.0|               39.0|                       13.0|               4.0|             0.0|             2.0|             0.0|                  51.0|                45.0|                21.0|                 19.0|                   0.0|                 7.0|                 0.0|                  1.0|                     0.0|                        3.0|                    3.0|                      5.0|                     7.0|                     24.0|                      30.0|                   27.0|                     1.0|                  26.0|             0.0|               0.0|                16.0|                  4.0|                     2.0|                  35.0|                  37.0|                  10.0|                   2.0|                  17.0|                12.0|                 14.0|             5.0|              22.0|             13.0|            6.0|                     68.0|                    16.0|                         12.0|                  1.0|              0.0|                   0.0|                    20.0|                   7.0|                 41.0|                   8.0|                 0.0|                    0.0|                      0.0|                         0.0|                  0.0|                      0.0|                     0.0|                0.0|                       0.0|                  0.0|                  0.0|                 0.0|                  0.0|                  0.0|                        0.0|                      0.0|                     0.0|             7.0|           16.0|                   1.0|              0.0|                  0.0|                        0.0|                        0.0|                        0.0|                    0.0|                        5.0|\n",
      "|    6|     ?|        ?|       DanaPointcity|   1|      0.04|         0.36|        0.01|        0.85|        0.14|       0.26|       0.32|       0.46|        0.3|      0.31|     0.05|     1.0|     0.71|    0.67|        0.42|      0.55|      0.25|       0.14|      0.36|      0.7|     0.79|       0.82|       0.29|        0.37|       0.53|       0.28|      0.38|       0.02|          0.18|           0.11|        0.14|       0.58|         0.19|     0.68|       0.28|           0.35|        0.15|            0.61|           0.6|           0.5|        0.68|       0.66|      0.35|      0.66|       0.68|            0.87|       0.59|                0.3|       0.3|    0.01|     0.1|    0.03|          0.69|        0.74|         0.7|         0.69|          0.65|        0.61|        0.53|         0.47|            0.74|               0.32|           0.26|             0.22|            0.39|             0.37|              0.45|           0.47|            0.21|          0.54|     0.5|       0.1|        0.43|          0.5|             0.0|          0.19|          0.79|          0.07|          0.07|          0.88|        0.93|         0.97|    0.96|      0.91|      1.0|   0.87|             0.55|            0.81|                 0.21|          0.0|     0.11|           0.4|            0.42|          0.31|         0.51|          0.53|           ?|              ?|                ?|                   ?|            ?|                ?|               ?|          ?|                 ?|            ?|            ?|           ?|            ?|            ?|                  ?|                ?|               ?|    0.02|    0.4|          0.15|        ?|            ?|                  ?|                  ?|                0.0|              ?|               0.21|          0.0|           0.0|              0.0|               1707.0|         1.0|               4.0|                  9.0|                 0.0|                14.0|                14.0|               27.0|               14.0|                1.0|                4.0|              20.0|              4.0|             0.0|             71.0|            11.0|                40.0|              24.0|              48.0|                8.0|              19.0|             61.0|             67.0|               72.0|               14.0|                31.0|               37.0|               13.0|              12.0|                2.0|                  15.0|                    1.0|                 9.0|               39.0|                 15.0|             27.0|                8.0|                    9.0|                24.0|                    56.0|                  21.0|                  27.0|                13.0|                5.0|               8.0|               5.0|                3.0|                     5.0|                5.0|                       44.0|              50.0|             1.0|             5.0|             3.0|                  70.0|                63.0|                78.0|                 44.0|                  44.0|                61.0|                68.0|                 43.0|                    19.0|                       36.0|                   14.0|                     10.0|                    27.0|                     15.0|                      18.0|                    7.0|                    18.0|                  14.0|             0.0|              11.0|                49.0|                  3.0|                     0.0|                  41.0|                  23.0|                   6.0|                   2.0|                  79.0|                89.0|                 71.0|            92.0|              87.0|              0.0|           79.0|                      4.0|                    78.0|                         13.0|                  0.0|             12.0|                  39.0|                    16.0|                  40.0|                 33.0|                  31.0|                 0.0|                    0.0|                      0.0|                         0.0|                  0.0|                      0.0|                     0.0|                0.0|                       0.0|                  0.0|                  0.0|                 0.0|                  0.0|                  0.0|                        0.0|                      0.0|                     0.0|             1.0|           45.0|                  20.0|              0.0|                  0.0|                        0.0|                        0.0|                        0.0|                    0.0|                       22.0|\n",
      "|   19|   187|    91370|       FortDodgecity|   1|      0.03|         0.34|        0.06|        0.93|        0.03|       0.03|       0.39|       0.41|       0.28|      0.58|      0.0|     0.0|     0.18|    0.42|        0.81|      0.49|      0.62|       0.37|      0.41|     0.21|     0.22|       0.21|       0.16|        0.12|       0.46|       0.33|      0.28|       0.03|          0.33|            0.3|        0.37|       0.24|         0.32|     0.42|       0.38|           0.48|        0.48|            0.36|           0.5|          0.34|        0.45|       0.49|      0.38|      0.55|        0.6|            0.61|       0.52|               0.64|      0.71|    0.01|    0.19|     0.0|          0.05|        0.04|        0.03|         0.13|           0.0|         0.0|         0.0|         0.01|            0.95|               0.03|           0.14|             0.12|            0.32|             0.39|              0.22|           0.62|            0.04|          0.53|     0.5|      0.04|        0.76|         0.58|            0.41|          0.47|          0.25|          0.24|          0.44|          0.04|        0.04|         0.05|     0.1|      0.13|     0.14|   0.13|              0.4|             0.2|                 0.35|         0.01|      0.0|          0.03|            0.85|           0.6|         0.74|          0.78|           ?|              ?|                ?|                   ?|            ?|                ?|               ?|          ?|                 ?|            ?|            ?|           ?|            ?|            ?|                  ?|                ?|               ?|    0.04|   0.15|          0.04|        ?|            ?|                  ?|                  ?|                0.0|              ?|                0.3|         28.0|          97.0|            498.0|                756.0|         1.0|               3.0|                  5.0|                 6.0|                 5.0|                 1.0|                2.0|                3.0|                4.0|                2.0|              23.0|              0.0|             1.0|              5.0|            33.0|                73.0|              25.0|              31.0|               32.0|              14.0|              1.0|              1.0|               16.0|                2.0|                11.0|               43.0|               14.0|               6.0|                3.0|                  19.0|                    3.0|                13.0|                2.0|                  2.0|             10.0|               15.0|                   12.0|                15.0|                     0.0|                  18.0|                  10.0|                32.0|               19.0|              19.0|              12.0|               23.0|                    27.0|               15.0|                       21.0|              27.0|             1.0|            16.0|             0.0|                  47.0|                61.0|                90.0|                 49.0|                   2.0|                 7.0|                 9.0|                  1.0|                     1.0|                        0.0|                    3.0|                      9.0|                     5.0|                     31.0|                      12.0|                   23.0|                     1.0|                   0.0|             0.0|               3.0|                21.0|                  8.0|                    38.0|                   4.0|                  26.0|                  35.0|                  46.0|                  11.0|                 9.0|                  5.0|             3.0|              11.0|              2.0|           14.0|                      0.0|                    20.0|                          8.0|                  1.0|              0.0|                   0.0|                    28.0|                   5.0|                  0.0|                   4.0|                 0.0|                    0.0|                      0.0|                         0.0|                  0.0|                      0.0|                     0.0|                0.0|                       0.0|                  0.0|                  0.0|                 0.0|                  0.0|                  0.0|                        0.0|                      0.0|                     0.0|             3.0|            4.0|                   4.0|              0.0|                  0.0|                        0.0|                        0.0|                        0.0|                    0.0|                       32.0|\n",
      "|   36|     1|     1000|          Albanycity|   1|      0.15|         0.31|         0.4|        0.63|        0.14|       0.06|       0.58|       0.72|       0.65|      0.47|     0.16|     1.0|     0.22|    0.52|         0.1|      0.51|      0.48|       0.39|      0.51|      0.3|     0.29|       0.34|       0.23|        0.13|        0.2|        0.2|       0.3|       0.15|          0.48|            0.3|        0.38|       0.47|         0.37|     0.44|       0.08|           0.73|        0.21|            0.53|           0.5|          0.94|        0.45|       0.49|      0.36|       0.2|       0.25|            0.25|       0.19|               0.61|      0.65|    0.13|    0.73|    0.05|          0.39|        0.39|        0.46|         0.46|          0.21|        0.19|         0.2|         0.18|            0.81|               0.08|           0.22|             0.13|            0.21|             0.33|              0.22|           0.24|             0.1|           0.6|     0.0|      0.22|        0.64|         0.22|            0.79|           0.6|           0.0|           0.4|          0.26|          0.23|        0.23|         0.23|    0.31|      0.32|     0.36|   0.33|             0.52|            0.35|                  0.4|         0.23|     0.02|          0.23|             0.8|          0.41|         0.53|           0.8|        0.06|            0.3|             0.93|                0.38|         0.05|             0.21|            0.23|        0.3|              0.61|         0.89|         0.15|        0.01|         0.06|         0.12|                0.1|             0.64|            0.22|    0.06|   0.39|          0.84|     0.06|         0.06|               0.91|                0.5|               0.88|           0.26|               0.49|         11.0|           4.0|             17.0|                  6.0|         1.0|              17.0|                 21.0|                38.0|                35.0|                14.0|                5.0|               37.0|               44.0|               57.0|               0.0|             17.0|             0.0|              4.0|             5.0|                13.0|               8.0|              22.0|               48.0|               3.0|              8.0|             11.0|               13.0|                8.0|                 4.0|               10.0|                2.0|               0.0|               15.0|                  54.0|                    3.0|                33.0|               33.0|                 28.0|             24.0|               65.0|                   50.0|                33.0|                    31.0|                  18.0|                  77.0|                32.0|               19.0|              26.0|              89.0|               70.0|                    79.0|               73.0|                       24.0|              13.0|            13.0|            65.0|             5.0|                  17.0|                12.0|                 5.0|                  7.0|                  22.0|                23.0|                28.0|                 20.0|                    16.0|                        6.0|                   11.0|                      8.0|                    45.0|                     37.0|                      12.0|                   67.0|                     6.0|                  12.0|             1.0|              38.0|                34.0|                 81.0|                    66.0|                  31.0|                   0.0|                  30.0|                  18.0|                  18.0|                35.0|                 22.0|             8.0|              22.0|             32.0|           16.0|                      6.0|                    16.0|                         14.0|                 25.0|              2.0|                  24.0|                     8.0|                  32.0|                 30.0|                   5.0|                 7.0|                   24.0|                      5.0|                        31.0|                  5.0|                     11.0|                     1.0|               25.0|                      30.0|                  8.0|                 12.0|                 6.0|                  9.0|                 22.0|                        8.0|                      3.0|                    30.0|             5.0|           39.0|                  93.0|              4.0|                  6.0|                       13.0|                        2.0|                       63.0|                   27.0|                       58.0|\n",
      "|   34|    27|    17650|    Denvilletownship|   1|      0.01|         0.53|        0.01|        0.94|         0.2|       0.03|       0.34|       0.39|       0.27|      0.36|     0.02|    0.76|     0.79|    0.77|        0.13|      0.77|      0.44|       0.15|      0.56|     0.75|     0.69|       0.67|       0.38|         0.0|       0.51|          1|      0.62|        0.0|          0.04|            0.1|        0.18|       0.58|         0.11|     0.68|       0.42|           0.37|        0.21|            0.66|          0.25|           0.4|        0.25|       0.26|      0.52|      0.88|       0.88|            0.97|       0.74|               0.51|      0.48|     0.0|    0.04|    0.01|          0.15|        0.26|        0.32|          0.3|          0.09|        0.14|        0.15|         0.13|            0.82|               0.04|            0.2|             0.21|            0.57|             0.58|              0.34|           0.89|            0.04|          0.27|     0.5|      0.01|        0.88|         0.86|            0.25|          0.54|          0.33|          0.03|          0.08|           0.5|        0.49|          0.5|     0.8|      0.76|     0.96|    0.8|             0.69|            0.52|                 0.65|          0.0|      0.0|          0.26|            0.64|           0.8|         0.74|          0.73|           ?|              ?|                ?|                   ?|            ?|                ?|               ?|          ?|                 ?|            ?|            ?|           ?|            ?|            ?|                  ?|                ?|               ?|    0.03|   0.09|          0.21|        ?|            ?|                  ?|                  ?|                0.0|              ?|               0.07|          1.0|           7.0|            688.0|                337.0|         1.0|               0.0|                 17.0|                 0.0|                 7.0|                18.0|                2.0|                7.0|               15.0|                3.0|               8.0|              1.0|            24.0|             76.0|            30.0|                 9.0|              53.0|              12.0|                6.0|              27.0|             52.0|             64.0|               49.0|               15.0|                 0.0|               48.0|               26.0|              52.0|                1.0|                  10.0|                   11.0|                25.0|               39.0|                 48.0|             27.0|               27.0|                    7.0|                33.0|                    55.0|                  48.0|                   5.0|                41.0|               47.0|              22.0|              49.0|               25.0|                    57.0|               11.0|                        0.0|              18.0|             0.0|             3.0|             1.0|                  27.0|                22.0|                11.0|                 15.0|                  10.0|                16.0|                16.0|                 17.0|                    18.0|                        1.0|                    2.0|                      3.0|                    37.0|                     13.0|                       6.0|                   48.0|                     1.0|                  44.0|             0.0|               0.0|                 1.0|                 52.0|                    31.0|                  30.0|                  24.0|                   1.0|                  20.0|                  30.0|                27.0|                 31.0|            75.0|              77.0|             93.0|           70.0|                     36.0|                    32.0|                         41.0|                  0.0|              0.0|                  29.0|                    22.0|                  46.0|                  0.0|                  11.0|                 0.0|                    0.0|                      0.0|                         0.0|                  0.0|                      0.0|                     0.0|                0.0|                       0.0|                  0.0|                  0.0|                 0.0|                  0.0|                  0.0|                        0.0|                      0.0|                     0.0|             2.0|            0.0|                  23.0|              0.0|                  0.0|                        0.0|                        0.0|                        0.0|                    0.0|                        7.0|\n",
      "|   18|     ?|        ?|      Valparaisocity|   1|      0.02|         0.47|        0.01|        0.97|        0.07|       0.02|        0.7|       0.67|       0.63|      0.37|      0.0|     0.0|     0.33|    0.56|        0.28|      0.62|      0.43|       0.21|       0.4|     0.41|     0.34|       0.32|       0.22|        0.37|       0.69|       0.72|      0.35|       0.02|          0.22|           0.16|        0.24|       0.45|         0.19|     0.48|       0.36|           0.77|        0.25|            0.56|          0.38|          0.58|        0.43|       0.43|      0.41|      0.66|       0.73|            0.72|       0.63|               0.53|       0.6|    0.01|    0.11|     0.0|           0.4|        0.35|        0.37|         0.39|          0.08|        0.06|        0.06|         0.06|            0.95|               0.01|           0.12|             0.11|            0.33|             0.49|              0.19|           0.54|            0.06|          0.55|     0.5|      0.01|        0.89|         0.46|            0.27|          0.43|           0.5|          0.12|          0.05|          0.14|        0.14|         0.14|    0.27|      0.29|      0.3|    0.3|             0.45|            0.22|                 0.28|          0.0|      0.0|          0.08|            0.58|           0.4|         0.49|          0.45|           ?|              ?|                ?|                   ?|            ?|                ?|               ?|          ?|                 ?|            ?|            ?|           ?|            ?|            ?|                  ?|                ?|               ?|    0.03|    0.2|          0.07|        ?|            ?|                  ?|                  ?|                0.0|              ?|               0.15|          9.0|           0.0|              0.0|                745.0|         1.0|               2.0|                 12.0|                 0.0|                 2.0|                 7.0|                1.0|               49.0|               41.0|               60.0|              14.0|              0.0|             1.0|             10.0|             9.0|                15.0|              43.0|              15.0|                3.0|               1.0|             23.0|             18.0|                3.0|                9.0|                31.0|               52.0|               78.0|              11.0|                2.0|                  25.0|                    5.0|                 8.0|               29.0|                 15.0|             11.0|                2.0|                   60.0|                36.0|                    40.0|                   9.0|                  38.0|                27.0|               35.0|              20.0|               5.0|               15.0|                    24.0|                2.0|                       17.0|               4.0|             1.0|            10.0|             0.0|                  22.0|                 6.0|                12.0|                 29.0|                   8.0|                 4.0|                 7.0|                  4.0|                     1.0|                        5.0|                    7.0|                      7.0|                     9.0|                     11.0|                      30.0|                    0.0|                     0.0|                   1.0|             0.0|               0.0|                 3.0|                 13.0|                    34.0|                   3.0|                   4.0|                  13.0|                  12.0|                  10.0|                10.0|                  7.0|            14.0|              20.0|             24.0|           12.0|                     10.0|                    21.0|                          3.0|                  0.0|              0.0|                   9.0|                    18.0|                  37.0|                 39.0|                  39.0|                 0.0|                    0.0|                      0.0|                         0.0|                  0.0|                      0.0|                     0.0|                0.0|                       0.0|                  0.0|                  0.0|                 0.0|                  0.0|                  0.0|                        0.0|                      0.0|                     0.0|             2.0|           17.0|                   7.0|              0.0|                  0.0|                        0.0|                        0.0|                        0.0|                    0.0|                       11.0|\n",
      "|   42|   129|    66376|   Rostravertownship|   1|       0.0|         0.41|        0.05|        0.96|        0.01|       0.01|       0.37|       0.37|       0.24|      0.55|     0.01|    0.58|     0.23|    0.34|        0.33|      0.51|       0.7|       0.36|      0.87|     0.24|     0.22|       0.21|       0.24|        0.15|        0.0|          0|      0.31|       0.01|          0.28|           0.27|        0.38|       0.19|         0.72|     0.25|       0.39|           0.35|        0.49|            0.34|          0.31|          0.29|        0.27|        0.3|      0.41|      0.76|       0.74|            0.83|       0.89|               0.45|      0.31|     0.0|    0.06|     0.0|           0.0|         0.0|         0.0|          0.0|           0.0|         0.0|         0.0|          0.0|            0.94|               0.02|            0.1|             0.12|            0.46|             0.45|              0.41|           0.83|            0.04|          0.42|     0.5|      0.01|        0.75|         0.83|            0.31|          0.84|          0.44|          0.05|          0.18|          0.08|        0.09|          0.1|    0.06|      0.12|     0.15|    0.2|             0.19|             0.2|                 0.28|          0.0|      0.0|          0.02|            0.98|          0.91|         0.78|          0.93|           ?|              ?|                ?|                   ?|            ?|                ?|               ?|          ?|                 ?|            ?|            ?|           ?|            ?|            ?|                  ?|                ?|               ?|    0.09|   0.03|          0.05|        ?|            ?|                  ?|                  ?|                0.0|              ?|               0.03|          5.0|          49.0|            432.0|               1786.0|         1.0|               1.0|                  0.0|                 5.0|                 1.0|                 5.0|                0.0|                5.0|               22.0|                6.0|               9.0|             10.0|            18.0|              0.0|            44.0|                23.0|               8.0|              49.0|               38.0|              86.0|              5.0|              1.0|               16.0|               12.0|                 2.0|               23.0|                0.0|               4.0|                0.0|                  24.0|                    8.0|                33.0|               15.0|                 65.0|             59.0|                3.0|                    9.0|                41.0|                     1.0|                  25.0|                  19.0|                38.0|               21.0|              20.0|              47.0|               12.0|                     6.0|               74.0|                       12.0|              55.0|             0.0|             1.0|             0.0|                   0.0|                 0.0|                31.0|                 60.0|                   2.0|                 7.0|                 9.0|                 11.0|                     3.0|                        2.0|                   15.0|                      9.0|                    12.0|                      0.0|                      15.0|                   50.0|                     1.0|                  15.0|             0.0|               0.0|                11.0|                 43.0|                    28.0|                  74.0|                  20.0|                   3.0|                   4.0|                   6.0|                 3.0|                  9.0|            26.0|              28.0|             27.0|            4.0|                     61.0|                    20.0|                          3.0|                  0.0|              0.0|                   3.0|                    78.0|                  65.0|                 22.0|                  56.0|                 0.0|                    0.0|                      0.0|                         0.0|                  0.0|                      0.0|                     0.0|                0.0|                       0.0|                  0.0|                  0.0|                 0.0|                  0.0|                  0.0|                        0.0|                      0.0|                     0.0|             9.0|           22.0|                   5.0|              0.0|                  0.0|                        0.0|                        0.0|                        0.0|                    0.0|                        0.0|\n",
      "+-----+------+---------+--------------------+----+----------+-------------+------------+------------+------------+-----------+-----------+-----------+-----------+----------+---------+--------+---------+--------+------------+----------+----------+-----------+----------+---------+---------+-----------+-----------+------------+-----------+-----------+----------+-----------+--------------+---------------+------------+-----------+-------------+---------+-----------+---------------+------------+----------------+--------------+--------------+------------+-----------+----------+----------+-----------+----------------+-----------+-------------------+----------+--------+--------+--------+--------------+------------+------------+-------------+--------------+------------+------------+-------------+----------------+-------------------+---------------+-----------------+----------------+-----------------+------------------+---------------+----------------+--------------+--------+----------+------------+-------------+----------------+--------------+--------------+--------------+--------------+--------------+------------+-------------+--------+----------+---------+-------+-----------------+----------------+---------------------+-------------+---------+--------------+----------------+--------------+-------------+--------------+------------+---------------+-----------------+--------------------+-------------+-----------------+----------------+-----------+------------------+-------------+-------------+------------+-------------+-------------+-------------------+-----------------+----------------+--------+-------+--------------+---------+-------------+-------------------+-------------------+-------------------+---------------+-------------------+-------------+--------------+-----------------+---------------------+------------+------------------+---------------------+--------------------+--------------------+--------------------+-------------------+-------------------+-------------------+-------------------+------------------+-----------------+----------------+-----------------+----------------+--------------------+------------------+------------------+-------------------+------------------+-----------------+-----------------+-------------------+-------------------+--------------------+-------------------+-------------------+------------------+-------------------+----------------------+-----------------------+--------------------+-------------------+---------------------+-----------------+-------------------+-----------------------+--------------------+------------------------+----------------------+----------------------+--------------------+-------------------+------------------+------------------+-------------------+------------------------+-------------------+---------------------------+------------------+----------------+----------------+----------------+----------------------+--------------------+--------------------+---------------------+----------------------+--------------------+--------------------+---------------------+------------------------+---------------------------+-----------------------+-------------------------+------------------------+-------------------------+--------------------------+-----------------------+------------------------+----------------------+----------------+------------------+--------------------+---------------------+------------------------+----------------------+----------------------+----------------------+----------------------+----------------------+--------------------+---------------------+----------------+------------------+-----------------+---------------+-------------------------+------------------------+-----------------------------+---------------------+-----------------+----------------------+------------------------+----------------------+---------------------+----------------------+--------------------+-----------------------+-------------------------+----------------------------+---------------------+-------------------------+------------------------+-------------------+--------------------------+---------------------+---------------------+--------------------+---------------------+---------------------+---------------------------+-------------------------+------------------------+----------------+---------------+----------------------+-----------------+---------------------+---------------------------+---------------------------+---------------------------+-----------------------+---------------------------+\n",
      "only showing top 20 rows\n",
      "\n"
     ]
    }
   ],
   "source": [
    "#Label encoder\n",
    "from pyspark.ml.feature import StringIndexer\n",
    "indexed = df\n",
    "for col in df.columns:\n",
    "    stringIndexer = StringIndexer(inputCol=col, outputCol=col+\"_encoded\")\n",
    "    indexed = stringIndexer.fit(indexed).transform(indexed)\n",
    "indexed.show()"
   ]
  },
  {
   "cell_type": "code",
   "execution_count": 38,
   "metadata": {},
   "outputs": [
    {
     "name": "stdout",
     "output_type": "stream",
     "text": [
      "+--------------------+\n",
      "|            features|\n",
      "+--------------------+\n",
      "|[0.19,0.33,0.02,0...|\n",
      "|[0.0,0.16,0.12,0....|\n",
      "|[0.0,0.42,0.49,0....|\n",
      "|[0.04,0.77,1.0,0....|\n",
      "|[0.01,0.55,0.02,0...|\n",
      "+--------------------+\n",
      "only showing top 5 rows\n",
      "\n"
     ]
    }
   ],
   "source": [
    "from pyspark.ml.feature import VectorAssembler\n",
    "assembler = VectorAssembler(inputCols=[\"population\",\"householdsize\",\"racepctblack\",\"racePctWhite\",\"racePctAsian\",\n",
    "                                      \"racePctHisp\",\"agePct12t21\",\"agePct12t29\",\"agePct16t24\",\"agePct65up\",\"numbUrban\",\"pctUrban\",\"medIncome\",\n",
    "                                      \"pctWWage\",\"pctWFarmSelf\",\"pctWInvInc\",\"pctWSocSec\",\"pctWPubAsst\",\"pctWRetire\",\"medFamInc\",\n",
    "                                       \"NumUnderPov\",\"PctPopUnderPov\",\"PctLess9thGrade\",\"PctNotHSGrad\",\"PctBSorMore\",\"PctUnemployed\",\n",
    "                                      \"PctEmploy\",\"PctEmplManu\",\"PctEmplProfServ\",\"PctOccupManu\",\"PctOccupMgmtProf\",\"MalePctDivorce\",\n",
    "                                      \"MalePctNevMarr\",\"FemalePctDiv\",\"TotalPctDiv\",\"PersPerFam\",\"PctFam2Par\",\"PctKids2Par\", \n",
    "                                       \"PctYoungKids2Par\",\"PctTeen2Par\",\"PctWorkMomYoungKids\",\"PctWorkMom\",\"NumIlleg\",\"PctIlleg\", \n",
    "                                       \"NumImmig\",\"PctImmigRecent\",\"PctImmigRec5\",\"PctImmigRec8\",\"PctImmigRec10\",\"PctRecentImmig\",\n",
    "                                      \"PctRecImmig5\",\"PctRecImmig8\",\"PctRecImmig10\",\"PctSpeakEnglOnly\",\"PctNotSpeakEnglWell\",\n",
    "                                       \"PctLargHouseFam\",\"PctLargHouseOccup\",\"PersPerOccupHous\",\"PersPerOwnOccHous\",\"PersPerRentOccHous\",\n",
    "                                       \"PctPersOwnOccup\",\"PctPersDenseHous\",\"PctHousLess3BR\",\"MedNumBR\",\"HousVacant\",\"PctHousOccup\",\n",
    "                                       \"PctWOFullPlumb\",\"OwnOccLowQuart\",\"OwnOccMedVal\",\"OwnOccHiQuart\",\"RentLowQ\",\"RentMedian\",\n",
    "                                       \"RentHighQ\",\"MedRent\",\"MedRentPctHousInc\",\"MedOwnCostPctInc\",\"MedOwnCostPctIncNoMtg\",\"NumInShelters\",  \n",
    "                                       \"NumStreet\",\"PctForeignBorn\",\"PctBornSameState\",\"PctSameHouse85\",\"PctSameCity85\",\"PctSameState85\",\n",
    "                                       ],             \n",
    "                            outputCol=\"features\")\n",
    "feature_vec=assembler.transform(indexed)\n",
    "feature_vec.select(\"features\").show(5)"
   ]
  },
  {
   "cell_type": "code",
   "execution_count": 41,
   "metadata": {},
   "outputs": [],
   "source": [
    "# Split the data into train and test sets\n",
    "train_data, test_data = feature_vec.randomSplit([.75,.25],seed=0)"
   ]
  },
  {
   "cell_type": "code",
   "execution_count": 43,
   "metadata": {},
   "outputs": [
    {
     "name": "stdout",
     "output_type": "stream",
     "text": [
      "0.32357142769840747 [0.3081051859141622,0.003829961225165581,0.2280776660575105,0.07376422289856018,0.010786676563683404,0.08955697567185526,0.09796663289592407,-0.18181862504776422,-0.13360849644641182,0.05977172279372951,-0.34942471111754964,0.05391541310829473,-0.07349288783952752,-0.1797519767735682,0.05541226252031406,-0.1561351612180503,0.05001881531622912,-0.004650508833794684,-0.06705884838728073,-0.10850635277941952,-0.09097834977773489,-0.15358755441856622,-0.1296545602500852,0.08847586922088242,0.08669051301478067,0.02941414649384259,0.2126585420278939,-0.0515389934172126,-0.028821375564630373,0.06853832994666513,0.09138503245673031,0.4199981875593981,0.21176647183328842,0.045896896844587906,-0.42002402844388925,-0.055008626547179994,-0.015385140462660327,-0.34134784207421476,-0.046265498448326614,0.06253552135253432,0.047718140127394774,-0.16391475110360237,-0.10567233690696774,0.1671897667621964,-0.1639251731298556,0.04726838287896496,-0.03732702414267312,-0.02159294082004851,0.03128306011773097,-0.050757598994808334,-0.09257262082551279,0.1689237454189437,-0.03960025378603574,-0.024355145682109,-0.16027237351099555,0.028898502769542905,-0.23988637336764929,0.7362369193106139,-0.20169679945544033,-0.1714755965257913,-0.1328238497923568,0.1962534745339014,0.09866348399585391,0.026520525954036065,0.251017010181093,-0.01802384757722286,0.002199216320792527,-0.38940233851099576,0.43147784120317917,-0.11400429665494632,-0.28805969353428357,0.19174083929192262,-0.08117584637426788,0.294283580504174,0.04555576907472338,-0.09081184314878187,-0.09685314543011939,0.09810339339154919,0.23830843280001027,0.12896352225279373,-0.021691741380991596,-0.06882254210919896,0.02485685470658185,0.0665716261899225]\n"
     ]
    }
   ],
   "source": [
    "from pyspark.ml.regression import LinearRegression\n",
    "# Create initial LinearRegression model\n",
    "lr = LinearRegression(labelCol=\"ViolentCrimesPerPop\", featuresCol=\"features\", \n",
    " regParam=0.0001, \n",
    "elasticNetParam=0.0)\n",
    "# Train model with Training Data\n",
    "lrModel = lr.fit(train_data)\n",
    "print(lrModel.intercept,lrModel.coefficients)"
   ]
  },
  {
   "cell_type": "code",
   "execution_count": 44,
   "metadata": {},
   "outputs": [
    {
     "data": {
      "text/plain": [
       "0.6506757922695572"
      ]
     },
     "execution_count": 44,
     "metadata": {},
     "output_type": "execute_result"
    }
   ],
   "source": [
    "predictions = lrModel.transform(test_data)\n",
    "from pyspark.ml.evaluation import RegressionEvaluator\n",
    "evaluator = RegressionEvaluator(labelCol=\"ViolentCrimesPerPop\",metricName='r2')\n",
    "evaluator.evaluate(predictions)"
   ]
  },
  {
   "cell_type": "code",
   "execution_count": 47,
   "metadata": {},
   "outputs": [],
   "source": [
    "#Grid Search\n",
    "from pyspark.ml.tuning import ParamGridBuilder, CrossValidator\n",
    "\n",
    "paramGrid = (ParamGridBuilder()\\\n",
    "             .addGrid(lr.regParam,[0.001,0.01,0.1,1])\\\n",
    "             .addGrid(lr.elasticNetParam,[0.0,0.5,1.0])\\\n",
    "             .build())\n",
    "\n",
    "# Create 4-fold CrossValidator\n",
    "cv = CrossValidator(estimator=lr, estimatorParamMaps=paramGrid, evaluator=evaluator, numFolds=4)\n",
    "\n",
    "cvModel = cv.fit(train_data)\n"
   ]
  },
  {
   "cell_type": "code",
   "execution_count": 48,
   "metadata": {},
   "outputs": [
    {
     "data": {
      "text/plain": [
       "[(0.648595020986638,\n",
       "  {Param(parent='LinearRegression_4eee9b583f5430db00d2', name='regParam', doc='regularization parameter (>= 0).'): 0.001,\n",
       "   Param(parent='LinearRegression_4eee9b583f5430db00d2', name='elasticNetParam', doc='the ElasticNet mixing parameter, in range [0, 1]. For alpha = 0, the penalty is an L2 penalty. For alpha = 1, it is an L1 penalty.'): 0.0}),\n",
       " (0.6486600625404435,\n",
       "  {Param(parent='LinearRegression_4eee9b583f5430db00d2', name='regParam', doc='regularization parameter (>= 0).'): 0.001,\n",
       "   Param(parent='LinearRegression_4eee9b583f5430db00d2', name='elasticNetParam', doc='the ElasticNet mixing parameter, in range [0, 1]. For alpha = 0, the penalty is an L2 penalty. For alpha = 1, it is an L1 penalty.'): 0.5}),\n",
       " (0.6492411917641094,\n",
       "  {Param(parent='LinearRegression_4eee9b583f5430db00d2', name='regParam', doc='regularization parameter (>= 0).'): 0.001,\n",
       "   Param(parent='LinearRegression_4eee9b583f5430db00d2', name='elasticNetParam', doc='the ElasticNet mixing parameter, in range [0, 1]. For alpha = 0, the penalty is an L2 penalty. For alpha = 1, it is an L1 penalty.'): 1.0}),\n",
       " (0.650017525606133,\n",
       "  {Param(parent='LinearRegression_4eee9b583f5430db00d2', name='regParam', doc='regularization parameter (>= 0).'): 0.01,\n",
       "   Param(parent='LinearRegression_4eee9b583f5430db00d2', name='elasticNetParam', doc='the ElasticNet mixing parameter, in range [0, 1]. For alpha = 0, the penalty is an L2 penalty. For alpha = 1, it is an L1 penalty.'): 0.0}),\n",
       " (0.6477416032803897,\n",
       "  {Param(parent='LinearRegression_4eee9b583f5430db00d2', name='regParam', doc='regularization parameter (>= 0).'): 0.01,\n",
       "   Param(parent='LinearRegression_4eee9b583f5430db00d2', name='elasticNetParam', doc='the ElasticNet mixing parameter, in range [0, 1]. For alpha = 0, the penalty is an L2 penalty. For alpha = 1, it is an L1 penalty.'): 0.5}),\n",
       " (0.6409980416395915,\n",
       "  {Param(parent='LinearRegression_4eee9b583f5430db00d2', name='regParam', doc='regularization parameter (>= 0).'): 0.01,\n",
       "   Param(parent='LinearRegression_4eee9b583f5430db00d2', name='elasticNetParam', doc='the ElasticNet mixing parameter, in range [0, 1]. For alpha = 0, the penalty is an L2 penalty. For alpha = 1, it is an L1 penalty.'): 1.0}),\n",
       " (0.6409933954499006,\n",
       "  {Param(parent='LinearRegression_4eee9b583f5430db00d2', name='regParam', doc='regularization parameter (>= 0).'): 0.1,\n",
       "   Param(parent='LinearRegression_4eee9b583f5430db00d2', name='elasticNetParam', doc='the ElasticNet mixing parameter, in range [0, 1]. For alpha = 0, the penalty is an L2 penalty. For alpha = 1, it is an L1 penalty.'): 0.0}),\n",
       " (0.5334212253433008,\n",
       "  {Param(parent='LinearRegression_4eee9b583f5430db00d2', name='regParam', doc='regularization parameter (>= 0).'): 0.1,\n",
       "   Param(parent='LinearRegression_4eee9b583f5430db00d2', name='elasticNetParam', doc='the ElasticNet mixing parameter, in range [0, 1]. For alpha = 0, the penalty is an L2 penalty. For alpha = 1, it is an L1 penalty.'): 0.5}),\n",
       " (0.3889712203171978,\n",
       "  {Param(parent='LinearRegression_4eee9b583f5430db00d2', name='regParam', doc='regularization parameter (>= 0).'): 0.1,\n",
       "   Param(parent='LinearRegression_4eee9b583f5430db00d2', name='elasticNetParam', doc='the ElasticNet mixing parameter, in range [0, 1]. For alpha = 0, the penalty is an L2 penalty. For alpha = 1, it is an L1 penalty.'): 1.0}),\n",
       " (0.5763443563289143,\n",
       "  {Param(parent='LinearRegression_4eee9b583f5430db00d2', name='regParam', doc='regularization parameter (>= 0).'): 1,\n",
       "   Param(parent='LinearRegression_4eee9b583f5430db00d2', name='elasticNetParam', doc='the ElasticNet mixing parameter, in range [0, 1]. For alpha = 0, the penalty is an L2 penalty. For alpha = 1, it is an L1 penalty.'): 0.0}),\n",
       " (-0.0064354420111836785,\n",
       "  {Param(parent='LinearRegression_4eee9b583f5430db00d2', name='regParam', doc='regularization parameter (>= 0).'): 1,\n",
       "   Param(parent='LinearRegression_4eee9b583f5430db00d2', name='elasticNetParam', doc='the ElasticNet mixing parameter, in range [0, 1]. For alpha = 0, the penalty is an L2 penalty. For alpha = 1, it is an L1 penalty.'): 0.5}),\n",
       " (-0.0064354420111836785,\n",
       "  {Param(parent='LinearRegression_4eee9b583f5430db00d2', name='regParam', doc='regularization parameter (>= 0).'): 1,\n",
       "   Param(parent='LinearRegression_4eee9b583f5430db00d2', name='elasticNetParam', doc='the ElasticNet mixing parameter, in range [0, 1]. For alpha = 0, the penalty is an L2 penalty. For alpha = 1, it is an L1 penalty.'): 1.0})]"
      ]
     },
     "execution_count": 48,
     "metadata": {},
     "output_type": "execute_result"
    }
   ],
   "source": [
    "list(zip(cvModel.avgMetrics, cvModel.getEstimatorParamMaps()))"
   ]
  },
  {
   "cell_type": "code",
   "execution_count": 51,
   "metadata": {},
   "outputs": [
    {
     "data": {
      "text/plain": [
       "(0.650017525606133,\n",
       " {Param(parent='LinearRegression_4eee9b583f5430db00d2', name='regParam', doc='regularization parameter (>= 0).'): 0.01,\n",
       "  Param(parent='LinearRegression_4eee9b583f5430db00d2', name='elasticNetParam', doc='the ElasticNet mixing parameter, in range [0, 1]. For alpha = 0, the penalty is an L2 penalty. For alpha = 1, it is an L1 penalty.'): 0.0})"
      ]
     },
     "execution_count": 51,
     "metadata": {},
     "output_type": "execute_result"
    }
   ],
   "source": [
    "#Best Model Params\n",
    "score_params_list = list(zip(cvModel.avgMetrics, cvModel.getEstimatorParamMaps()))\n",
    "max(score_params_list,key=lambda item:item[0])"
   ]
  },
  {
   "cell_type": "code",
   "execution_count": 52,
   "metadata": {},
   "outputs": [
    {
     "name": "stdout",
     "output_type": "stream",
     "text": [
      "0.4382483166854913 [-0.007954849124808875,0.034842675651947035,0.1518583347709552,-0.039700486232883525,-0.01241537340980726,0.03587819985263252,0.011234884023634317,-0.13413973009052327,-0.023596893575041092,0.03733001563806814,-0.03866351266608238,0.04018390579741587,0.016903890849566405,-0.06840957222881411,0.0369865519575348,-0.1253631905276624,0.03004407074193142,0.006384190734395918,-0.06586524298640582,-0.03409739988772097,-0.03147245337796149,-0.08377805534349955,-0.06936656129932736,0.030079577904590142,0.005487620418190879,-0.0017369331304282623,0.07889387324734329,-0.032845491374890005,-0.010323749046846364,0.029842502223395077,0.031071992896838777,0.1289210396399334,0.0944665014391481,-0.060624302259453866,-0.001793798912241059,0.06505069240623493,-0.08611716885109848,-0.14987186074366435,-0.07785013480470779,0.018252918275120954,0.02276208322768165,-0.11712592360981831,-0.056436030119908207,0.18233060815469457,-0.1267034842208261,0.02702198871022737,-0.03860050567942048,-0.004666139416314646,0.013867014122482616,-0.015964631446994542,-0.010497379625386943,0.019035624889842857,0.02749536836111652,-0.004707366068178106,-0.05337826410134761,-0.029192586970927064,-0.05260261433328104,0.11703173844203571,-0.047291750404960343,-0.010388519082063053,-0.05875173872663159,0.10095374069201751,0.06072440088956314,0.013440972540068142,0.1840901962872539,-0.04774515103724306,0.005829709997522723,-0.04407972411299606,0.005748777569219858,0.01413263894194176,-0.12387262336814386,0.04428634599711084,0.024800852531125687,0.09843869970287969,0.04776155483105744,-0.05953492336707988,-0.0898784341466513,0.07590755202400036,0.23099501765675393,0.05135985704537376,-0.02368298882703262,-0.01683440367080373,0.03088740790532793,0.030810714037377614]\n"
     ]
    },
    {
     "data": {
      "text/plain": [
       "0.6620025187931192"
      ]
     },
     "execution_count": 52,
     "metadata": {},
     "output_type": "execute_result"
    }
   ],
   "source": [
    "model = LinearRegression(labelCol=\"ViolentCrimesPerPop\",featuresCol=\"features\",\n",
    " regParam=0.01,\n",
    "elasticNetParam=0.0)\n",
    "lrModel = model.fit(train_data)\n",
    "print(lrModel.intercept,lrModel.coefficients)\n",
    "#Evaluation of the Model\n",
    "predictions = lrModel.transform(test_data)\n",
    "from pyspark.ml.evaluation import RegressionEvaluator\n",
    "evaluator = RegressionEvaluator(labelCol=\"ViolentCrimesPerPop\",metricName='r2')\n",
    "evaluator.evaluate(predictions)"
   ]
  },
  {
   "cell_type": "code",
   "execution_count": null,
   "metadata": {},
   "outputs": [],
   "source": [
    "conclusion-"
   ]
  },
  {
   "attachments": {
    "image.png": {
     "image/png": "[encoded data removed]"
    }
   },
   "cell_type": "markdown",
   "metadata": {},
   "source": [
    " in the linear regression analysis explains only 35% variation in the response variable \"ViolentCrimesPerPop\".\n",
    "\n",
    "The linear regression model developed will be incomplete without considering the other 120+ explanatory variables available in the dataset. We would also like to see what other variables has had \n",
    "significant effect on violent and non-violent crime rates\n",
    "\n",
    "Given below is the score of all the models and i found randomforest is the best model among all    \n",
    "\n",
    "\n",
    "![image.png](attachment:image.png)\n",
    "\n",
    "\n",
    "\n",
    "\n",
    "\n"
   ]
  },
  {
   "cell_type": "code",
   "execution_count": null,
   "metadata": {},
   "outputs": [],
   "source": []
  },
  {
   "cell_type": "code",
   "execution_count": null,
   "metadata": {},
   "outputs": [],
   "source": []
  },
  {
   "cell_type": "code",
   "execution_count": null,
   "metadata": {},
   "outputs": [],
   "source": []
  }
 ],
 "metadata": {
  "kernelspec": {
   "display_name": "Python 3",
   "language": "python",
   "name": "python3"
  },
  "language_info": {
   "codemirror_mode": {
    "name": "ipython",
    "version": 3
   },
   "file_extension": ".py",
   "mimetype": "text/x-python",
   "name": "python",
   "nbconvert_exporter": "python",
   "pygments_lexer": "ipython3",
   "version": "3.8.5"
  },
  "toc": {
   "base_numbering": 1,
   "nav_menu": {},
   "number_sections": true,
   "sideBar": true,
   "skip_h1_title": false,
   "title_cell": "Table of Contents",
   "title_sidebar": "Contents",
   "toc_cell": false,
   "toc_position": {},
   "toc_section_display": true,
   "toc_window_display": false
  }
 },
 "nbformat": 4,
 "nbformat_minor": 4
}
